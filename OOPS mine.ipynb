{
 "cells": [
  {
   "cell_type": "code",
   "execution_count": 16,
   "id": "388ff5a0",
   "metadata": {
    "ExecuteTime": {
     "end_time": "2022-05-04T12:09:18.219823Z",
     "start_time": "2022-05-04T12:09:18.205823Z"
    }
   },
   "outputs": [],
   "source": [
    "class car:\n",
    "    def __init__(self,a,b,c):\n",
    "        self.a=a\n",
    "        self.b=b\n",
    "        self.c=c\n",
    "        \n",
    "    def test1(self):\n",
    "        print('this is a test1 function')"
   ]
  },
  {
   "cell_type": "code",
   "execution_count": 17,
   "id": "ab399e9a",
   "metadata": {
    "ExecuteTime": {
     "end_time": "2022-05-04T12:09:18.677991Z",
     "start_time": "2022-05-04T12:09:18.667526Z"
    }
   },
   "outputs": [],
   "source": [
    "innova=car(1,2,3)"
   ]
  },
  {
   "cell_type": "code",
   "execution_count": 38,
   "id": "4494953c",
   "metadata": {
    "ExecuteTime": {
     "end_time": "2022-05-04T12:14:30.759693Z",
     "start_time": "2022-05-04T12:14:30.753204Z"
    }
   },
   "outputs": [],
   "source": [
    "class car1:\n",
    "    def __init__(self,a,b,c):\n",
    "        self.a=a\n",
    "        self.b=b\n",
    "        self.c=input()\n",
    "        \n",
    "    def test1(self):\n",
    "        print('this is a test1 function')"
   ]
  },
  {
   "cell_type": "code",
   "execution_count": 35,
   "id": "b43b58bc",
   "metadata": {
    "ExecuteTime": {
     "end_time": "2022-05-04T12:11:55.917295Z",
     "start_time": "2022-05-04T12:11:54.092140Z"
    }
   },
   "outputs": [
    {
     "name": "stdout",
     "output_type": "stream",
     "text": [
      "12\n"
     ]
    }
   ],
   "source": [
    "audi = car1(1,2,3)\n"
   ]
  },
  {
   "cell_type": "code",
   "execution_count": 36,
   "id": "b2e67490",
   "metadata": {
    "ExecuteTime": {
     "end_time": "2022-05-04T12:12:00.624480Z",
     "start_time": "2022-05-04T12:12:00.611512Z"
    }
   },
   "outputs": [
    {
     "data": {
      "text/plain": [
       "'12'"
      ]
     },
     "execution_count": 36,
     "metadata": {},
     "output_type": "execute_result"
    }
   ],
   "source": [
    "audi.c"
   ]
  },
  {
   "cell_type": "code",
   "execution_count": 47,
   "id": "6296454b",
   "metadata": {
    "ExecuteTime": {
     "end_time": "2022-05-04T12:17:01.006482Z",
     "start_time": "2022-05-04T12:17:00.993332Z"
    }
   },
   "outputs": [],
   "source": [
    "class car3:\n",
    "    def __init__(self,e,f,cg):\n",
    "        self.a=e\n",
    "        self.b=f\n",
    "        self.c=cg\n",
    "        \n",
    "    def test1(self):\n",
    "        print('this is a test1 function')"
   ]
  },
  {
   "cell_type": "code",
   "execution_count": 48,
   "id": "e43edc86",
   "metadata": {
    "ExecuteTime": {
     "end_time": "2022-05-04T12:17:01.430619Z",
     "start_time": "2022-05-04T12:17:01.413656Z"
    }
   },
   "outputs": [],
   "source": [
    "jeep=car3(1,2,3)"
   ]
  },
  {
   "cell_type": "code",
   "execution_count": 50,
   "id": "c0f835e3",
   "metadata": {
    "ExecuteTime": {
     "end_time": "2022-05-04T12:17:17.173997Z",
     "start_time": "2022-05-04T12:17:17.164419Z"
    }
   },
   "outputs": [
    {
     "data": {
      "text/plain": [
       "1"
      ]
     },
     "execution_count": 50,
     "metadata": {},
     "output_type": "execute_result"
    }
   ],
   "source": [
    "jeep.a"
   ]
  },
  {
   "cell_type": "code",
   "execution_count": 52,
   "id": "7033940a",
   "metadata": {
    "ExecuteTime": {
     "end_time": "2022-05-04T12:17:54.489501Z",
     "start_time": "2022-05-04T12:17:54.480235Z"
    }
   },
   "outputs": [
    {
     "name": "stdout",
     "output_type": "stream",
     "text": [
      "this is a test1 function\n"
     ]
    }
   ],
   "source": [
    "jeep.test1()"
   ]
  },
  {
   "cell_type": "code",
   "execution_count": 53,
   "id": "34a1ce31",
   "metadata": {
    "ExecuteTime": {
     "end_time": "2022-05-04T12:20:42.309882Z",
     "start_time": "2022-05-04T12:20:42.295445Z"
    }
   },
   "outputs": [],
   "source": [
    "class car4:\n",
    "    def test(self,b,c):\n",
    "        print('this is test one')"
   ]
  },
  {
   "cell_type": "code",
   "execution_count": 54,
   "id": "16c33b43",
   "metadata": {
    "ExecuteTime": {
     "end_time": "2022-05-04T12:20:52.803014Z",
     "start_time": "2022-05-04T12:20:52.792950Z"
    }
   },
   "outputs": [],
   "source": [
    "benz=car4()"
   ]
  },
  {
   "cell_type": "code",
   "execution_count": 56,
   "id": "8585642f",
   "metadata": {
    "ExecuteTime": {
     "end_time": "2022-05-04T12:21:11.950440Z",
     "start_time": "2022-05-04T12:21:11.940466Z"
    }
   },
   "outputs": [
    {
     "name": "stdout",
     "output_type": "stream",
     "text": [
      "this is test one\n"
     ]
    }
   ],
   "source": [
    "benz.test(1,2)"
   ]
  },
  {
   "cell_type": "code",
   "execution_count": 1,
   "id": "131c808d",
   "metadata": {
    "ExecuteTime": {
     "end_time": "2022-05-04T12:58:46.140990Z",
     "start_time": "2022-05-04T12:58:46.127041Z"
    }
   },
   "outputs": [],
   "source": [
    "dicto = {'a':'A','b':'B',\"c\":'C','d':1}\n",
    "import logging as lg\n",
    "lg.basicConfig(filename='dict.log')\n",
    "class dict_parser:\n",
    "    def __init__(self,dicto):\n",
    "        self.dicto=dicto\n",
    "    def get_keys(self):\n",
    "        try:\n",
    "            return dicto.keys()\n",
    "        except:\n",
    "            self.logger('enter dicto')\n",
    "    def get_values(self):\n",
    "        return dicto.values()\n",
    "    def exception1(self):\n",
    "        if type(self.dicto)!= dict:\n",
    "            raise ('its not a dict')\n",
    "    def new_pair(self):\n",
    "        key1=eval(input('key'))\n",
    "        val1=eval(input('val'))\n",
    "        self.dicto[key1]=val1\n",
    "        return self.dicto\n",
    "       \n",
    "    def user(self):\n",
    "        self.dicto={}\n",
    "        counter=0\n",
    "        while counter <4:\n",
    "            key = input()\n",
    "            value = input()\n",
    "            self.dicto[key]=value\n",
    "            counter = counter+1\n",
    "        return self.dicto\n",
    "       "
   ]
  },
  {
   "cell_type": "code",
   "execution_count": 2,
   "id": "52b18f90",
   "metadata": {
    "ExecuteTime": {
     "end_time": "2022-05-04T12:58:48.282204Z",
     "start_time": "2022-05-04T12:58:48.264093Z"
    }
   },
   "outputs": [],
   "source": [
    "dicto1 = dict_parser(dicto)"
   ]
  },
  {
   "cell_type": "code",
   "execution_count": 3,
   "id": "14e78c67",
   "metadata": {
    "ExecuteTime": {
     "end_time": "2022-05-04T12:41:55.325528Z",
     "start_time": "2022-05-04T12:41:55.312297Z"
    }
   },
   "outputs": [
    {
     "data": {
      "text/plain": [
       "dict_keys(['a', 'b', 'c', 'd'])"
      ]
     },
     "execution_count": 3,
     "metadata": {},
     "output_type": "execute_result"
    }
   ],
   "source": [
    "dicto1.get_keys()"
   ]
  },
  {
   "cell_type": "code",
   "execution_count": 4,
   "id": "4e9c3417",
   "metadata": {
    "ExecuteTime": {
     "end_time": "2022-05-04T12:41:55.495702Z",
     "start_time": "2022-05-04T12:41:55.482736Z"
    }
   },
   "outputs": [
    {
     "data": {
      "text/plain": [
       "dict_values(['A', 'B', 'C', 1])"
      ]
     },
     "execution_count": 4,
     "metadata": {},
     "output_type": "execute_result"
    }
   ],
   "source": [
    "dicto1.get_values()"
   ]
  },
  {
   "cell_type": "code",
   "execution_count": 5,
   "id": "50d4bcde",
   "metadata": {
    "ExecuteTime": {
     "end_time": "2022-05-04T12:41:55.665358Z",
     "start_time": "2022-05-04T12:41:55.650399Z"
    }
   },
   "outputs": [],
   "source": [
    "dicto1.exception1()"
   ]
  },
  {
   "cell_type": "code",
   "execution_count": 6,
   "id": "2cf3844c",
   "metadata": {
    "ExecuteTime": {
     "end_time": "2022-05-04T12:41:59.725156Z",
     "start_time": "2022-05-04T12:41:56.210263Z"
    }
   },
   "outputs": [
    {
     "name": "stdout",
     "output_type": "stream",
     "text": [
      "12\n",
      "dict_keys(['a', 'b', 'c', 'd'])\n",
      "dict_values(['A', 'B', 'C', 1])\n"
     ]
    }
   ],
   "source": [
    "dicto1.user()"
   ]
  },
  {
   "cell_type": "code",
   "execution_count": 3,
   "id": "7a768bca",
   "metadata": {
    "ExecuteTime": {
     "end_time": "2022-05-04T12:54:27.647326Z",
     "start_time": "2022-05-04T12:54:23.893126Z"
    }
   },
   "outputs": [
    {
     "name": "stdout",
     "output_type": "stream",
     "text": [
      "key12\n",
      "val15\n"
     ]
    },
    {
     "data": {
      "text/plain": [
       "{'a': 'A', 'b': 'B', 'c': 'C', 'd': 1, 12: 15}"
      ]
     },
     "execution_count": 3,
     "metadata": {},
     "output_type": "execute_result"
    }
   ],
   "source": [
    "dicto1.new_pair()"
   ]
  },
  {
   "cell_type": "code",
   "execution_count": 3,
   "id": "dc1ce621",
   "metadata": {
    "ExecuteTime": {
     "end_time": "2022-05-04T12:59:08.656845Z",
     "start_time": "2022-05-04T12:58:54.349150Z"
    }
   },
   "outputs": [
    {
     "name": "stdout",
     "output_type": "stream",
     "text": [
      "12\n",
      "123\n",
      "45\n",
      "456\n",
      "78\n",
      "789\n",
      "as\n",
      "asd\n"
     ]
    },
    {
     "data": {
      "text/plain": [
       "{'12': '123', '45': '456', '78': '789', 'as': 'asd'}"
      ]
     },
     "execution_count": 3,
     "metadata": {},
     "output_type": "execute_result"
    }
   ],
   "source": [
    "dicto1.user()"
   ]
  },
  {
   "cell_type": "markdown",
   "id": "55b70969",
   "metadata": {},
   "source": [
    "# child class:-"
   ]
  },
  {
   "cell_type": "code",
   "execution_count": 4,
   "id": "fd2974d4",
   "metadata": {
    "ExecuteTime": {
     "end_time": "2022-05-04T13:01:51.695117Z",
     "start_time": "2022-05-04T13:01:51.677084Z"
    }
   },
   "outputs": [],
   "source": [
    "class xyz:\n",
    "    def __init__(self,a,b,c):\n",
    "        self.a=a\n",
    "        self.b=b\n",
    "        self.c=c\n",
    "        \n",
    "    def test1(self):\n",
    "        print('this is a test1 function')"
   ]
  },
  {
   "cell_type": "code",
   "execution_count": 5,
   "id": "b757a9b0",
   "metadata": {
    "ExecuteTime": {
     "end_time": "2022-05-04T13:02:08.723062Z",
     "start_time": "2022-05-04T13:02:08.717081Z"
    }
   },
   "outputs": [],
   "source": [
    "class xyz1(xyz):\n",
    "    pass"
   ]
  },
  {
   "cell_type": "code",
   "execution_count": 6,
   "id": "161a7680",
   "metadata": {
    "ExecuteTime": {
     "end_time": "2022-05-04T13:08:43.082340Z",
     "start_time": "2022-05-04T13:08:43.075780Z"
    }
   },
   "outputs": [],
   "source": [
    "p = xyz(1,2,3)"
   ]
  },
  {
   "cell_type": "code",
   "execution_count": 7,
   "id": "5b9d4206",
   "metadata": {
    "ExecuteTime": {
     "end_time": "2022-05-04T13:08:56.721058Z",
     "start_time": "2022-05-04T13:08:56.717068Z"
    }
   },
   "outputs": [],
   "source": [
    "q=xyz1(4,5,6)"
   ]
  },
  {
   "cell_type": "code",
   "execution_count": 8,
   "id": "3af5d595",
   "metadata": {
    "ExecuteTime": {
     "end_time": "2022-05-04T13:09:07.365138Z",
     "start_time": "2022-05-04T13:09:07.344195Z"
    }
   },
   "outputs": [
    {
     "name": "stdout",
     "output_type": "stream",
     "text": [
      "this is a test1 function\n"
     ]
    }
   ],
   "source": [
    "q.test1()"
   ]
  },
  {
   "cell_type": "code",
   "execution_count": 9,
   "id": "68e78849",
   "metadata": {
    "ExecuteTime": {
     "end_time": "2022-05-04T13:09:19.417098Z",
     "start_time": "2022-05-04T13:09:19.406128Z"
    }
   },
   "outputs": [
    {
     "data": {
      "text/plain": [
       "4"
      ]
     },
     "execution_count": 9,
     "metadata": {},
     "output_type": "execute_result"
    }
   ],
   "source": [
    "q.a"
   ]
  },
  {
   "cell_type": "code",
   "execution_count": 10,
   "id": "dc5c7088",
   "metadata": {
    "ExecuteTime": {
     "end_time": "2022-05-04T13:11:03.954671Z",
     "start_time": "2022-05-04T13:11:03.936585Z"
    }
   },
   "outputs": [],
   "source": [
    "class xyz:\n",
    "    def __init__(self,a,b,c):\n",
    "        self.a=a\n",
    "        self.b=b\n",
    "        self.c=c\n",
    "        \n",
    "    def test1(self):\n",
    "        print('this is a test1 function')\n",
    "class xyz1(xyz):\n",
    "    def test1(self):\n",
    "        print('this is xyz1')"
   ]
  },
  {
   "cell_type": "code",
   "execution_count": 11,
   "id": "d2a50a3d",
   "metadata": {
    "ExecuteTime": {
     "end_time": "2022-05-04T13:11:20.063693Z",
     "start_time": "2022-05-04T13:11:20.050728Z"
    }
   },
   "outputs": [],
   "source": [
    "g=xyz1(7,8,9)"
   ]
  },
  {
   "cell_type": "code",
   "execution_count": 14,
   "id": "e2d42d75",
   "metadata": {
    "ExecuteTime": {
     "end_time": "2022-05-04T13:11:54.735395Z",
     "start_time": "2022-05-04T13:11:54.731405Z"
    },
    "scrolled": true
   },
   "outputs": [
    {
     "name": "stdout",
     "output_type": "stream",
     "text": [
      "this is xyz1\n"
     ]
    }
   ],
   "source": [
    "g.test1()  # this will override"
   ]
  },
  {
   "cell_type": "markdown",
   "id": "e5dc4985",
   "metadata": {},
   "source": [
    "# multilevel inheritence class"
   ]
  },
  {
   "cell_type": "code",
   "execution_count": 18,
   "id": "4f0f67f3",
   "metadata": {
    "ExecuteTime": {
     "end_time": "2022-05-04T13:14:54.901228Z",
     "start_time": "2022-05-04T13:14:54.890258Z"
    }
   },
   "outputs": [],
   "source": [
    "class xyz:\n",
    "    def __init__(self,a,b,c):\n",
    "        self.a=a\n",
    "        self.b=b\n",
    "        self.c=c\n",
    "        \n",
    "    def test1(self):\n",
    "        print('this is a test1 function')\n",
    "class xyz1(xyz):\n",
    "    def __init__(self,a1,b1,c1):\n",
    "        self.a1=a1\n",
    "        self.b1=b1\n",
    "        self.c1=c1\n",
    "    def test1(self):\n",
    "        print('this is xyz1')\n",
    "\n"
   ]
  },
  {
   "cell_type": "code",
   "execution_count": 16,
   "id": "912c9c03",
   "metadata": {
    "ExecuteTime": {
     "end_time": "2022-05-04T13:12:41.735366Z",
     "start_time": "2022-05-04T13:12:41.727386Z"
    }
   },
   "outputs": [],
   "source": [
    "g=xyz1(7,8,9)"
   ]
  },
  {
   "cell_type": "code",
   "execution_count": 12,
   "id": "cf0e9fa1",
   "metadata": {
    "ExecuteTime": {
     "end_time": "2022-05-04T13:37:18.398185Z",
     "start_time": "2022-05-04T13:37:18.384734Z"
    }
   },
   "outputs": [],
   "source": [
    "class xyz:\n",
    "    def __init__(self,a,b,c):\n",
    "        self.a=a\n",
    "        self.b=b\n",
    "        self.c=c\n",
    "        \n",
    "    def test1(self):\n",
    "        print('this is a test1 function')\n",
    "class xyz1(xyz):\n",
    "    def __init__(self,a1,b1,c1):\n",
    "        self.a1=a1\n",
    "        self.b1=b1\n",
    "        self.c1=c1\n",
    "    def test1(self):\n",
    "        print('this is xyz1')\n",
    "class xyz2(xyz1):\n",
    "    def test2(self):\n",
    "        print('this is test2 function')\n"
   ]
  },
  {
   "cell_type": "code",
   "execution_count": 14,
   "id": "d83caeb6",
   "metadata": {
    "ExecuteTime": {
     "end_time": "2022-05-04T13:38:03.170257Z",
     "start_time": "2022-05-04T13:38:03.159157Z"
    }
   },
   "outputs": [],
   "source": [
    "asd=xyz2(1,2,3)    # everything inherited to grand child"
   ]
  },
  {
   "cell_type": "markdown",
   "id": "171c2bcb",
   "metadata": {},
   "source": [
    "# inheritence"
   ]
  },
  {
   "cell_type": "code",
   "execution_count": 21,
   "id": "f24e751d",
   "metadata": {
    "ExecuteTime": {
     "end_time": "2022-05-04T13:15:55.377237Z",
     "start_time": "2022-05-04T13:15:55.357704Z"
    }
   },
   "outputs": [],
   "source": [
    "class xyz:\n",
    "    def __init__(self,a,b,c):\n",
    "        self.a=a\n",
    "        self.b=b\n",
    "        self.c=c\n",
    "        \n",
    "    def test1(self):\n",
    "        print('this is a test1 function')\n",
    "class xyz1:\n",
    "    def __init__(self,a1,b1,c1):\n",
    "        self.a1=a1\n",
    "        self.b1=b1\n",
    "        self.c1=c1\n",
    "    def test1(self):\n",
    "        print('this is xyz1')      \n",
    "class child(xyz,xyz1):   \n",
    "    pass"
   ]
  },
  {
   "cell_type": "code",
   "execution_count": 25,
   "id": "d5285f5f",
   "metadata": {
    "ExecuteTime": {
     "end_time": "2022-05-04T13:19:35.879037Z",
     "start_time": "2022-05-04T13:19:35.871629Z"
    }
   },
   "outputs": [],
   "source": [
    "m=child(1,2,3)      # asking a,b,c not asking a1,b1,c1 given xyz first so a,b,c"
   ]
  },
  {
   "cell_type": "code",
   "execution_count": 1,
   "id": "9b7679ef",
   "metadata": {
    "ExecuteTime": {
     "end_time": "2022-08-13T13:19:55.946014Z",
     "start_time": "2022-08-13T13:19:55.934036Z"
    }
   },
   "outputs": [],
   "source": [
    "class xyz:\n",
    "    def __init__(self,a,b,c):      # for getting all variables in child one\n",
    "        self.a=a\n",
    "        self.b=b\n",
    "        self.c=c\n",
    "        \n",
    "    def test1(self):\n",
    "        print('this is a test1 function')\n",
    "class xyz1:\n",
    "    def __init__(self,a1,b1,c1):\n",
    "        self.a1=a1\n",
    "        self.b1=b1\n",
    "        self.c1=c1\n",
    "    def test1(self):\n",
    "        print('this is xyz1')\n",
    "        \n",
    "class child1(xyz,xyz1):\n",
    "    def __init__(self, *args, **kwargs):\n",
    "        xyz.__init__(self,*args)\n",
    "        xyz1.__init__(self,**kwargs)\n",
    "            "
   ]
  },
  {
   "cell_type": "code",
   "execution_count": 9,
   "id": "0fb2f143",
   "metadata": {
    "ExecuteTime": {
     "end_time": "2022-08-13T13:22:13.978080Z",
     "start_time": "2022-08-13T13:22:13.964080Z"
    }
   },
   "outputs": [],
   "source": [
    "a= child1(2,3,4,a1=1,b1=2,c1=3)"
   ]
  },
  {
   "cell_type": "code",
   "execution_count": 1,
   "id": "9babcc8e",
   "metadata": {
    "ExecuteTime": {
     "end_time": "2022-07-06T07:09:29.154537Z",
     "start_time": "2022-07-06T07:09:29.128873Z"
    }
   },
   "outputs": [
    {
     "name": "stdout",
     "output_type": "stream",
     "text": [
      "In the derived class\n",
      "In the base1 class\n",
      "In the base2 class\n"
     ]
    }
   ],
   "source": [
    "class base1():\n",
    "    def __init__(self):\n",
    "        print(\"In the base1 class\")\n",
    "        self.s1= \"base1 class var\"\n",
    "class base2():\n",
    "    def __init__(self):\n",
    "        print(\"In the base2 class\")\n",
    "        self.s2= \"base2 class var\"\n",
    "\n",
    "class derived(base1,base2):\n",
    "    def __init__(self):\n",
    "        print(\"In the derived class\")\n",
    "        super().__init__()                # calls base class 1\n",
    "        super(base1,self).__init__()      # calls base class 2\n",
    "a = derived()"
   ]
  },
  {
   "cell_type": "code",
   "execution_count": 11,
   "id": "b90ab82f",
   "metadata": {
    "ExecuteTime": {
     "end_time": "2022-05-04T13:26:02.956709Z",
     "start_time": "2022-05-04T13:26:02.948731Z"
    }
   },
   "outputs": [],
   "source": [
    "n=child1(1,2,3,a1=12,b1=25,c1=856)"
   ]
  },
  {
   "cell_type": "code",
   "execution_count": 15,
   "id": "e436e6df",
   "metadata": {
    "ExecuteTime": {
     "end_time": "2022-05-04T13:41:00.228847Z",
     "start_time": "2022-05-04T13:41:00.218906Z"
    }
   },
   "outputs": [],
   "source": [
    "import logging \n",
    "\n",
    "logging.basicConfig(filename=\"list.log\",level=logging.DEBUG,format=\"%(asctime)s %(levelname)s %(message)s\",filemode='w')\n",
    "\n",
    "\n",
    "class File:\n",
    "    def __init__(self,filename):\n",
    "        logging.info(\"Creating file instance varibale\")\n",
    "        self.file = filename\n",
    "\n",
    "    def read(self):\n",
    "        logging.info(\"executing read method\")\n",
    "        try:\n",
    "            with open(f\"{self.file}.txt\",'r') as f:\n",
    "                data = f.read()\n",
    "                return data\n",
    "        except FileNotFoundError as e:\n",
    "            logging.error(\"Error occured while opening the file \")\n",
    "            logging.exception(f\"Error is {e}\")\n",
    "\n",
    "    def write(self,data):\n",
    "        logging.info(\"executing write method\")\n",
    "        try:\n",
    "            with open(f\"{self.file}.txt\",'w') as f:\n",
    "                data = f.write(data)\n",
    "        except FileNotFoundError as e:\n",
    "            logging.error(\"Something is going wrong\")\n",
    "            \n",
    "obj = File(\"abc\")\n"
   ]
  },
  {
   "cell_type": "code",
   "execution_count": 3,
   "id": "cd432210",
   "metadata": {
    "ExecuteTime": {
     "end_time": "2022-05-05T11:11:57.940712Z",
     "start_time": "2022-05-05T11:11:57.930315Z"
    }
   },
   "outputs": [],
   "source": [
    "class xyz:\n",
    "    def __init__(self):     \n",
    "        self.a= 4\n",
    "        self.b= 5\n",
    "        self.c= 6\n",
    "        \n",
    "    def test1(self):\n",
    "        print('this is a test1 function')"
   ]
  },
  {
   "cell_type": "code",
   "execution_count": 4,
   "id": "15b62781",
   "metadata": {
    "ExecuteTime": {
     "end_time": "2022-05-05T11:11:58.469213Z",
     "start_time": "2022-05-05T11:11:58.452243Z"
    }
   },
   "outputs": [],
   "source": [
    "u=xyz()"
   ]
  },
  {
   "cell_type": "code",
   "execution_count": 7,
   "id": "79eb1372",
   "metadata": {
    "ExecuteTime": {
     "end_time": "2022-05-05T11:12:29.853033Z",
     "start_time": "2022-05-05T11:12:29.838243Z"
    }
   },
   "outputs": [
    {
     "data": {
      "text/plain": [
       "6"
      ]
     },
     "execution_count": 7,
     "metadata": {},
     "output_type": "execute_result"
    }
   ],
   "source": [
    "u.c"
   ]
  },
  {
   "cell_type": "code",
   "execution_count": 15,
   "id": "3bc54604",
   "metadata": {
    "ExecuteTime": {
     "end_time": "2022-05-05T11:33:24.183213Z",
     "start_time": "2022-05-05T11:33:24.171244Z"
    }
   },
   "outputs": [],
   "source": [
    "class xyz:\n",
    "    def __init__(self):     \n",
    "        self.a= 4\n",
    "class xyz1(xyz):\n",
    "    def __init__(self):     \n",
    "        self.a= 7       "
   ]
  },
  {
   "cell_type": "code",
   "execution_count": 16,
   "id": "afe31855",
   "metadata": {
    "ExecuteTime": {
     "end_time": "2022-05-05T11:33:25.122963Z",
     "start_time": "2022-05-05T11:33:25.110995Z"
    }
   },
   "outputs": [],
   "source": [
    "v=xyz()"
   ]
  },
  {
   "cell_type": "code",
   "execution_count": 17,
   "id": "dfa5164c",
   "metadata": {
    "ExecuteTime": {
     "end_time": "2022-05-05T11:33:25.499730Z",
     "start_time": "2022-05-05T11:33:25.496736Z"
    }
   },
   "outputs": [],
   "source": [
    "u=xyz1()"
   ]
  },
  {
   "cell_type": "code",
   "execution_count": 23,
   "id": "7dfe632d",
   "metadata": {
    "ExecuteTime": {
     "end_time": "2022-05-05T11:34:54.436417Z",
     "start_time": "2022-05-05T11:34:54.424449Z"
    }
   },
   "outputs": [
    {
     "data": {
      "text/plain": [
       "4"
      ]
     },
     "execution_count": 23,
     "metadata": {},
     "output_type": "execute_result"
    }
   ],
   "source": [
    "v.a"
   ]
  },
  {
   "cell_type": "code",
   "execution_count": 19,
   "id": "71d24c4e",
   "metadata": {
    "ExecuteTime": {
     "end_time": "2022-05-05T11:33:25.997502Z",
     "start_time": "2022-05-05T11:33:25.978470Z"
    }
   },
   "outputs": [
    {
     "data": {
      "text/plain": [
       "7"
      ]
     },
     "execution_count": 19,
     "metadata": {},
     "output_type": "execute_result"
    }
   ],
   "source": [
    "u.a"
   ]
  },
  {
   "cell_type": "code",
   "execution_count": 27,
   "id": "1e44f7b5",
   "metadata": {
    "ExecuteTime": {
     "end_time": "2022-05-05T11:36:08.831872Z",
     "start_time": "2022-05-05T11:36:08.823781Z"
    }
   },
   "outputs": [],
   "source": [
    "class xyz:\n",
    "    def __init__(self):     \n",
    "        self.a= 4\n",
    "class xyz1(xyz):\n",
    "    def __init__(self):\n",
    "        xyz.__init__(self)\n",
    "        self.a= 7   "
   ]
  },
  {
   "cell_type": "code",
   "execution_count": 21,
   "id": "7d0f3587",
   "metadata": {
    "ExecuteTime": {
     "end_time": "2022-05-05T11:34:32.808176Z",
     "start_time": "2022-05-05T11:34:32.801192Z"
    }
   },
   "outputs": [],
   "source": [
    "v=xyz()"
   ]
  },
  {
   "cell_type": "code",
   "execution_count": 22,
   "id": "3f1fcd69",
   "metadata": {
    "ExecuteTime": {
     "end_time": "2022-05-05T11:34:40.132875Z",
     "start_time": "2022-05-05T11:34:40.127920Z"
    }
   },
   "outputs": [],
   "source": [
    "u=xyz1()"
   ]
  },
  {
   "cell_type": "code",
   "execution_count": 24,
   "id": "13d19570",
   "metadata": {
    "ExecuteTime": {
     "end_time": "2022-05-05T11:35:02.344532Z",
     "start_time": "2022-05-05T11:35:02.334051Z"
    }
   },
   "outputs": [
    {
     "data": {
      "text/plain": [
       "4"
      ]
     },
     "execution_count": 24,
     "metadata": {},
     "output_type": "execute_result"
    }
   ],
   "source": [
    "v.a\n"
   ]
  },
  {
   "cell_type": "code",
   "execution_count": 25,
   "id": "55cd6fa0",
   "metadata": {
    "ExecuteTime": {
     "end_time": "2022-05-05T11:35:07.270206Z",
     "start_time": "2022-05-05T11:35:07.260201Z"
    }
   },
   "outputs": [
    {
     "data": {
      "text/plain": [
       "7"
      ]
     },
     "execution_count": 25,
     "metadata": {},
     "output_type": "execute_result"
    }
   ],
   "source": [
    "u.a"
   ]
  },
  {
   "cell_type": "markdown",
   "id": "f1fd553d",
   "metadata": {},
   "source": [
    "# ENCAPSULATION"
   ]
  },
  {
   "cell_type": "code",
   "execution_count": 1,
   "id": "349e1c96",
   "metadata": {
    "ExecuteTime": {
     "end_time": "2022-08-15T13:04:59.901371Z",
     "start_time": "2022-08-15T13:04:59.873402Z"
    }
   },
   "outputs": [],
   "source": [
    "class xyz:\n",
    "    def __init__(self):      #protected variable\n",
    "        self._a= 4\n",
    "class xyz1(xyz):\n",
    "    def __init__(self):     \n",
    "        self._a= 7  \n",
    "v=xyz()\n",
    "u=xyz1()"
   ]
  },
  {
   "cell_type": "code",
   "execution_count": 30,
   "id": "4ca07d83",
   "metadata": {
    "ExecuteTime": {
     "end_time": "2022-05-05T11:38:13.147370Z",
     "start_time": "2022-05-05T11:38:13.127833Z"
    }
   },
   "outputs": [
    {
     "ename": "AttributeError",
     "evalue": "'xyz' object has no attribute 'a'",
     "output_type": "error",
     "traceback": [
      "\u001b[1;31m---------------------------------------------------------------------------\u001b[0m",
      "\u001b[1;31mAttributeError\u001b[0m                            Traceback (most recent call last)",
      "\u001b[1;32m~\\AppData\\Local\\Temp/ipykernel_29476/3524926159.py\u001b[0m in \u001b[0;36m<module>\u001b[1;34m\u001b[0m\n\u001b[1;32m----> 1\u001b[1;33m \u001b[0mv\u001b[0m\u001b[1;33m.\u001b[0m\u001b[0ma\u001b[0m\u001b[1;33m\u001b[0m\u001b[1;33m\u001b[0m\u001b[0m\n\u001b[0m",
      "\u001b[1;31mAttributeError\u001b[0m: 'xyz' object has no attribute 'a'"
     ]
    }
   ],
   "source": [
    "v.a"
   ]
  },
  {
   "cell_type": "code",
   "execution_count": 31,
   "id": "ee6a3844",
   "metadata": {
    "ExecuteTime": {
     "end_time": "2022-05-05T11:38:21.647848Z",
     "start_time": "2022-05-05T11:38:21.630169Z"
    }
   },
   "outputs": [
    {
     "data": {
      "text/plain": [
       "4"
      ]
     },
     "execution_count": 31,
     "metadata": {},
     "output_type": "execute_result"
    }
   ],
   "source": [
    "v._a"
   ]
  },
  {
   "cell_type": "code",
   "execution_count": 3,
   "id": "7224705f",
   "metadata": {
    "ExecuteTime": {
     "end_time": "2022-08-15T13:05:34.406389Z",
     "start_time": "2022-08-15T13:05:34.393391Z"
    }
   },
   "outputs": [
    {
     "data": {
      "text/plain": [
       "7"
      ]
     },
     "execution_count": 3,
     "metadata": {},
     "output_type": "execute_result"
    }
   ],
   "source": [
    "u._a"
   ]
  },
  {
   "cell_type": "code",
   "execution_count": 32,
   "id": "752c2a65",
   "metadata": {
    "ExecuteTime": {
     "end_time": "2022-05-05T11:38:55.594839Z",
     "start_time": "2022-05-05T11:38:55.583837Z"
    }
   },
   "outputs": [],
   "source": [
    "class xyz:\n",
    "    def __init__(self):      #private variable\n",
    "        self.__a= 4\n",
    "class xyz1(xyz):\n",
    "    def __init__(self):     \n",
    "        self.__a= 7  \n",
    "v=xyz()\n",
    "u=xyz1()"
   ]
  },
  {
   "cell_type": "code",
   "execution_count": 33,
   "id": "a4842cfc",
   "metadata": {
    "ExecuteTime": {
     "end_time": "2022-05-05T11:39:02.249378Z",
     "start_time": "2022-05-05T11:39:02.229434Z"
    }
   },
   "outputs": [
    {
     "ename": "AttributeError",
     "evalue": "'xyz' object has no attribute '__a'",
     "output_type": "error",
     "traceback": [
      "\u001b[1;31m---------------------------------------------------------------------------\u001b[0m",
      "\u001b[1;31mAttributeError\u001b[0m                            Traceback (most recent call last)",
      "\u001b[1;32m~\\AppData\\Local\\Temp/ipykernel_29476/699859394.py\u001b[0m in \u001b[0;36m<module>\u001b[1;34m\u001b[0m\n\u001b[1;32m----> 1\u001b[1;33m \u001b[0mv\u001b[0m\u001b[1;33m.\u001b[0m\u001b[0m__a\u001b[0m\u001b[1;33m\u001b[0m\u001b[1;33m\u001b[0m\u001b[0m\n\u001b[0m",
      "\u001b[1;31mAttributeError\u001b[0m: 'xyz' object has no attribute '__a'"
     ]
    }
   ],
   "source": [
    "v.__a"
   ]
  },
  {
   "cell_type": "code",
   "execution_count": 9,
   "id": "e80cfa49",
   "metadata": {
    "ExecuteTime": {
     "end_time": "2022-08-15T13:07:14.711468Z",
     "start_time": "2022-08-15T13:07:14.697923Z"
    }
   },
   "outputs": [
    {
     "ename": "AttributeError",
     "evalue": "'xyz1' object has no attribute '_xyz1__a'",
     "output_type": "error",
     "traceback": [
      "\u001b[1;31m---------------------------------------------------------------------------\u001b[0m",
      "\u001b[1;31mAttributeError\u001b[0m                            Traceback (most recent call last)",
      "\u001b[1;32m~\\AppData\\Local\\Temp/ipykernel_31204/2448162616.py\u001b[0m in \u001b[0;36m<module>\u001b[1;34m\u001b[0m\n\u001b[1;32m----> 1\u001b[1;33m \u001b[0mu\u001b[0m\u001b[1;33m.\u001b[0m\u001b[0m_xyz1__a\u001b[0m\u001b[1;33m\u001b[0m\u001b[1;33m\u001b[0m\u001b[0m\n\u001b[0m",
      "\u001b[1;31mAttributeError\u001b[0m: 'xyz1' object has no attribute '_xyz1__a'"
     ]
    }
   ],
   "source": [
    "u._xyz1__a"
   ]
  },
  {
   "cell_type": "code",
   "execution_count": 5,
   "id": "3b91c8bb",
   "metadata": {
    "ExecuteTime": {
     "end_time": "2022-08-15T13:06:38.976849Z",
     "start_time": "2022-08-15T13:06:38.963464Z"
    }
   },
   "outputs": [],
   "source": [
    "class xyz:\n",
    "    def __init__(self,a,b,c):     \n",
    "        self._a= a\n",
    "        self.__b= b\n",
    "        self.c= c\n",
    "v= xyz(2,3,4)"
   ]
  },
  {
   "cell_type": "code",
   "execution_count": 6,
   "id": "11fb6bca",
   "metadata": {
    "ExecuteTime": {
     "end_time": "2022-08-15T13:06:39.493433Z",
     "start_time": "2022-08-15T13:06:39.477432Z"
    }
   },
   "outputs": [
    {
     "data": {
      "text/plain": [
       "2"
      ]
     },
     "execution_count": 6,
     "metadata": {},
     "output_type": "execute_result"
    }
   ],
   "source": [
    "v._a            #protected"
   ]
  },
  {
   "cell_type": "code",
   "execution_count": 8,
   "id": "f326b0a6",
   "metadata": {
    "ExecuteTime": {
     "end_time": "2022-08-15T13:06:52.867871Z",
     "start_time": "2022-08-15T13:06:52.851712Z"
    }
   },
   "outputs": [
    {
     "data": {
      "text/plain": [
       "3"
      ]
     },
     "execution_count": 8,
     "metadata": {},
     "output_type": "execute_result"
    }
   ],
   "source": [
    "v._xyz__b       #private"
   ]
  },
  {
   "cell_type": "code",
   "execution_count": 41,
   "id": "1a9a44ce",
   "metadata": {
    "ExecuteTime": {
     "end_time": "2022-05-05T11:42:23.718168Z",
     "start_time": "2022-05-05T11:42:23.704569Z"
    }
   },
   "outputs": [
    {
     "data": {
      "text/plain": [
       "4"
      ]
     },
     "execution_count": 41,
     "metadata": {},
     "output_type": "execute_result"
    }
   ],
   "source": [
    "v.c              #public"
   ]
  },
  {
   "cell_type": "code",
   "execution_count": 49,
   "id": "80d478b0",
   "metadata": {
    "ExecuteTime": {
     "end_time": "2022-05-05T11:45:37.983923Z",
     "start_time": "2022-05-05T11:45:37.965453Z"
    }
   },
   "outputs": [],
   "source": [
    "class xyz:\n",
    "    def __init__(self,a,b,c):\n",
    "        self._a=a\n",
    "        self.__b=b\n",
    "        self.c=c\n",
    "        \n",
    "\n",
    "class xyz1(xyz):\n",
    "    pass\n",
    "v= xyz(2,3,4) \n",
    "u=xyz1(5,6,7)\n",
    "       "
   ]
  },
  {
   "cell_type": "code",
   "execution_count": 50,
   "id": "7a25bb83",
   "metadata": {
    "ExecuteTime": {
     "end_time": "2022-05-05T11:45:38.373658Z",
     "start_time": "2022-05-05T11:45:38.367673Z"
    }
   },
   "outputs": [
    {
     "data": {
      "text/plain": [
       "7"
      ]
     },
     "execution_count": 50,
     "metadata": {},
     "output_type": "execute_result"
    }
   ],
   "source": [
    "u.c"
   ]
  },
  {
   "cell_type": "code",
   "execution_count": 51,
   "id": "66090657",
   "metadata": {
    "ExecuteTime": {
     "end_time": "2022-05-05T11:45:38.819766Z",
     "start_time": "2022-05-05T11:45:38.815775Z"
    }
   },
   "outputs": [
    {
     "data": {
      "text/plain": [
       "5"
      ]
     },
     "execution_count": 51,
     "metadata": {},
     "output_type": "execute_result"
    }
   ],
   "source": [
    "u._a"
   ]
  },
  {
   "cell_type": "code",
   "execution_count": 53,
   "id": "d05c1d18",
   "metadata": {
    "ExecuteTime": {
     "end_time": "2022-05-05T11:45:53.082426Z",
     "start_time": "2022-05-05T11:45:53.067479Z"
    }
   },
   "outputs": [
    {
     "ename": "AttributeError",
     "evalue": "'xyz1' object has no attribute '_xyz1__b'",
     "output_type": "error",
     "traceback": [
      "\u001b[1;31m---------------------------------------------------------------------------\u001b[0m",
      "\u001b[1;31mAttributeError\u001b[0m                            Traceback (most recent call last)",
      "\u001b[1;32m~\\AppData\\Local\\Temp/ipykernel_29476/1893528734.py\u001b[0m in \u001b[0;36m<module>\u001b[1;34m\u001b[0m\n\u001b[1;32m----> 1\u001b[1;33m \u001b[0mu\u001b[0m\u001b[1;33m.\u001b[0m\u001b[0m_xyz1__b\u001b[0m\u001b[1;33m\u001b[0m\u001b[1;33m\u001b[0m\u001b[0m\n\u001b[0m",
      "\u001b[1;31mAttributeError\u001b[0m: 'xyz1' object has no attribute '_xyz1__b'"
     ]
    }
   ],
   "source": [
    "u._xyz1__b    #needed main class"
   ]
  },
  {
   "cell_type": "code",
   "execution_count": 55,
   "id": "db18d15d",
   "metadata": {
    "ExecuteTime": {
     "end_time": "2022-05-05T11:46:22.654488Z",
     "start_time": "2022-05-05T11:46:22.643503Z"
    }
   },
   "outputs": [
    {
     "data": {
      "text/plain": [
       "6"
      ]
     },
     "execution_count": 55,
     "metadata": {},
     "output_type": "execute_result"
    }
   ],
   "source": [
    "u._xyz__b      #private needs only main class name"
   ]
  },
  {
   "cell_type": "code",
   "execution_count": 78,
   "id": "322787f9",
   "metadata": {
    "ExecuteTime": {
     "end_time": "2022-05-05T12:07:43.320145Z",
     "start_time": "2022-05-05T12:07:43.303653Z"
    }
   },
   "outputs": [],
   "source": [
    "class bonuscalc:\n",
    "    def __init__(self,empid,emprating):\n",
    "        self.empid=empid\n",
    "        self.emprating=emprating\n",
    "        self.__bonusA=\"70%\"\n",
    "        self.__bonusB=\"60%\"\n",
    "        self.__bonusC=\"40%\"\n",
    "    def bonuscalc(self):\n",
    "        if self.emprating == \"A\":\n",
    "            bonus=self.__bonusA\n",
    "            return bonus\n",
    "        elif self.emprating == \"B\":            \n",
    "            bonus=self.__bonusA\n",
    "            return bonus\n",
    "           \n",
    "        else:\n",
    "           \n",
    "            bonus=self.__bonusC\n",
    "            return bonus"
   ]
  },
  {
   "cell_type": "code",
   "execution_count": 79,
   "id": "fc668af1",
   "metadata": {
    "ExecuteTime": {
     "end_time": "2022-05-05T12:07:44.447742Z",
     "start_time": "2022-05-05T12:07:44.434682Z"
    }
   },
   "outputs": [],
   "source": [
    "pk=bonuscalc(123,\"C\")"
   ]
  },
  {
   "cell_type": "code",
   "execution_count": 80,
   "id": "f65a4e20",
   "metadata": {
    "ExecuteTime": {
     "end_time": "2022-05-05T12:07:46.227624Z",
     "start_time": "2022-05-05T12:07:46.212682Z"
    }
   },
   "outputs": [
    {
     "data": {
      "text/plain": [
       "'40%'"
      ]
     },
     "execution_count": 80,
     "metadata": {},
     "output_type": "execute_result"
    }
   ],
   "source": [
    "pk.bonuscalc()"
   ]
  },
  {
   "cell_type": "code",
   "execution_count": 83,
   "id": "16dfd4df",
   "metadata": {
    "ExecuteTime": {
     "end_time": "2022-05-05T12:08:21.380452Z",
     "start_time": "2022-05-05T12:08:21.363807Z"
    }
   },
   "outputs": [],
   "source": [
    "pk.__bonusC = \"80\"  #no error but it does take new one without class"
   ]
  },
  {
   "cell_type": "code",
   "execution_count": 85,
   "id": "ca0f4b83",
   "metadata": {
    "ExecuteTime": {
     "end_time": "2022-05-05T12:08:26.347257Z",
     "start_time": "2022-05-05T12:08:26.336678Z"
    }
   },
   "outputs": [
    {
     "data": {
      "text/plain": [
       "'40%'"
      ]
     },
     "execution_count": 85,
     "metadata": {},
     "output_type": "execute_result"
    }
   ],
   "source": [
    "pk._bonuscalc__bonusC"
   ]
  },
  {
   "cell_type": "code",
   "execution_count": 86,
   "id": "b0d1ed11",
   "metadata": {
    "ExecuteTime": {
     "end_time": "2022-05-05T12:08:36.907363Z",
     "start_time": "2022-05-05T12:08:36.889688Z"
    }
   },
   "outputs": [],
   "source": [
    "pk._bonuscalc__bonusC=\"90\"    "
   ]
  },
  {
   "cell_type": "code",
   "execution_count": 87,
   "id": "dd745b9b",
   "metadata": {
    "ExecuteTime": {
     "end_time": "2022-05-05T12:08:37.308672Z",
     "start_time": "2022-05-05T12:08:37.298667Z"
    }
   },
   "outputs": [
    {
     "data": {
      "text/plain": [
       "'90'"
      ]
     },
     "execution_count": 87,
     "metadata": {},
     "output_type": "execute_result"
    }
   ],
   "source": [
    "pk._bonuscalc__bonusC"
   ]
  },
  {
   "cell_type": "markdown",
   "id": "a255dec0",
   "metadata": {},
   "source": [
    "# static variable"
   ]
  },
  {
   "cell_type": "code",
   "execution_count": 100,
   "id": "284d2813",
   "metadata": {
    "ExecuteTime": {
     "end_time": "2022-05-05T12:20:45.248103Z",
     "start_time": "2022-05-05T12:20:45.234141Z"
    }
   },
   "outputs": [],
   "source": [
    "class xyz:\n",
    "    class_varaiable= 2567         #static variable\n",
    "    def __init__(self,a,b,c):     \n",
    "        self.a= a\n",
    "        self.b= b\n",
    "        self.c= c\n",
    "u =xyz(2,3,4) \n",
    "v=xyz(5,6,7)"
   ]
  },
  {
   "cell_type": "code",
   "execution_count": 91,
   "id": "90afd1a3",
   "metadata": {
    "ExecuteTime": {
     "end_time": "2022-05-05T12:18:29.845372Z",
     "start_time": "2022-05-05T12:18:29.839390Z"
    }
   },
   "outputs": [
    {
     "data": {
      "text/plain": [
       "2567"
      ]
     },
     "execution_count": 91,
     "metadata": {},
     "output_type": "execute_result"
    }
   ],
   "source": [
    "u.class_varaiable"
   ]
  },
  {
   "cell_type": "code",
   "execution_count": 92,
   "id": "b9671905",
   "metadata": {
    "ExecuteTime": {
     "end_time": "2022-05-05T12:18:37.263756Z",
     "start_time": "2022-05-05T12:18:37.254203Z"
    }
   },
   "outputs": [
    {
     "data": {
      "text/plain": [
       "2567"
      ]
     },
     "execution_count": 92,
     "metadata": {},
     "output_type": "execute_result"
    }
   ],
   "source": [
    "xyz.class_varaiable"
   ]
  },
  {
   "cell_type": "code",
   "execution_count": 93,
   "id": "6b510a54",
   "metadata": {
    "ExecuteTime": {
     "end_time": "2022-05-05T12:19:30.271392Z",
     "start_time": "2022-05-05T12:19:30.263412Z"
    }
   },
   "outputs": [],
   "source": [
    "u.class_varaiable=898"
   ]
  },
  {
   "cell_type": "code",
   "execution_count": 94,
   "id": "37c3ede6",
   "metadata": {
    "ExecuteTime": {
     "end_time": "2022-05-05T12:19:37.512937Z",
     "start_time": "2022-05-05T12:19:37.502438Z"
    }
   },
   "outputs": [
    {
     "data": {
      "text/plain": [
       "898"
      ]
     },
     "execution_count": 94,
     "metadata": {},
     "output_type": "execute_result"
    }
   ],
   "source": [
    "u.class_varaiable"
   ]
  },
  {
   "cell_type": "code",
   "execution_count": 96,
   "id": "74a9f033",
   "metadata": {
    "ExecuteTime": {
     "end_time": "2022-05-05T12:20:06.170046Z",
     "start_time": "2022-05-05T12:20:06.156083Z"
    }
   },
   "outputs": [
    {
     "data": {
      "text/plain": [
       "2567"
      ]
     },
     "execution_count": 96,
     "metadata": {},
     "output_type": "execute_result"
    }
   ],
   "source": [
    "v.class_varaiable"
   ]
  },
  {
   "cell_type": "code",
   "execution_count": 97,
   "id": "475c35d8",
   "metadata": {
    "ExecuteTime": {
     "end_time": "2022-05-05T12:20:18.422982Z",
     "start_time": "2022-05-05T12:20:18.408501Z"
    }
   },
   "outputs": [],
   "source": [
    "xyz.class_varaiable=7777"
   ]
  },
  {
   "cell_type": "code",
   "execution_count": 98,
   "id": "c1eb000e",
   "metadata": {
    "ExecuteTime": {
     "end_time": "2022-05-05T12:20:23.713044Z",
     "start_time": "2022-05-05T12:20:23.695363Z"
    }
   },
   "outputs": [
    {
     "data": {
      "text/plain": [
       "7777"
      ]
     },
     "execution_count": 98,
     "metadata": {},
     "output_type": "execute_result"
    }
   ],
   "source": [
    "u.class_varaiable"
   ]
  },
  {
   "cell_type": "code",
   "execution_count": 99,
   "id": "f7989d6b",
   "metadata": {
    "ExecuteTime": {
     "end_time": "2022-05-05T12:20:29.061555Z",
     "start_time": "2022-05-05T12:20:29.049587Z"
    },
    "scrolled": true
   },
   "outputs": [
    {
     "data": {
      "text/plain": [
       "7777"
      ]
     },
     "execution_count": 99,
     "metadata": {},
     "output_type": "execute_result"
    }
   ],
   "source": [
    "v.class_varaiable"
   ]
  },
  {
   "cell_type": "markdown",
   "id": "adbaadcb",
   "metadata": {},
   "source": [
    "# to have static function"
   ]
  },
  {
   "cell_type": "code",
   "execution_count": 102,
   "id": "3b582b36",
   "metadata": {
    "ExecuteTime": {
     "end_time": "2022-05-05T12:23:03.501420Z",
     "start_time": "2022-05-05T12:23:03.488454Z"
    }
   },
   "outputs": [],
   "source": [
    "class xyz:\n",
    "    class_varaiable= 2567         \n",
    "    def __init__(self,a,b,c):     \n",
    "        self.a= a\n",
    "        self.b= b\n",
    "        self.c= c\n",
    "    @staticmethod\n",
    "    def test():\n",
    "        print('static method test')\n",
    "u= xyz(1,2,3)"
   ]
  },
  {
   "cell_type": "code",
   "execution_count": 103,
   "id": "5a0947fc",
   "metadata": {
    "ExecuteTime": {
     "end_time": "2022-05-05T12:23:13.145999Z",
     "start_time": "2022-05-05T12:23:13.140018Z"
    }
   },
   "outputs": [
    {
     "name": "stdout",
     "output_type": "stream",
     "text": [
      "static method test\n"
     ]
    }
   ],
   "source": [
    "u.test()"
   ]
  },
  {
   "cell_type": "code",
   "execution_count": 105,
   "id": "1bc1f142",
   "metadata": {
    "ExecuteTime": {
     "end_time": "2022-05-05T12:23:45.172848Z",
     "start_time": "2022-05-05T12:23:45.163729Z"
    }
   },
   "outputs": [
    {
     "name": "stdout",
     "output_type": "stream",
     "text": [
      "static method test\n"
     ]
    }
   ],
   "source": [
    "xyz.test()"
   ]
  },
  {
   "cell_type": "code",
   "execution_count": 110,
   "id": "3452a1b3",
   "metadata": {
    "ExecuteTime": {
     "end_time": "2022-05-05T12:28:35.044569Z",
     "start_time": "2022-05-05T12:28:35.026414Z"
    }
   },
   "outputs": [],
   "source": [
    "class xyz:\n",
    "    class_varaiable= 2567         \n",
    "    def __init__(self,a,b,c):     \n",
    "        self.a= a\n",
    "        self.b= b\n",
    "        self.c= c\n",
    "   \n",
    "    def test():\n",
    "        print('static method test')\n",
    "   \n",
    "u= xyz(1,2,3)"
   ]
  },
  {
   "cell_type": "code",
   "execution_count": 108,
   "id": "deecc6ac",
   "metadata": {
    "ExecuteTime": {
     "end_time": "2022-05-05T12:25:43.830440Z",
     "start_time": "2022-05-05T12:25:43.821890Z"
    }
   },
   "outputs": [
    {
     "ename": "TypeError",
     "evalue": "test() takes 0 positional arguments but 1 was given",
     "output_type": "error",
     "traceback": [
      "\u001b[1;31m---------------------------------------------------------------------------\u001b[0m",
      "\u001b[1;31mTypeError\u001b[0m                                 Traceback (most recent call last)",
      "\u001b[1;32m~\\AppData\\Local\\Temp/ipykernel_29476/1907242994.py\u001b[0m in \u001b[0;36m<module>\u001b[1;34m\u001b[0m\n\u001b[1;32m----> 1\u001b[1;33m \u001b[0mu\u001b[0m\u001b[1;33m.\u001b[0m\u001b[0mtest\u001b[0m\u001b[1;33m(\u001b[0m\u001b[1;33m)\u001b[0m    \u001b[1;31m# as no decorator showing error as this is class function not an instance/object function\u001b[0m\u001b[1;33m\u001b[0m\u001b[1;33m\u001b[0m\u001b[0m\n\u001b[0m",
      "\u001b[1;31mTypeError\u001b[0m: test() takes 0 positional arguments but 1 was given"
     ]
    }
   ],
   "source": [
    "u.test()    # as no decorator showing error as this is class function not an instance/object function"
   ]
  },
  {
   "cell_type": "code",
   "execution_count": 113,
   "id": "bee3f81d",
   "metadata": {
    "ExecuteTime": {
     "end_time": "2022-05-05T12:29:31.131158Z",
     "start_time": "2022-05-05T12:29:31.124176Z"
    }
   },
   "outputs": [],
   "source": [
    "class xyz23:\n",
    "    class_varaiable= 2567         \n",
    "    def __init__(self,a,b,c):     \n",
    "        self.a= a\n",
    "        self.b= b\n",
    "        self.c= c\n",
    "   \n",
    "    def test(self):\n",
    "        print(' method test')\n",
    "    @staticmethod\n",
    "    def test1():\n",
    "        print('static method test')\n",
    "v= xyz(1,2,3)"
   ]
  },
  {
   "cell_type": "code",
   "execution_count": 118,
   "id": "880ca5f1",
   "metadata": {
    "ExecuteTime": {
     "end_time": "2022-05-05T12:31:21.428890Z",
     "start_time": "2022-05-05T12:31:21.409404Z"
    }
   },
   "outputs": [
    {
     "ename": "TypeError",
     "evalue": "test() missing 1 required positional argument: 'self'",
     "output_type": "error",
     "traceback": [
      "\u001b[1;31m---------------------------------------------------------------------------\u001b[0m",
      "\u001b[1;31mTypeError\u001b[0m                                 Traceback (most recent call last)",
      "\u001b[1;32m~\\AppData\\Local\\Temp/ipykernel_29476/1655921673.py\u001b[0m in \u001b[0;36m<module>\u001b[1;34m\u001b[0m\n\u001b[1;32m----> 1\u001b[1;33m \u001b[0mxyz23\u001b[0m\u001b[1;33m.\u001b[0m\u001b[0mtest\u001b[0m\u001b[1;33m(\u001b[0m\u001b[1;33m)\u001b[0m   \u001b[1;31m#unable to access bcoz it is instance function not class function\u001b[0m\u001b[1;33m\u001b[0m\u001b[1;33m\u001b[0m\u001b[0m\n\u001b[0m",
      "\u001b[1;31mTypeError\u001b[0m: test() missing 1 required positional argument: 'self'"
     ]
    }
   ],
   "source": [
    "xyz23.test()   #unable to access bcoz it is instance function not class function"
   ]
  },
  {
   "cell_type": "code",
   "execution_count": 116,
   "id": "1ca97531",
   "metadata": {
    "ExecuteTime": {
     "end_time": "2022-05-05T12:30:19.650365Z",
     "start_time": "2022-05-05T12:30:19.641390Z"
    }
   },
   "outputs": [
    {
     "name": "stdout",
     "output_type": "stream",
     "text": [
      "static method test\n"
     ]
    }
   ],
   "source": [
    "xyz23.test1()    # can access bcoz of class function"
   ]
  },
  {
   "cell_type": "markdown",
   "id": "5bca040c",
   "metadata": {},
   "source": [
    "Instance variable,class variable\n",
    "\n",
    "instance method, class method "
   ]
  },
  {
   "cell_type": "code",
   "execution_count": 9,
   "id": "55e5cacb",
   "metadata": {
    "ExecuteTime": {
     "end_time": "2022-08-16T11:30:43.178109Z",
     "start_time": "2022-08-16T11:30:43.165963Z"
    }
   },
   "outputs": [],
   "source": [
    "class student:\n",
    "    def __init__(self,name,age):\n",
    "        self.age= age\n",
    "        self.name =name\n",
    "    def msg(self):\n",
    "        print(self.name+\"  \"+str(self.age))"
   ]
  },
  {
   "cell_type": "markdown",
   "id": "04e31390",
   "metadata": {},
   "source": [
    "# INSTANCE VARIABLE:  for each object instance variable is different here name and age are instance variable\n",
    "\n",
    "# INSTANCE METHOD :  def msg is instance method - it can access unique data of the instance\n",
    "\n",
    "# self is the first object of instance method"
   ]
  },
  {
   "cell_type": "code",
   "execution_count": 10,
   "id": "bf965899",
   "metadata": {
    "ExecuteTime": {
     "end_time": "2022-08-16T11:30:43.539260Z",
     "start_time": "2022-08-16T11:30:43.532716Z"
    }
   },
   "outputs": [],
   "source": [
    "s1 =student('nia',25)"
   ]
  },
  {
   "cell_type": "code",
   "execution_count": 11,
   "id": "e8983926",
   "metadata": {
    "ExecuteTime": {
     "end_time": "2022-08-16T11:30:43.852625Z",
     "start_time": "2022-08-16T11:30:43.834624Z"
    }
   },
   "outputs": [
    {
     "name": "stdout",
     "output_type": "stream",
     "text": [
      "nia  25\n"
     ]
    }
   ],
   "source": [
    "s1.msg()"
   ]
  },
  {
   "cell_type": "markdown",
   "id": "962d2215",
   "metadata": {},
   "source": [
    "# CLASS VARIABLE = it is defined outside the method inside the class.\n",
    "# class variables are shared by all the objects of that class"
   ]
  },
  {
   "cell_type": "code",
   "execution_count": 12,
   "id": "4d83d4d0",
   "metadata": {
    "ExecuteTime": {
     "end_time": "2022-08-16T11:36:06.851826Z",
     "start_time": "2022-08-16T11:36:06.834827Z"
    }
   },
   "outputs": [],
   "source": [
    "class student:\n",
    "    class_name = \"6th\"\n",
    "    def __init__(self,name,age):\n",
    "        self.age= age\n",
    "        self.name =name\n",
    "    def msg(self):\n",
    "        print(self.name+\"  \"+str(self.age))"
   ]
  },
  {
   "cell_type": "code",
   "execution_count": 16,
   "id": "909d9e11",
   "metadata": {
    "ExecuteTime": {
     "end_time": "2022-08-16T11:37:44.647939Z",
     "start_time": "2022-08-16T11:37:44.635920Z"
    }
   },
   "outputs": [],
   "source": [
    "s2 =student('ria',25)"
   ]
  },
  {
   "cell_type": "code",
   "execution_count": 17,
   "id": "c49e8742",
   "metadata": {
    "ExecuteTime": {
     "end_time": "2022-08-16T11:37:48.989687Z",
     "start_time": "2022-08-16T11:37:48.980169Z"
    }
   },
   "outputs": [
    {
     "name": "stdout",
     "output_type": "stream",
     "text": [
      "6th\n"
     ]
    }
   ],
   "source": [
    "print(s2.class_name)"
   ]
  },
  {
   "cell_type": "code",
   "execution_count": 18,
   "id": "ef2b00e1",
   "metadata": {
    "ExecuteTime": {
     "end_time": "2022-08-16T11:38:19.117841Z",
     "start_time": "2022-08-16T11:38:19.104809Z"
    }
   },
   "outputs": [
    {
     "data": {
      "text/plain": [
       "'6th'"
      ]
     },
     "execution_count": 18,
     "metadata": {},
     "output_type": "execute_result"
    }
   ],
   "source": [
    "student.class_name"
   ]
  },
  {
   "cell_type": "markdown",
   "id": "49b93e62",
   "metadata": {},
   "source": [
    "# class method : cls is the class used inplace of self, need a decorator @classmethod\n",
    "\n",
    "# it is used when we want to change something to the variables given inside of init we can use this cls method"
   ]
  },
  {
   "cell_type": "code",
   "execution_count": 19,
   "id": "167c99bd",
   "metadata": {
    "ExecuteTime": {
     "end_time": "2022-08-16T11:44:44.533605Z",
     "start_time": "2022-08-16T11:44:44.514916Z"
    }
   },
   "outputs": [],
   "source": [
    "class student:\n",
    "    counter =0\n",
    "    def __init__(self,name,age):\n",
    "        self.age= age\n",
    "        self.name =name\n",
    "        student.counter = student.counter + 1\n",
    "    def msg(self):\n",
    "        print(self.name+\" got \"+str(self.age))\n",
    "    \n",
    "    @classmethod\n",
    "    def object_count(cls):\n",
    "        return cls.counter\n",
    "        \n",
    "        \n",
    "s3 = student('pk',29)\n",
    "s4 = student('pk1',30)\n",
    "        \n",
    "        "
   ]
  },
  {
   "cell_type": "code",
   "execution_count": 20,
   "id": "4f688fba",
   "metadata": {
    "ExecuteTime": {
     "end_time": "2022-08-16T11:44:57.849025Z",
     "start_time": "2022-08-16T11:44:57.831022Z"
    }
   },
   "outputs": [
    {
     "data": {
      "text/plain": [
       "2"
      ]
     },
     "execution_count": 20,
     "metadata": {},
     "output_type": "execute_result"
    }
   ],
   "source": [
    "student.object_count()"
   ]
  },
  {
   "cell_type": "code",
   "execution_count": 21,
   "id": "dd1ad707",
   "metadata": {
    "ExecuteTime": {
     "end_time": "2022-08-16T11:45:36.945392Z",
     "start_time": "2022-08-16T11:45:36.941396Z"
    }
   },
   "outputs": [
    {
     "data": {
      "text/plain": [
       "2"
      ]
     },
     "execution_count": 21,
     "metadata": {},
     "output_type": "execute_result"
    }
   ],
   "source": [
    "s3.object_count()"
   ]
  },
  {
   "cell_type": "code",
   "execution_count": 25,
   "id": "ed822e6f",
   "metadata": {
    "ExecuteTime": {
     "end_time": "2022-08-16T11:48:30.459118Z",
     "start_time": "2022-08-16T11:48:30.444118Z"
    }
   },
   "outputs": [],
   "source": [
    "class student:\n",
    "    counter =0\n",
    "    def __init__(self,name,age):\n",
    "        self.age= age\n",
    "        self.name =name\n",
    "        student.counter = student.counter + 1\n",
    "    def msg(self):\n",
    "        print(self.name+\" got \"+str(self.age))\n",
    "    \n",
    "  \n",
    "    def object_count(self):\n",
    "        return student.counter\n",
    "        "
   ]
  },
  {
   "cell_type": "code",
   "execution_count": 26,
   "id": "40b8d307",
   "metadata": {
    "ExecuteTime": {
     "end_time": "2022-08-16T11:48:31.282982Z",
     "start_time": "2022-08-16T11:48:31.279972Z"
    }
   },
   "outputs": [],
   "source": [
    "        \n",
    "s5 = student('pk',29)\n",
    "s6 = student('pk1',30)\n",
    "        "
   ]
  },
  {
   "cell_type": "code",
   "execution_count": 27,
   "id": "89185958",
   "metadata": {
    "ExecuteTime": {
     "end_time": "2022-08-16T11:48:31.689865Z",
     "start_time": "2022-08-16T11:48:31.681352Z"
    }
   },
   "outputs": [
    {
     "data": {
      "text/plain": [
       "2"
      ]
     },
     "execution_count": 27,
     "metadata": {},
     "output_type": "execute_result"
    }
   ],
   "source": [
    "s5.object_count()"
   ]
  },
  {
   "cell_type": "code",
   "execution_count": 33,
   "id": "5c7a6072",
   "metadata": {
    "ExecuteTime": {
     "end_time": "2022-08-16T11:54:51.227265Z",
     "start_time": "2022-08-16T11:54:51.216750Z"
    }
   },
   "outputs": [
    {
     "name": "stdout",
     "output_type": "stream",
     "text": [
      "sia  93.33333333333333\n"
     ]
    }
   ],
   "source": [
    "class student:\n",
    "    def __init__(self,name,marks):\n",
    "        self.name= name\n",
    "        self.marks =marks\n",
    "    def msg(self):\n",
    "        print(self.name+\"  \"+str(self.marks))\n",
    "        \n",
    "s1 = student(\"sia\",\"93\")\n",
    "marks = 560\n",
    "name = \"sia\"\n",
    "marks1 = (marks/600)*100\n",
    "s2 = student(name,marks1)\n",
    "s2.msg()"
   ]
  },
  {
   "cell_type": "code",
   "execution_count": 45,
   "id": "c052ab5c",
   "metadata": {
    "ExecuteTime": {
     "end_time": "2022-08-16T12:00:40.457958Z",
     "start_time": "2022-08-16T12:00:40.442909Z"
    }
   },
   "outputs": [],
   "source": [
    "class student:\n",
    "    def __init__(self,name,marks):\n",
    "        self.name= name\n",
    "        self.marks =marks\n",
    "    def msg(self):\n",
    "        print(self.name+\" got \"+str(self.marks),\" %\")\n",
    "    @classmethod\n",
    "    def get_per(cls,name,marks):\n",
    "        return cls(name,(marks/600)*100)\n",
    "        \n",
    "s1 = student(\"sia\",560)"
   ]
  },
  {
   "cell_type": "code",
   "execution_count": 46,
   "id": "43f4217a",
   "metadata": {
    "ExecuteTime": {
     "end_time": "2022-08-16T12:00:40.790070Z",
     "start_time": "2022-08-16T12:00:40.785071Z"
    }
   },
   "outputs": [
    {
     "name": "stdout",
     "output_type": "stream",
     "text": [
      "sia got 93.33333333333333  %\n"
     ]
    }
   ],
   "source": [
    "s =s1.get_per(\"sia\",560)\n",
    "s.msg()"
   ]
  },
  {
   "cell_type": "markdown",
   "id": "7a6adca6",
   "metadata": {},
   "source": [
    "# static method: static method knows nothing about the class state\n",
    "# it is used when we have nothing to do with the class instance variables \n",
    "## or\n",
    "# when we need any claculation / operation that needs in a class we use this\n",
    "# class method can access and modify class state."
   ]
  },
  {
   "cell_type": "code",
   "execution_count": 50,
   "id": "9ec880c0",
   "metadata": {
    "ExecuteTime": {
     "end_time": "2022-08-16T12:13:06.542106Z",
     "start_time": "2022-08-16T12:13:06.531099Z"
    }
   },
   "outputs": [],
   "source": [
    "class student:\n",
    "    def __init__(self,name,marks):\n",
    "        self.name= name\n",
    "        self.marks =marks\n",
    "    def msg(self):\n",
    "        print(self.name+\" got \"+str(self.marks),\" %\")\n",
    "    @classmethod\n",
    "    def get_per(cls,name,marks):\n",
    "        return cls(name,(marks/600)*100)\n",
    "    @staticmethod\n",
    "    def get_age(age):\n",
    "        if age>17:\n",
    "            print(\"they crossed school\")\n",
    "        else:\n",
    "            print(\"they are in school\")\n",
    "            "
   ]
  },
  {
   "cell_type": "code",
   "execution_count": 51,
   "id": "c6646bba",
   "metadata": {
    "ExecuteTime": {
     "end_time": "2022-08-16T12:13:07.275964Z",
     "start_time": "2022-08-16T12:13:07.266000Z"
    }
   },
   "outputs": [],
   "source": [
    "s1 = student(\"pavan\",29)\n",
    "s2 = student(\"shanu\",16)"
   ]
  },
  {
   "cell_type": "code",
   "execution_count": 52,
   "id": "b16d9cf2",
   "metadata": {
    "ExecuteTime": {
     "end_time": "2022-08-16T12:13:12.817910Z",
     "start_time": "2022-08-16T12:13:12.807393Z"
    },
    "scrolled": true
   },
   "outputs": [
    {
     "name": "stdout",
     "output_type": "stream",
     "text": [
      "they are in school\n"
     ]
    }
   ],
   "source": [
    "s2.get_age(16)"
   ]
  },
  {
   "cell_type": "markdown",
   "id": "d6492723",
   "metadata": {},
   "source": [
    "# polymorphism"
   ]
  },
  {
   "cell_type": "code",
   "execution_count": 7,
   "id": "6c9007f4",
   "metadata": {
    "ExecuteTime": {
     "end_time": "2022-08-16T14:41:11.832165Z",
     "start_time": "2022-08-16T14:41:11.817655Z"
    }
   },
   "outputs": [],
   "source": [
    "class dog:\n",
    "    def sound(self):\n",
    "        print(\"bow bow\")\n",
    "class cat:\n",
    "    def sound(self):\n",
    "        print(\"meow\")\n",
    "def makesound(animal):\n",
    "    animal.sound()"
   ]
  },
  {
   "cell_type": "code",
   "execution_count": 8,
   "id": "2adea931",
   "metadata": {
    "ExecuteTime": {
     "end_time": "2022-08-16T14:41:35.953822Z",
     "start_time": "2022-08-16T14:41:35.940826Z"
    }
   },
   "outputs": [],
   "source": [
    "catobj = cat()\n",
    "dogobj = dog()\n"
   ]
  },
  {
   "cell_type": "code",
   "execution_count": 9,
   "id": "5b288ee8",
   "metadata": {
    "ExecuteTime": {
     "end_time": "2022-08-16T14:41:46.847489Z",
     "start_time": "2022-08-16T14:41:46.838970Z"
    }
   },
   "outputs": [
    {
     "name": "stdout",
     "output_type": "stream",
     "text": [
      "meow\n"
     ]
    }
   ],
   "source": [
    "makesound(catobj)"
   ]
  },
  {
   "cell_type": "code",
   "execution_count": 18,
   "id": "78227fe9",
   "metadata": {
    "ExecuteTime": {
     "end_time": "2022-08-16T14:48:53.635560Z",
     "start_time": "2022-08-16T14:48:53.626045Z"
    }
   },
   "outputs": [],
   "source": [
    "# using abstract method and polymorphism\n",
    "class animals:\n",
    "    def sound(self):\n",
    "        print(\"sound will be the respective animals\")\n",
    "class dog(animals):\n",
    "    pass\n",
    "class cat(animals):\n",
    "    def sound(self):\n",
    "        print(\"meow\")\n",
    "def makesound(animal):\n",
    "    animal.sound()"
   ]
  },
  {
   "cell_type": "code",
   "execution_count": 15,
   "id": "cf73ce89",
   "metadata": {
    "ExecuteTime": {
     "end_time": "2022-08-16T14:47:58.444127Z",
     "start_time": "2022-08-16T14:47:58.429160Z"
    }
   },
   "outputs": [],
   "source": [
    "catobj = cat()\n",
    "dogobj = dog()"
   ]
  },
  {
   "cell_type": "code",
   "execution_count": 17,
   "id": "87c9fd2b",
   "metadata": {
    "ExecuteTime": {
     "end_time": "2022-08-16T14:48:24.635226Z",
     "start_time": "2022-08-16T14:48:24.621669Z"
    }
   },
   "outputs": [
    {
     "name": "stdout",
     "output_type": "stream",
     "text": [
      "sound will be the respective animals\n"
     ]
    }
   ],
   "source": [
    "makesound(dogobj)"
   ]
  },
  {
   "cell_type": "markdown",
   "id": "5f37ffcc",
   "metadata": {},
   "source": [
    "# Overriding method"
   ]
  },
  {
   "cell_type": "code",
   "execution_count": 19,
   "id": "a7e1e991",
   "metadata": {
    "ExecuteTime": {
     "end_time": "2022-08-16T14:56:38.340570Z",
     "start_time": "2022-08-16T14:56:38.324943Z"
    }
   },
   "outputs": [],
   "source": [
    "class A:\n",
    "    def display(self):\n",
    "        print(\"method belongs to class A\")\n",
    "class B(A):\n",
    "    def display(self):\n",
    "        print(\"this method belongs to class B\")\n",
    "\n",
    "        \n",
    "b = B()"
   ]
  },
  {
   "cell_type": "code",
   "execution_count": 20,
   "id": "3a10dcdb",
   "metadata": {
    "ExecuteTime": {
     "end_time": "2022-08-16T14:56:47.849905Z",
     "start_time": "2022-08-16T14:56:47.833303Z"
    }
   },
   "outputs": [
    {
     "name": "stdout",
     "output_type": "stream",
     "text": [
      "this method belongs to class B\n"
     ]
    }
   ],
   "source": [
    "b.display()"
   ]
  },
  {
   "cell_type": "markdown",
   "id": "21940ac6",
   "metadata": {},
   "source": [
    "# Abstract method: it is used when we want ot hide implementation of  class but just want to use the function\n",
    "\n",
    "# this class has no object"
   ]
  },
  {
   "cell_type": "code",
   "execution_count": 26,
   "id": "239dce42",
   "metadata": {
    "ExecuteTime": {
     "end_time": "2022-08-16T15:19:19.632624Z",
     "start_time": "2022-08-16T15:19:19.616060Z"
    }
   },
   "outputs": [],
   "source": [
    "from abc import ABC,abstractmethod\n",
    "class public(ABC):\n",
    "    def print1(self):\n",
    "        print(\"nothing\")\n",
    "    @abstractmethod\n",
    "    def printabstract(self):\n",
    "        print(\"this is abstract method\")\n",
    "        \n",
    "class child(public):\n",
    "    def print1(self):\n",
    "        print(\"child nothng\")\n",
    "    \n",
    "    def printabstract(self):\n",
    "        print(\"this is child-abstract method\")"
   ]
  },
  {
   "cell_type": "code",
   "execution_count": 27,
   "id": "6f4f0511",
   "metadata": {
    "ExecuteTime": {
     "end_time": "2022-08-16T15:19:20.628261Z",
     "start_time": "2022-08-16T15:19:20.613726Z"
    }
   },
   "outputs": [],
   "source": [
    "c=child()"
   ]
  },
  {
   "cell_type": "code",
   "execution_count": 29,
   "id": "b18c8ce3",
   "metadata": {
    "ExecuteTime": {
     "end_time": "2022-08-16T15:19:54.273648Z",
     "start_time": "2022-08-16T15:19:54.259994Z"
    }
   },
   "outputs": [
    {
     "name": "stdout",
     "output_type": "stream",
     "text": [
      "child nothng\n"
     ]
    }
   ],
   "source": [
    "c.print1()"
   ]
  },
  {
   "cell_type": "code",
   "execution_count": 30,
   "id": "9018c59c",
   "metadata": {
    "ExecuteTime": {
     "end_time": "2022-08-16T15:20:12.810344Z",
     "start_time": "2022-08-16T15:20:12.795289Z"
    }
   },
   "outputs": [
    {
     "name": "stdout",
     "output_type": "stream",
     "text": [
      "this is child-abstract method\n"
     ]
    }
   ],
   "source": [
    "c.printabstract()"
   ]
  },
  {
   "cell_type": "code",
   "execution_count": 24,
   "id": "1ac8c804",
   "metadata": {
    "ExecuteTime": {
     "end_time": "2022-08-16T15:18:27.164748Z",
     "start_time": "2022-08-16T15:18:27.149748Z"
    }
   },
   "outputs": [],
   "source": [
    "class calculate_area(ABC):\n",
    "    def text(self):\n",
    "        return 'This is an Abstract class example'\n",
    "    @abstractmethod # decorator\n",
    "    def area(self):\n",
    "        pass\n",
    "\n",
    "class square(calculate_area):\n",
    "    def __init__(self,side):\n",
    "        self.__side=side        \n",
    "    def area(self):\n",
    "        return self.__side*self.__side\n",
    "\n",
    "class rectangle(calculate_area):\n",
    "    def __init__(self, length, width):\n",
    "        self.length = length\n",
    "        self.width =  width\n",
    "    def area(self):\n",
    "        return self.length*self.width\n",
    "\n",
    "class triangle(calculate_area):\n",
    "    def __init__(self, base, height):\n",
    "        self.base= base\n",
    "        self.height= height\n",
    "    def area(self):\n",
    "        return 1/2*self.base*self.height"
   ]
  },
  {
   "cell_type": "code",
   "execution_count": 25,
   "id": "dc90fa41",
   "metadata": {
    "ExecuteTime": {
     "end_time": "2022-08-16T15:18:36.489702Z",
     "start_time": "2022-08-16T15:18:36.480702Z"
    }
   },
   "outputs": [],
   "source": [
    "S = square(2)"
   ]
  },
  {
   "cell_type": "code",
   "execution_count": null,
   "id": "d013b6cc",
   "metadata": {},
   "outputs": [],
   "source": []
  }
 ],
 "metadata": {
  "kernelspec": {
   "display_name": "Python 3 (ipykernel)",
   "language": "python",
   "name": "python3"
  },
  "language_info": {
   "codemirror_mode": {
    "name": "ipython",
    "version": 3
   },
   "file_extension": ".py",
   "mimetype": "text/x-python",
   "name": "python",
   "nbconvert_exporter": "python",
   "pygments_lexer": "ipython3",
   "version": "3.9.7"
  }
 },
 "nbformat": 4,
 "nbformat_minor": 5
}
