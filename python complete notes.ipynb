{
 "cells": [
  {
   "cell_type": "markdown",
   "id": "ccf6681f",
   "metadata": {
    "ExecuteTime": {
     "end_time": "2022-01-31T04:37:17.013517Z",
     "start_time": "2022-01-31T04:37:12.345227Z"
    },
    "scrolled": true
   },
   "source": [
    "input() #to take input, always take string"
   ]
  },
  {
   "cell_type": "code",
   "execution_count": 7,
   "id": "32985648",
   "metadata": {
    "ExecuteTime": {
     "end_time": "2022-01-31T04:38:06.795501Z",
     "start_time": "2022-01-31T04:38:04.775616Z"
    }
   },
   "outputs": [
    {
     "name": "stdout",
     "output_type": "stream",
     "text": [
      "258\n"
     ]
    }
   ],
   "source": [
    "a = input()"
   ]
  },
  {
   "cell_type": "code",
   "execution_count": 8,
   "id": "ee4df41e",
   "metadata": {
    "ExecuteTime": {
     "end_time": "2022-01-31T04:40:56.908578Z",
     "start_time": "2022-01-31T04:40:56.897814Z"
    }
   },
   "outputs": [],
   "source": [
    "a = 'pavan'    "
   ]
  },
  {
   "cell_type": "code",
   "execution_count": 13,
   "id": "c366749d",
   "metadata": {
    "ExecuteTime": {
     "end_time": "2022-01-31T04:44:04.903673Z",
     "start_time": "2022-01-31T04:44:04.888063Z"
    }
   },
   "outputs": [
    {
     "data": {
      "text/plain": [
       "'p'"
      ]
     },
     "execution_count": 13,
     "metadata": {},
     "output_type": "execute_result"
    }
   ],
   "source": [
    "a[0]     # index = 0,1,2,....,  or      -1,-2,-3..."
   ]
  },
  {
   "cell_type": "code",
   "execution_count": 10,
   "id": "831be0b0",
   "metadata": {
    "ExecuteTime": {
     "end_time": "2022-01-31T04:43:01.839391Z",
     "start_time": "2022-01-31T04:43:01.578574Z"
    }
   },
   "outputs": [
    {
     "ename": "IndexError",
     "evalue": "string index out of range",
     "output_type": "error",
     "traceback": [
      "\u001b[1;31m---------------------------------------------------------------------------\u001b[0m",
      "\u001b[1;31mIndexError\u001b[0m                                Traceback (most recent call last)",
      "\u001b[1;32m~\\AppData\\Local\\Temp/ipykernel_5568/2657792343.py\u001b[0m in \u001b[0;36m<module>\u001b[1;34m\u001b[0m\n\u001b[1;32m----> 1\u001b[1;33m \u001b[0ma\u001b[0m\u001b[1;33m[\u001b[0m\u001b[1;36m5\u001b[0m\u001b[1;33m]\u001b[0m\u001b[1;33m\u001b[0m\u001b[1;33m\u001b[0m\u001b[0m\n\u001b[0m",
      "\u001b[1;31mIndexError\u001b[0m: string index out of range"
     ]
    }
   ],
   "source": [
    "a[5]"
   ]
  },
  {
   "cell_type": "code",
   "execution_count": 12,
   "id": "9207ec00",
   "metadata": {
    "ExecuteTime": {
     "end_time": "2022-01-31T04:43:34.806288Z",
     "start_time": "2022-01-31T04:43:34.788843Z"
    }
   },
   "outputs": [
    {
     "data": {
      "text/plain": [
       "'n'"
      ]
     },
     "execution_count": 12,
     "metadata": {},
     "output_type": "execute_result"
    }
   ],
   "source": [
    "a[-1]"
   ]
  },
  {
   "cell_type": "code",
   "execution_count": 14,
   "id": "e1a0975c",
   "metadata": {
    "ExecuteTime": {
     "end_time": "2022-01-31T04:45:33.642792Z",
     "start_time": "2022-01-31T04:45:33.623638Z"
    }
   },
   "outputs": [
    {
     "data": {
      "text/plain": [
       "'pavan'"
      ]
     },
     "execution_count": 14,
     "metadata": {},
     "output_type": "execute_result"
    }
   ],
   "source": [
    "a[0:10]       #  0 - 9 index values will show up as a result"
   ]
  },
  {
   "cell_type": "markdown",
   "id": "3013b7ba",
   "metadata": {},
   "source": [
    "# STRING\n",
    "\n",
    "immutable(address is changed)"
   ]
  },
  {
   "cell_type": "code",
   "execution_count": 15,
   "id": "df0802f0",
   "metadata": {
    "ExecuteTime": {
     "end_time": "2022-01-31T04:49:55.833849Z",
     "start_time": "2022-01-31T04:49:55.817948Z"
    }
   },
   "outputs": [],
   "source": [
    "a = 'i am pavan kumar'"
   ]
  },
  {
   "cell_type": "code",
   "execution_count": 19,
   "id": "399b877f",
   "metadata": {
    "ExecuteTime": {
     "end_time": "2022-01-31T04:50:57.185837Z",
     "start_time": "2022-01-31T04:50:57.161966Z"
    }
   },
   "outputs": [
    {
     "data": {
      "text/plain": [
       "'ramu'"
      ]
     },
     "execution_count": 19,
     "metadata": {},
     "output_type": "execute_result"
    }
   ],
   "source": [
    "a[-1:-5]      # always move from left to right and cycle is allowed"
   ]
  },
  {
   "cell_type": "code",
   "execution_count": 20,
   "id": "eff13c2b",
   "metadata": {
    "ExecuteTime": {
     "end_time": "2022-01-31T04:51:15.713688Z",
     "start_time": "2022-01-31T04:51:15.690090Z"
    }
   },
   "outputs": [
    {
     "data": {
      "text/plain": [
       "'ramu'"
      ]
     },
     "execution_count": 20,
     "metadata": {},
     "output_type": "execute_result"
    }
   ],
   "source": [
    "a[-1:-5:-1]"
   ]
  },
  {
   "cell_type": "code",
   "execution_count": 22,
   "id": "960f70ba",
   "metadata": {
    "ExecuteTime": {
     "end_time": "2022-01-31T05:00:21.638170Z",
     "start_time": "2022-01-31T05:00:21.621278Z"
    }
   },
   "outputs": [
    {
     "data": {
      "text/plain": [
       "'ramuk navap ma i'"
      ]
     },
     "execution_count": 22,
     "metadata": {},
     "output_type": "execute_result"
    }
   ],
   "source": [
    "a[::-1]             # to reverse all"
   ]
  },
  {
   "cell_type": "code",
   "execution_count": 23,
   "id": "bc4f7340",
   "metadata": {
    "ExecuteTime": {
     "end_time": "2022-01-31T05:00:53.151130Z",
     "start_time": "2022-01-31T05:00:53.127600Z"
    }
   },
   "outputs": [
    {
     "data": {
      "text/plain": [
       "'i am pavan kumar'"
      ]
     },
     "execution_count": 23,
     "metadata": {},
     "output_type": "execute_result"
    }
   ],
   "source": [
    "a[0::]              # to take all"
   ]
  },
  {
   "cell_type": "code",
   "execution_count": 24,
   "id": "354b1c6c",
   "metadata": {
    "ExecuteTime": {
     "end_time": "2022-01-31T05:03:00.481750Z",
     "start_time": "2022-01-31T05:03:00.457376Z"
    }
   },
   "outputs": [
    {
     "data": {
      "text/plain": [
       "'ramuk nava'"
      ]
     },
     "execution_count": 24,
     "metadata": {},
     "output_type": "execute_result"
    }
   ],
   "source": [
    "a[-1:5:-1]"
   ]
  },
  {
   "cell_type": "code",
   "execution_count": 26,
   "id": "43d902d4",
   "metadata": {
    "ExecuteTime": {
     "end_time": "2022-01-31T05:12:31.871440Z",
     "start_time": "2022-01-31T05:12:31.848274Z"
    }
   },
   "outputs": [
    {
     "data": {
      "text/plain": [
       "2"
      ]
     },
     "execution_count": 26,
     "metadata": {},
     "output_type": "execute_result"
    }
   ],
   "source": [
    "a.find('a')    # look at location of a at first occurance,   shift+tab gives help"
   ]
  },
  {
   "cell_type": "code",
   "execution_count": 27,
   "id": "6582eeb8",
   "metadata": {
    "ExecuteTime": {
     "end_time": "2022-01-31T05:13:40.066397Z",
     "start_time": "2022-01-31T05:13:40.048705Z"
    }
   },
   "outputs": [
    {
     "data": {
      "text/plain": [
       "1"
      ]
     },
     "execution_count": 27,
     "metadata": {},
     "output_type": "execute_result"
    }
   ],
   "source": [
    "a.count('i')     # gives no of times i is available"
   ]
  },
  {
   "cell_type": "code",
   "execution_count": 30,
   "id": "84168757",
   "metadata": {
    "ExecuteTime": {
     "end_time": "2022-01-31T05:20:45.818631Z",
     "start_time": "2022-01-31T05:20:45.808005Z"
    }
   },
   "outputs": [],
   "source": [
    "b= a.split()      # return list of word in a string"
   ]
  },
  {
   "cell_type": "code",
   "execution_count": 31,
   "id": "47848dd8",
   "metadata": {
    "ExecuteTime": {
     "end_time": "2022-01-31T05:20:52.222988Z",
     "start_time": "2022-01-31T05:20:52.202829Z"
    }
   },
   "outputs": [
    {
     "data": {
      "text/plain": [
       "'am'"
      ]
     },
     "execution_count": 31,
     "metadata": {},
     "output_type": "execute_result"
    }
   ],
   "source": [
    "b[1]"
   ]
  },
  {
   "cell_type": "code",
   "execution_count": 34,
   "id": "43e6e3b2",
   "metadata": {
    "ExecuteTime": {
     "end_time": "2022-01-31T05:23:24.187071Z",
     "start_time": "2022-01-31T05:23:24.167754Z"
    }
   },
   "outputs": [
    {
     "data": {
      "text/plain": [
       "['i am ', 'avan kumar']"
      ]
     },
     "execution_count": 34,
     "metadata": {},
     "output_type": "execute_result"
    }
   ],
   "source": [
    "a.split(\"p\")     # split based on p"
   ]
  },
  {
   "cell_type": "code",
   "execution_count": 36,
   "id": "643e8efb",
   "metadata": {
    "ExecuteTime": {
     "end_time": "2022-01-31T05:24:03.550536Z",
     "start_time": "2022-01-31T05:24:03.512781Z"
    }
   },
   "outputs": [
    {
     "data": {
      "text/plain": [
       "'I AM PAVAN KUMAR'"
      ]
     },
     "execution_count": 36,
     "metadata": {},
     "output_type": "execute_result"
    }
   ],
   "source": [
    "a.upper()"
   ]
  },
  {
   "cell_type": "code",
   "execution_count": 38,
   "id": "afa74fa3",
   "metadata": {
    "ExecuteTime": {
     "end_time": "2022-01-31T05:24:17.818949Z",
     "start_time": "2022-01-31T05:24:17.792903Z"
    }
   },
   "outputs": [
    {
     "data": {
      "text/plain": [
       "'i am pavan kumar'"
      ]
     },
     "execution_count": 38,
     "metadata": {},
     "output_type": "execute_result"
    }
   ],
   "source": [
    "a.lower()"
   ]
  },
  {
   "cell_type": "code",
   "execution_count": 44,
   "id": "36b20ec6",
   "metadata": {
    "ExecuteTime": {
     "end_time": "2022-01-31T05:25:22.737143Z",
     "start_time": "2022-01-31T05:25:22.720859Z"
    }
   },
   "outputs": [],
   "source": [
    "a = 'I am Pavan Kumar'"
   ]
  },
  {
   "cell_type": "code",
   "execution_count": 45,
   "id": "56b7b004",
   "metadata": {
    "ExecuteTime": {
     "end_time": "2022-01-31T05:25:23.075605Z",
     "start_time": "2022-01-31T05:25:23.043112Z"
    }
   },
   "outputs": [
    {
     "data": {
      "text/plain": [
       "'i AM pAVAN kUMAR'"
      ]
     },
     "execution_count": 45,
     "metadata": {},
     "output_type": "execute_result"
    }
   ],
   "source": [
    "a.swapcase()"
   ]
  },
  {
   "cell_type": "code",
   "execution_count": 46,
   "id": "13007b49",
   "metadata": {
    "ExecuteTime": {
     "end_time": "2022-01-31T05:25:23.477108Z",
     "start_time": "2022-01-31T05:25:23.457973Z"
    }
   },
   "outputs": [
    {
     "data": {
      "text/plain": [
       "'I Am Pavan Kumar'"
      ]
     },
     "execution_count": 46,
     "metadata": {},
     "output_type": "execute_result"
    }
   ],
   "source": [
    "a.title()"
   ]
  },
  {
   "cell_type": "code",
   "execution_count": 47,
   "id": "b35ab48a",
   "metadata": {
    "ExecuteTime": {
     "end_time": "2022-01-31T05:25:36.452616Z",
     "start_time": "2022-01-31T05:25:36.432665Z"
    }
   },
   "outputs": [
    {
     "data": {
      "text/plain": [
       "'I am pavan kumar'"
      ]
     },
     "execution_count": 47,
     "metadata": {},
     "output_type": "execute_result"
    }
   ],
   "source": [
    "a.capitalize()"
   ]
  },
  {
   "cell_type": "code",
   "execution_count": 48,
   "id": "169c7375",
   "metadata": {
    "ExecuteTime": {
     "end_time": "2022-01-31T05:26:24.228451Z",
     "start_time": "2022-01-31T05:26:24.212947Z"
    }
   },
   "outputs": [],
   "source": [
    "a = 'ineuron'\n",
    "b = 'oneneuron'"
   ]
  },
  {
   "cell_type": "code",
   "execution_count": 49,
   "id": "6f8b9b49",
   "metadata": {
    "ExecuteTime": {
     "end_time": "2022-01-31T05:26:36.436544Z",
     "start_time": "2022-01-31T05:26:36.417894Z"
    }
   },
   "outputs": [
    {
     "data": {
      "text/plain": [
       "'ioneneuronnoneneuroneoneneuronuoneneuronroneneuronooneneuronn'"
      ]
     },
     "execution_count": 49,
     "metadata": {},
     "output_type": "execute_result"
    }
   ],
   "source": [
    "b.join(a)"
   ]
  },
  {
   "cell_type": "code",
   "execution_count": 53,
   "id": "b278fb0e",
   "metadata": {
    "ExecuteTime": {
     "end_time": "2022-01-31T05:27:42.386454Z",
     "start_time": "2022-01-31T05:27:42.362966Z"
    }
   },
   "outputs": [
    {
     "data": {
      "text/plain": [
       "'p1a1v1a1n'"
      ]
     },
     "execution_count": 53,
     "metadata": {},
     "output_type": "execute_result"
    }
   ],
   "source": [
    "\"1\".join('pavan')"
   ]
  },
  {
   "cell_type": "code",
   "execution_count": 54,
   "id": "13161138",
   "metadata": {
    "ExecuteTime": {
     "end_time": "2022-01-31T05:29:08.618989Z",
     "start_time": "2022-01-31T05:29:08.592605Z"
    }
   },
   "outputs": [],
   "source": [
    "a = ' pavan '"
   ]
  },
  {
   "cell_type": "code",
   "execution_count": 55,
   "id": "e6755b43",
   "metadata": {
    "ExecuteTime": {
     "end_time": "2022-01-31T05:29:20.239671Z",
     "start_time": "2022-01-31T05:29:20.230472Z"
    }
   },
   "outputs": [
    {
     "data": {
      "text/plain": [
       "' pavan'"
      ]
     },
     "execution_count": 55,
     "metadata": {},
     "output_type": "execute_result"
    }
   ],
   "source": [
    "a.rstrip()"
   ]
  },
  {
   "cell_type": "code",
   "execution_count": 56,
   "id": "a85d1290",
   "metadata": {
    "ExecuteTime": {
     "end_time": "2022-01-31T05:29:28.478983Z",
     "start_time": "2022-01-31T05:29:28.453236Z"
    }
   },
   "outputs": [
    {
     "data": {
      "text/plain": [
       "'pavan '"
      ]
     },
     "execution_count": 56,
     "metadata": {},
     "output_type": "execute_result"
    }
   ],
   "source": [
    "a.lstrip()"
   ]
  },
  {
   "cell_type": "code",
   "execution_count": 57,
   "id": "5d0b4b2c",
   "metadata": {
    "ExecuteTime": {
     "end_time": "2022-01-31T05:29:37.133523Z",
     "start_time": "2022-01-31T05:29:37.118885Z"
    }
   },
   "outputs": [
    {
     "data": {
      "text/plain": [
       "'pavan'"
      ]
     },
     "execution_count": 57,
     "metadata": {},
     "output_type": "execute_result"
    }
   ],
   "source": [
    "a.strip()"
   ]
  },
  {
   "cell_type": "code",
   "execution_count": 59,
   "id": "d13d7fc8",
   "metadata": {
    "ExecuteTime": {
     "end_time": "2022-01-31T05:35:28.161380Z",
     "start_time": "2022-01-31T05:35:28.143250Z"
    }
   },
   "outputs": [
    {
     "data": {
      "text/plain": [
       "' pawan '"
      ]
     },
     "execution_count": 59,
     "metadata": {},
     "output_type": "execute_result"
    }
   ],
   "source": [
    "a.replace('v', 'w')"
   ]
  },
  {
   "cell_type": "code",
   "execution_count": 60,
   "id": "1d0e623c",
   "metadata": {
    "ExecuteTime": {
     "end_time": "2022-01-31T05:36:34.765507Z",
     "start_time": "2022-01-31T05:36:34.747966Z"
    }
   },
   "outputs": [
    {
     "data": {
      "text/plain": [
       "'pavan   kumar'"
      ]
     },
     "execution_count": 60,
     "metadata": {},
     "output_type": "execute_result"
    }
   ],
   "source": [
    "'pavan\\tkumar'.expandtabs()"
   ]
  },
  {
   "cell_type": "code",
   "execution_count": 61,
   "id": "1e2576a7",
   "metadata": {
    "ExecuteTime": {
     "end_time": "2022-01-31T05:39:48.507674Z",
     "start_time": "2022-01-31T05:39:48.493585Z"
    }
   },
   "outputs": [
    {
     "data": {
      "text/plain": [
       "False"
      ]
     },
     "execution_count": 61,
     "metadata": {},
     "output_type": "execute_result"
    }
   ],
   "source": [
    "a.isupper()     # function starts with is always gives bolean result"
   ]
  },
  {
   "cell_type": "code",
   "execution_count": 62,
   "id": "ff9a1878",
   "metadata": {
    "ExecuteTime": {
     "end_time": "2022-01-31T05:40:22.525625Z",
     "start_time": "2022-01-31T05:40:22.503476Z"
    }
   },
   "outputs": [
    {
     "data": {
      "text/plain": [
       "True"
      ]
     },
     "execution_count": 62,
     "metadata": {},
     "output_type": "execute_result"
    }
   ],
   "source": [
    "a.islower()"
   ]
  },
  {
   "cell_type": "code",
   "execution_count": 63,
   "id": "d34117ef",
   "metadata": {
    "ExecuteTime": {
     "end_time": "2022-01-31T05:41:15.212896Z",
     "start_time": "2022-01-31T05:41:15.196647Z"
    }
   },
   "outputs": [
    {
     "data": {
      "text/plain": [
       "False"
      ]
     },
     "execution_count": 63,
     "metadata": {},
     "output_type": "execute_result"
    }
   ],
   "source": [
    "a.isdigit()"
   ]
  },
  {
   "cell_type": "code",
   "execution_count": 65,
   "id": "d93b52fa",
   "metadata": {
    "ExecuteTime": {
     "end_time": "2022-01-31T05:41:56.487542Z",
     "start_time": "2022-01-31T05:41:56.473280Z"
    }
   },
   "outputs": [
    {
     "data": {
      "text/plain": [
       "False"
      ]
     },
     "execution_count": 65,
     "metadata": {},
     "output_type": "execute_result"
    }
   ],
   "source": [
    "a.endswith('n')      # if a ends with n gives true else false"
   ]
  },
  {
   "cell_type": "code",
   "execution_count": 66,
   "id": "6c9397d5",
   "metadata": {
    "ExecuteTime": {
     "end_time": "2022-01-31T05:43:32.423687Z",
     "start_time": "2022-01-31T05:43:32.403591Z"
    }
   },
   "outputs": [
    {
     "data": {
      "text/plain": [
       "b' pavan '"
      ]
     },
     "execution_count": 66,
     "metadata": {},
     "output_type": "execute_result"
    }
   ],
   "source": [
    "a.encode()"
   ]
  },
  {
   "cell_type": "markdown",
   "id": "f0ad0afc",
   "metadata": {},
   "source": [
    "# LIST"
   ]
  },
  {
   "cell_type": "markdown",
   "id": "515a7c28",
   "metadata": {},
   "source": [
    "collection of multiple heterogenous or homogenous data\n",
    "\n",
    "indexing is allowed,  reassignment is possible, mutable"
   ]
  },
  {
   "cell_type": "code",
   "execution_count": 67,
   "id": "d3bd77c0",
   "metadata": {
    "ExecuteTime": {
     "end_time": "2022-01-31T05:47:11.547719Z",
     "start_time": "2022-01-31T05:47:11.520894Z"
    }
   },
   "outputs": [],
   "source": [
    "l = [1,'pavan',4+8j,[1,2,3]]"
   ]
  },
  {
   "cell_type": "code",
   "execution_count": 68,
   "id": "8dbb786e",
   "metadata": {
    "ExecuteTime": {
     "end_time": "2022-01-31T05:48:30.343107Z",
     "start_time": "2022-01-31T05:48:30.323957Z"
    }
   },
   "outputs": [
    {
     "data": {
      "text/plain": [
       "[1, 2, 3]"
      ]
     },
     "execution_count": 68,
     "metadata": {},
     "output_type": "execute_result"
    }
   ],
   "source": [
    "l[-1]"
   ]
  },
  {
   "cell_type": "code",
   "execution_count": 69,
   "id": "14b31a99",
   "metadata": {
    "ExecuteTime": {
     "end_time": "2022-01-31T05:48:43.926788Z",
     "start_time": "2022-01-31T05:48:43.905752Z"
    }
   },
   "outputs": [
    {
     "data": {
      "text/plain": [
       "1"
      ]
     },
     "execution_count": 69,
     "metadata": {},
     "output_type": "execute_result"
    }
   ],
   "source": [
    "l[-1][0]"
   ]
  },
  {
   "cell_type": "code",
   "execution_count": 70,
   "id": "9186e974",
   "metadata": {
    "ExecuteTime": {
     "end_time": "2022-01-31T05:49:12.321316Z",
     "start_time": "2022-01-31T05:49:12.303489Z"
    }
   },
   "outputs": [
    {
     "data": {
      "text/plain": [
       "[[1, 2, 3], (4+8j), 'pavan', 1]"
      ]
     },
     "execution_count": 70,
     "metadata": {},
     "output_type": "execute_result"
    }
   ],
   "source": [
    "l[::-1]"
   ]
  },
  {
   "cell_type": "code",
   "execution_count": 71,
   "id": "90fac4d7",
   "metadata": {
    "ExecuteTime": {
     "end_time": "2022-01-31T05:50:18.937202Z",
     "start_time": "2022-01-31T05:50:18.911807Z"
    }
   },
   "outputs": [
    {
     "data": {
      "text/plain": [
       "'v'"
      ]
     },
     "execution_count": 71,
     "metadata": {},
     "output_type": "execute_result"
    }
   ],
   "source": [
    "l[1][2]"
   ]
  },
  {
   "cell_type": "code",
   "execution_count": 72,
   "id": "20ae9c09",
   "metadata": {
    "ExecuteTime": {
     "end_time": "2022-01-31T05:54:01.115796Z",
     "start_time": "2022-01-31T05:54:01.093952Z"
    }
   },
   "outputs": [
    {
     "data": {
      "text/plain": [
       "4.0"
      ]
     },
     "execution_count": 72,
     "metadata": {},
     "output_type": "execute_result"
    }
   ],
   "source": [
    "l[2].real"
   ]
  },
  {
   "cell_type": "code",
   "execution_count": 73,
   "id": "a30d33b4",
   "metadata": {
    "ExecuteTime": {
     "end_time": "2022-01-31T05:54:32.733447Z",
     "start_time": "2022-01-31T05:54:32.703897Z"
    }
   },
   "outputs": [
    {
     "data": {
      "text/plain": [
       "[1, 'pavan', (4+8j), [1, 2, 3], 'pk']"
      ]
     },
     "execution_count": 73,
     "metadata": {},
     "output_type": "execute_result"
    }
   ],
   "source": [
    "l+['pk']"
   ]
  },
  {
   "cell_type": "code",
   "execution_count": 74,
   "id": "34eb37d7",
   "metadata": {
    "ExecuteTime": {
     "end_time": "2022-01-31T05:55:01.323969Z",
     "start_time": "2022-01-31T05:55:01.299362Z"
    }
   },
   "outputs": [
    {
     "data": {
      "text/plain": [
       "[1, 'pavan', (4+8j), [1, 2, 3], 1, 'pavan', (4+8j), [1, 2, 3]]"
      ]
     },
     "execution_count": 74,
     "metadata": {},
     "output_type": "execute_result"
    }
   ],
   "source": [
    "l*2"
   ]
  },
  {
   "cell_type": "code",
   "execution_count": 79,
   "id": "4fc89de0",
   "metadata": {
    "ExecuteTime": {
     "end_time": "2022-01-31T05:56:25.979954Z",
     "start_time": "2022-01-31T05:56:25.970917Z"
    }
   },
   "outputs": [],
   "source": [
    "l[0] = 235      "
   ]
  },
  {
   "cell_type": "code",
   "execution_count": 75,
   "id": "30730f69",
   "metadata": {
    "ExecuteTime": {
     "end_time": "2022-01-31T05:55:18.134094Z",
     "start_time": "2022-01-31T05:55:18.114120Z"
    }
   },
   "outputs": [],
   "source": [
    "l.append('shanu')"
   ]
  },
  {
   "cell_type": "code",
   "execution_count": 76,
   "id": "6634c584",
   "metadata": {
    "ExecuteTime": {
     "end_time": "2022-01-31T05:55:21.804889Z",
     "start_time": "2022-01-31T05:55:21.789238Z"
    }
   },
   "outputs": [
    {
     "data": {
      "text/plain": [
       "[1, 'pavan', (4+8j), [1, 2, 3], 'shanu']"
      ]
     },
     "execution_count": 76,
     "metadata": {},
     "output_type": "execute_result"
    }
   ],
   "source": [
    "l          # add permanently"
   ]
  },
  {
   "cell_type": "code",
   "execution_count": 78,
   "id": "5f4235d5",
   "metadata": {
    "ExecuteTime": {
     "end_time": "2022-01-31T05:56:07.222577Z",
     "start_time": "2022-01-31T05:56:07.207232Z"
    }
   },
   "outputs": [
    {
     "data": {
      "text/plain": [
       "[1, 'pavan', (4+8j), [1, 2, 3], 'shanu', 'pk']"
      ]
     },
     "execution_count": 78,
     "metadata": {},
     "output_type": "execute_result"
    }
   ],
   "source": [
    "l+['pk']   # add temparorily"
   ]
  },
  {
   "cell_type": "code",
   "execution_count": 81,
   "id": "9a31dfa6",
   "metadata": {
    "ExecuteTime": {
     "end_time": "2022-01-31T05:58:11.107199Z",
     "start_time": "2022-01-31T05:58:11.089001Z"
    }
   },
   "outputs": [],
   "source": [
    "l[1] = 'kumar'"
   ]
  },
  {
   "cell_type": "code",
   "execution_count": 82,
   "id": "57913eb9",
   "metadata": {
    "ExecuteTime": {
     "end_time": "2022-01-31T05:59:35.702607Z",
     "start_time": "2022-01-31T05:59:35.683996Z"
    }
   },
   "outputs": [
    {
     "data": {
      "text/plain": [
       "[235, 'kumar', (4+8j), [1, 2, 3], 'shanu']"
      ]
     },
     "execution_count": 82,
     "metadata": {},
     "output_type": "execute_result"
    }
   ],
   "source": [
    "l"
   ]
  },
  {
   "cell_type": "code",
   "execution_count": 83,
   "id": "fb24caaf",
   "metadata": {
    "ExecuteTime": {
     "end_time": "2022-01-31T06:01:59.534615Z",
     "start_time": "2022-01-31T06:01:59.504007Z"
    }
   },
   "outputs": [
    {
     "data": {
      "text/plain": [
       "True"
      ]
     },
     "execution_count": 83,
     "metadata": {},
     "output_type": "execute_result"
    }
   ],
   "source": [
    "'kumar' in l"
   ]
  },
  {
   "cell_type": "code",
   "execution_count": 84,
   "id": "79a7543b",
   "metadata": {
    "ExecuteTime": {
     "end_time": "2022-01-31T06:03:13.414114Z",
     "start_time": "2022-01-31T06:03:13.394199Z"
    }
   },
   "outputs": [
    {
     "data": {
      "text/plain": [
       "'shanu'"
      ]
     },
     "execution_count": 84,
     "metadata": {},
     "output_type": "execute_result"
    }
   ],
   "source": [
    "l.pop()    # remove last element"
   ]
  },
  {
   "cell_type": "code",
   "execution_count": 85,
   "id": "f721b423",
   "metadata": {
    "ExecuteTime": {
     "end_time": "2022-01-31T06:03:20.799319Z",
     "start_time": "2022-01-31T06:03:20.783993Z"
    }
   },
   "outputs": [
    {
     "data": {
      "text/plain": [
       "[235, 'kumar', (4+8j), [1, 2, 3]]"
      ]
     },
     "execution_count": 85,
     "metadata": {},
     "output_type": "execute_result"
    }
   ],
   "source": [
    "l"
   ]
  },
  {
   "cell_type": "code",
   "execution_count": 87,
   "id": "671d0da8",
   "metadata": {
    "ExecuteTime": {
     "end_time": "2022-01-31T06:03:58.965656Z",
     "start_time": "2022-01-31T06:03:58.949157Z"
    }
   },
   "outputs": [],
   "source": [
    "l.remove (235)     # remove what ever we need"
   ]
  },
  {
   "cell_type": "code",
   "execution_count": 88,
   "id": "7039c402",
   "metadata": {
    "ExecuteTime": {
     "end_time": "2022-01-31T06:04:02.603529Z",
     "start_time": "2022-01-31T06:04:02.574704Z"
    }
   },
   "outputs": [
    {
     "data": {
      "text/plain": [
       "['kumar', (4+8j), [1, 2, 3]]"
      ]
     },
     "execution_count": 88,
     "metadata": {},
     "output_type": "execute_result"
    }
   ],
   "source": [
    "l"
   ]
  },
  {
   "cell_type": "code",
   "execution_count": 89,
   "id": "c7b8c6c6",
   "metadata": {
    "ExecuteTime": {
     "end_time": "2022-01-31T06:04:48.004086Z",
     "start_time": "2022-01-31T06:04:47.994308Z"
    }
   },
   "outputs": [],
   "source": [
    "l.append(324)       #always add last"
   ]
  },
  {
   "cell_type": "code",
   "execution_count": 92,
   "id": "b2f7c1df",
   "metadata": {
    "ExecuteTime": {
     "end_time": "2022-01-31T06:05:40.337690Z",
     "start_time": "2022-01-31T06:05:40.329587Z"
    }
   },
   "outputs": [],
   "source": [
    "l.insert(0,'shanu')   # insert where ever we want"
   ]
  },
  {
   "cell_type": "code",
   "execution_count": 95,
   "id": "e2ee00f3",
   "metadata": {
    "ExecuteTime": {
     "end_time": "2022-01-31T06:07:10.888000Z",
     "start_time": "2022-01-31T06:07:10.864254Z"
    }
   },
   "outputs": [],
   "source": [
    "l.reverse()"
   ]
  },
  {
   "cell_type": "code",
   "execution_count": 96,
   "id": "8761a0d7",
   "metadata": {
    "ExecuteTime": {
     "end_time": "2022-01-31T06:07:12.257728Z",
     "start_time": "2022-01-31T06:07:12.224346Z"
    }
   },
   "outputs": [
    {
     "data": {
      "text/plain": [
       "['shanu', 'shanu', 'kumar', (4+8j), [1, 2, 3], 324]"
      ]
     },
     "execution_count": 96,
     "metadata": {},
     "output_type": "execute_result"
    }
   ],
   "source": [
    "l"
   ]
  },
  {
   "cell_type": "code",
   "execution_count": 97,
   "id": "18dc7b2c",
   "metadata": {
    "ExecuteTime": {
     "end_time": "2022-01-31T06:08:46.209317Z",
     "start_time": "2022-01-31T06:08:46.184566Z"
    }
   },
   "outputs": [
    {
     "data": {
      "text/plain": [
       "2"
      ]
     },
     "execution_count": 97,
     "metadata": {},
     "output_type": "execute_result"
    }
   ],
   "source": [
    "l.count('shanu')"
   ]
  },
  {
   "cell_type": "code",
   "execution_count": 101,
   "id": "1ecf1e56",
   "metadata": {
    "ExecuteTime": {
     "end_time": "2022-01-31T06:10:39.919437Z",
     "start_time": "2022-01-31T06:10:39.894633Z"
    }
   },
   "outputs": [],
   "source": [
    "l.extend([2,3,4,5])   # add as different elements means unwrap and add, but append add as a single element"
   ]
  },
  {
   "cell_type": "code",
   "execution_count": 99,
   "id": "849e4fd1",
   "metadata": {
    "ExecuteTime": {
     "end_time": "2022-01-31T06:09:47.163836Z",
     "start_time": "2022-01-31T06:09:47.144247Z"
    }
   },
   "outputs": [
    {
     "data": {
      "text/plain": [
       "['shanu', 'shanu', 'kumar', (4+8j), [1, 2, 3], 324, 2, 3, 4, 5]"
      ]
     },
     "execution_count": 99,
     "metadata": {},
     "output_type": "execute_result"
    }
   ],
   "source": [
    "l"
   ]
  },
  {
   "cell_type": "markdown",
   "id": "8f7ffd08",
   "metadata": {},
   "source": [
    "# Tuple ()\n",
    "\n",
    "immutable, slicing is allowed"
   ]
  },
  {
   "cell_type": "code",
   "execution_count": 1,
   "id": "162e51c1",
   "metadata": {
    "ExecuteTime": {
     "end_time": "2022-05-21T10:38:19.717658Z",
     "start_time": "2022-05-21T10:38:19.701194Z"
    }
   },
   "outputs": [],
   "source": [
    "t = (1,2,3,'pavan',[1,2,3],4+8J)"
   ]
  },
  {
   "cell_type": "code",
   "execution_count": 104,
   "id": "62bbc58d",
   "metadata": {
    "ExecuteTime": {
     "end_time": "2022-01-31T06:19:26.619302Z",
     "start_time": "2022-01-31T06:19:26.612321Z"
    }
   },
   "outputs": [
    {
     "data": {
      "text/plain": [
       "(1, 2, 3, 'pavan', [1, 2, 3], (4+8j))"
      ]
     },
     "execution_count": 104,
     "metadata": {},
     "output_type": "execute_result"
    }
   ],
   "source": [
    "t [0::]          #slicing done in []"
   ]
  },
  {
   "cell_type": "code",
   "execution_count": 105,
   "id": "1876496b",
   "metadata": {
    "ExecuteTime": {
     "end_time": "2022-01-31T06:27:38.995432Z",
     "start_time": "2022-01-31T06:27:38.989451Z"
    }
   },
   "outputs": [],
   "source": [
    "t1 = (4,5,6,'shanu',5+6J,[9,8,7])"
   ]
  },
  {
   "cell_type": "code",
   "execution_count": 111,
   "id": "e9266d6b",
   "metadata": {
    "ExecuteTime": {
     "end_time": "2022-01-31T06:30:30.938181Z",
     "start_time": "2022-01-31T06:30:30.921228Z"
    }
   },
   "outputs": [
    {
     "name": "stdout",
     "output_type": "stream",
     "text": [
      "(1, 2, 3, 'pavan', [1, 2, 3], (4+8j), 4, 5, 6, 'shanu', (5+6j), [9, 8, 7])\n"
     ]
    }
   ],
   "source": [
    "t3 = t+t1 \n",
    "print(t3)"
   ]
  },
  {
   "cell_type": "code",
   "execution_count": 108,
   "id": "ea98f335",
   "metadata": {
    "ExecuteTime": {
     "end_time": "2022-01-31T06:28:59.575849Z",
     "start_time": "2022-01-31T06:28:59.555233Z"
    }
   },
   "outputs": [
    {
     "ename": "TypeError",
     "evalue": "'tuple' object does not support item assignment",
     "output_type": "error",
     "traceback": [
      "\u001b[1;31m---------------------------------------------------------------------------\u001b[0m",
      "\u001b[1;31mTypeError\u001b[0m                                 Traceback (most recent call last)",
      "\u001b[1;32m~\\AppData\\Local\\Temp/ipykernel_5568/418035964.py\u001b[0m in \u001b[0;36m<module>\u001b[1;34m\u001b[0m\n\u001b[1;32m----> 1\u001b[1;33m \u001b[0mt\u001b[0m\u001b[1;33m[\u001b[0m\u001b[1;36m0\u001b[0m\u001b[1;33m]\u001b[0m \u001b[1;33m=\u001b[0m \u001b[1;36m1\u001b[0m    \u001b[1;31m# does not allow to change\u001b[0m\u001b[1;33m\u001b[0m\u001b[1;33m\u001b[0m\u001b[0m\n\u001b[0m",
      "\u001b[1;31mTypeError\u001b[0m: 'tuple' object does not support item assignment"
     ]
    }
   ],
   "source": [
    "t[0] = 1    # does not allow to change "
   ]
  },
  {
   "cell_type": "code",
   "execution_count": 112,
   "id": "b46968ea",
   "metadata": {
    "ExecuteTime": {
     "end_time": "2022-01-31T06:44:24.368009Z",
     "start_time": "2022-01-31T06:44:24.351286Z"
    }
   },
   "outputs": [
    {
     "data": {
      "text/plain": [
       "3"
      ]
     },
     "execution_count": 112,
     "metadata": {},
     "output_type": "execute_result"
    }
   ],
   "source": [
    "t.index('pavan')"
   ]
  },
  {
   "cell_type": "code",
   "execution_count": 113,
   "id": "ad8fd596",
   "metadata": {
    "ExecuteTime": {
     "end_time": "2022-01-31T06:44:35.723734Z",
     "start_time": "2022-01-31T06:44:35.718747Z"
    }
   },
   "outputs": [
    {
     "data": {
      "text/plain": [
       "0"
      ]
     },
     "execution_count": 113,
     "metadata": {},
     "output_type": "execute_result"
    }
   ],
   "source": [
    "t.count('shanu')"
   ]
  },
  {
   "cell_type": "code",
   "execution_count": 115,
   "id": "2ed48df7",
   "metadata": {
    "ExecuteTime": {
     "end_time": "2022-01-31T06:48:25.884886Z",
     "start_time": "2022-01-31T06:48:25.878535Z"
    }
   },
   "outputs": [],
   "source": [
    "t1[-1][1] = [1,4,7]"
   ]
  },
  {
   "cell_type": "code",
   "execution_count": 117,
   "id": "317600a7",
   "metadata": {
    "ExecuteTime": {
     "end_time": "2022-01-31T06:48:57.136449Z",
     "start_time": "2022-01-31T06:48:57.121357Z"
    }
   },
   "outputs": [
    {
     "data": {
      "text/plain": [
       "(4, 5, 6, 'shanu', (5+6j), [9, [1, 4, 7], 7])"
      ]
     },
     "execution_count": 117,
     "metadata": {},
     "output_type": "execute_result"
    }
   ],
   "source": [
    "t1    # list inside tuple can be modified"
   ]
  },
  {
   "cell_type": "code",
   "execution_count": 118,
   "id": "2a978140",
   "metadata": {
    "ExecuteTime": {
     "end_time": "2022-01-31T06:51:03.001238Z",
     "start_time": "2022-01-31T06:51:02.981065Z"
    }
   },
   "outputs": [
    {
     "data": {
      "text/plain": [
       "[4, 5, 6, 'shanu', (5+6j), [9, [1, 4, 7], 7]]"
      ]
     },
     "execution_count": 118,
     "metadata": {},
     "output_type": "execute_result"
    }
   ],
   "source": [
    "list(t1)"
   ]
  },
  {
   "cell_type": "code",
   "execution_count": 119,
   "id": "43e8a254",
   "metadata": {
    "ExecuteTime": {
     "end_time": "2022-01-31T06:51:19.980990Z",
     "start_time": "2022-01-31T06:51:19.970942Z"
    }
   },
   "outputs": [
    {
     "data": {
      "text/plain": [
       "(4, 5, 6, 'shanu', (5+6j), [9, [1, 4, 7], 7])"
      ]
     },
     "execution_count": 119,
     "metadata": {},
     "output_type": "execute_result"
    }
   ],
   "source": [
    "tuple(t1)"
   ]
  },
  {
   "cell_type": "markdown",
   "id": "3b4e23ff",
   "metadata": {},
   "source": [
    "# SET {}\n",
    "Gives unordered collection of unique elements, no slicing, no list inside of set, set is neither mutable nor immutable"
   ]
  },
  {
   "cell_type": "code",
   "execution_count": 120,
   "id": "2e399301",
   "metadata": {
    "ExecuteTime": {
     "end_time": "2022-01-31T06:54:01.711959Z",
     "start_time": "2022-01-31T06:54:01.701987Z"
    }
   },
   "outputs": [
    {
     "data": {
      "text/plain": [
       "{1, 2, 3, 4, 5, 6, 46, 56}"
      ]
     },
     "execution_count": 120,
     "metadata": {},
     "output_type": "execute_result"
    }
   ],
   "source": [
    "l = [1,1,1,2,2,2,3,3,3,56,4,4,46,5,56,6,5]\n",
    "set(l)"
   ]
  },
  {
   "cell_type": "code",
   "execution_count": 121,
   "id": "1d3b91df",
   "metadata": {
    "ExecuteTime": {
     "end_time": "2022-01-31T06:54:26.541711Z",
     "start_time": "2022-01-31T06:54:26.527602Z"
    }
   },
   "outputs": [],
   "source": [
    "s = {}"
   ]
  },
  {
   "cell_type": "code",
   "execution_count": 122,
   "id": "ea7a5d62",
   "metadata": {
    "ExecuteTime": {
     "end_time": "2022-01-31T06:54:33.670710Z",
     "start_time": "2022-01-31T06:54:33.660738Z"
    }
   },
   "outputs": [
    {
     "data": {
      "text/plain": [
       "dict"
      ]
     },
     "execution_count": 122,
     "metadata": {},
     "output_type": "execute_result"
    }
   ],
   "source": [
    "type(s)"
   ]
  },
  {
   "cell_type": "code",
   "execution_count": 123,
   "id": "1adaed5a",
   "metadata": {
    "ExecuteTime": {
     "end_time": "2022-01-31T06:54:50.683917Z",
     "start_time": "2022-01-31T06:54:50.679421Z"
    }
   },
   "outputs": [],
   "source": [
    "s1 = {''}"
   ]
  },
  {
   "cell_type": "code",
   "execution_count": 124,
   "id": "406e9c96",
   "metadata": {
    "ExecuteTime": {
     "end_time": "2022-01-31T06:54:57.599966Z",
     "start_time": "2022-01-31T06:54:57.593979Z"
    }
   },
   "outputs": [
    {
     "data": {
      "text/plain": [
       "set"
      ]
     },
     "execution_count": 124,
     "metadata": {},
     "output_type": "execute_result"
    }
   ],
   "source": [
    "type(s1)"
   ]
  },
  {
   "cell_type": "code",
   "execution_count": 130,
   "id": "cb4b159f",
   "metadata": {
    "ExecuteTime": {
     "end_time": "2022-01-31T07:00:19.603733Z",
     "start_time": "2022-01-31T07:00:19.593726Z"
    },
    "scrolled": true
   },
   "outputs": [
    {
     "ename": "TypeError",
     "evalue": "unhashable type: 'list'",
     "output_type": "error",
     "traceback": [
      "\u001b[1;31m---------------------------------------------------------------------------\u001b[0m",
      "\u001b[1;31mTypeError\u001b[0m                                 Traceback (most recent call last)",
      "\u001b[1;32m~\\AppData\\Local\\Temp/ipykernel_5568/3494413384.py\u001b[0m in \u001b[0;36m<module>\u001b[1;34m\u001b[0m\n\u001b[1;32m----> 1\u001b[1;33m \u001b[0ms\u001b[0m \u001b[1;33m=\u001b[0m \u001b[1;33m{\u001b[0m\u001b[1;36m1\u001b[0m\u001b[1;33m,\u001b[0m\u001b[1;36m2\u001b[0m\u001b[1;33m,\u001b[0m\u001b[1;36m3\u001b[0m\u001b[1;33m,\u001b[0m\u001b[1;36m4\u001b[0m\u001b[1;33m,\u001b[0m\u001b[1;36m5\u001b[0m\u001b[1;33m,\u001b[0m\u001b[1;33m[\u001b[0m\u001b[1;36m1\u001b[0m\u001b[1;33m,\u001b[0m\u001b[1;36m2\u001b[0m\u001b[1;33m,\u001b[0m\u001b[1;36m3\u001b[0m\u001b[1;33m]\u001b[0m\u001b[1;33m}\u001b[0m    \u001b[1;31m# does not take list/tuple inside of set\u001b[0m\u001b[1;33m\u001b[0m\u001b[1;33m\u001b[0m\u001b[0m\n\u001b[0m",
      "\u001b[1;31mTypeError\u001b[0m: unhashable type: 'list'"
     ]
    }
   ],
   "source": [
    "s = {1,2,3,4,5,[1,2,3]}    # does not take list/tuple inside of set"
   ]
  },
  {
   "cell_type": "code",
   "execution_count": 131,
   "id": "5eb24064",
   "metadata": {
    "ExecuteTime": {
     "end_time": "2022-01-31T07:00:29.880885Z",
     "start_time": "2022-01-31T07:00:29.871909Z"
    }
   },
   "outputs": [],
   "source": [
    "s = {1,2,3,4,5,6,(1,2,3)}"
   ]
  },
  {
   "cell_type": "code",
   "execution_count": 132,
   "id": "9b13832a",
   "metadata": {
    "ExecuteTime": {
     "end_time": "2022-01-31T07:00:32.629217Z",
     "start_time": "2022-01-31T07:00:32.616688Z"
    }
   },
   "outputs": [],
   "source": [
    "s.add('pavan')"
   ]
  },
  {
   "cell_type": "code",
   "execution_count": 133,
   "id": "31796841",
   "metadata": {
    "ExecuteTime": {
     "end_time": "2022-01-31T07:00:33.332318Z",
     "start_time": "2022-01-31T07:00:33.324802Z"
    }
   },
   "outputs": [
    {
     "data": {
      "text/plain": [
       "{(1, 2, 3), 1, 2, 3, 4, 5, 6, 'pavan'}"
      ]
     },
     "execution_count": 133,
     "metadata": {},
     "output_type": "execute_result"
    }
   ],
   "source": [
    "s"
   ]
  },
  {
   "cell_type": "code",
   "execution_count": 138,
   "id": "f3d61c10",
   "metadata": {
    "ExecuteTime": {
     "end_time": "2022-01-31T07:03:02.211864Z",
     "start_time": "2022-01-31T07:03:02.204543Z"
    }
   },
   "outputs": [
    {
     "ename": "KeyError",
     "evalue": "45",
     "output_type": "error",
     "traceback": [
      "\u001b[1;31m---------------------------------------------------------------------------\u001b[0m",
      "\u001b[1;31mKeyError\u001b[0m                                  Traceback (most recent call last)",
      "\u001b[1;32m~\\AppData\\Local\\Temp/ipykernel_5568/2743837622.py\u001b[0m in \u001b[0;36m<module>\u001b[1;34m\u001b[0m\n\u001b[1;32m----> 1\u001b[1;33m \u001b[0ms\u001b[0m\u001b[1;33m.\u001b[0m\u001b[0mremove\u001b[0m\u001b[1;33m(\u001b[0m\u001b[1;36m45\u001b[0m\u001b[1;33m)\u001b[0m     \u001b[1;31m# if no 4 inside of set gives error\u001b[0m\u001b[1;33m\u001b[0m\u001b[1;33m\u001b[0m\u001b[0m\n\u001b[0m",
      "\u001b[1;31mKeyError\u001b[0m: 45"
     ]
    }
   ],
   "source": [
    "s.remove(45)     # if no 45 inside of set gives error"
   ]
  },
  {
   "cell_type": "code",
   "execution_count": 139,
   "id": "282c5a27",
   "metadata": {
    "ExecuteTime": {
     "end_time": "2022-01-31T07:03:06.952880Z",
     "start_time": "2022-01-31T07:03:06.933968Z"
    }
   },
   "outputs": [],
   "source": [
    "s.discard(45)      # if no 45 gives no error"
   ]
  },
  {
   "cell_type": "markdown",
   "id": "e309d0ae",
   "metadata": {},
   "source": [
    "# Dictionary\n"
   ]
  },
  {
   "cell_type": "code",
   "execution_count": 157,
   "id": "2b7268ab",
   "metadata": {
    "ExecuteTime": {
     "end_time": "2022-01-31T07:20:48.188226Z",
     "start_time": "2022-01-31T07:20:48.174247Z"
    }
   },
   "outputs": [],
   "source": [
    "d = {'key1':'pavan','key1':'key2',.5:'shanu',1:2, 'kumar':[1,'jyoti',2,3,], 8:(1,2,3)}     # .5 is valid but not any other characters"
   ]
  },
  {
   "cell_type": "code",
   "execution_count": 158,
   "id": "70bfb956",
   "metadata": {
    "ExecuteTime": {
     "end_time": "2022-01-31T07:21:23.693877Z",
     "start_time": "2022-01-31T07:21:23.671997Z"
    }
   },
   "outputs": [
    {
     "data": {
      "text/plain": [
       "'key2'"
      ]
     },
     "execution_count": 158,
     "metadata": {},
     "output_type": "execute_result"
    }
   ],
   "source": [
    "d['key1']      # key1 got upadted"
   ]
  },
  {
   "cell_type": "code",
   "execution_count": 165,
   "id": "1fd07066",
   "metadata": {
    "ExecuteTime": {
     "end_time": "2022-01-31T07:30:07.478852Z",
     "start_time": "2022-01-31T07:30:07.472868Z"
    }
   },
   "outputs": [],
   "source": [
    "d[8] = (9,8,7,'pk')   # update with new one"
   ]
  },
  {
   "cell_type": "code",
   "execution_count": 153,
   "id": "38e6afde",
   "metadata": {
    "ExecuteTime": {
     "end_time": "2022-01-31T07:19:03.805533Z",
     "start_time": "2022-01-31T07:19:03.800578Z"
    }
   },
   "outputs": [
    {
     "data": {
      "text/plain": [
       "{'key1': 'pavan',\n",
       " 0.5: 'shanu',\n",
       " 1: 2,\n",
       " 'kumar': [1, 'jyoti', 2, 3],\n",
       " 8: (9, 8, 7, 'pk')}"
      ]
     },
     "execution_count": 153,
     "metadata": {},
     "output_type": "execute_result"
    }
   ],
   "source": [
    "d"
   ]
  },
  {
   "cell_type": "code",
   "execution_count": 159,
   "id": "9f6cbfd3",
   "metadata": {
    "ExecuteTime": {
     "end_time": "2022-01-31T07:24:32.113089Z",
     "start_time": "2022-01-31T07:24:32.103578Z"
    }
   },
   "outputs": [
    {
     "data": {
      "text/plain": [
       "dict_keys(['key1', 0.5, 1, 'kumar', 8])"
      ]
     },
     "execution_count": 159,
     "metadata": {},
     "output_type": "execute_result"
    }
   ],
   "source": [
    "d.keys()"
   ]
  },
  {
   "cell_type": "code",
   "execution_count": 160,
   "id": "011ff0dc",
   "metadata": {
    "ExecuteTime": {
     "end_time": "2022-01-31T07:24:43.448615Z",
     "start_time": "2022-01-31T07:24:43.434655Z"
    }
   },
   "outputs": [
    {
     "data": {
      "text/plain": [
       "dict_values(['key2', 'shanu', 2, [1, 'jyoti', 2, 3], (1, 2, 3)])"
      ]
     },
     "execution_count": 160,
     "metadata": {},
     "output_type": "execute_result"
    }
   ],
   "source": [
    "d.values()"
   ]
  },
  {
   "cell_type": "code",
   "execution_count": 161,
   "id": "a9747c6f",
   "metadata": {
    "ExecuteTime": {
     "end_time": "2022-01-31T07:24:55.310488Z",
     "start_time": "2022-01-31T07:24:55.296524Z"
    }
   },
   "outputs": [
    {
     "data": {
      "text/plain": [
       "dict_items([('key1', 'key2'), (0.5, 'shanu'), (1, 2), ('kumar', [1, 'jyoti', 2, 3]), (8, (1, 2, 3))])"
      ]
     },
     "execution_count": 161,
     "metadata": {},
     "output_type": "execute_result"
    }
   ],
   "source": [
    "d.items()"
   ]
  },
  {
   "cell_type": "code",
   "execution_count": 162,
   "id": "f5a67055",
   "metadata": {
    "ExecuteTime": {
     "end_time": "2022-01-31T07:25:50.617652Z",
     "start_time": "2022-01-31T07:25:50.601004Z"
    }
   },
   "outputs": [
    {
     "data": {
      "text/plain": [
       "{'key1': 'key2', 0.5: 'shanu', 1: 2, 'kumar': [1, 'jyoti', 2, 3], 8: (1, 2, 3)}"
      ]
     },
     "execution_count": 162,
     "metadata": {},
     "output_type": "execute_result"
    }
   ],
   "source": [
    "d"
   ]
  },
  {
   "cell_type": "code",
   "execution_count": 169,
   "id": "af5115c6",
   "metadata": {
    "ExecuteTime": {
     "end_time": "2022-01-31T07:31:22.691475Z",
     "start_time": "2022-01-31T07:31:22.681324Z"
    }
   },
   "outputs": [],
   "source": [
    "d['key3'] = 'key4'"
   ]
  },
  {
   "cell_type": "code",
   "execution_count": 164,
   "id": "da2fe0bb",
   "metadata": {
    "ExecuteTime": {
     "end_time": "2022-01-31T07:26:15.816436Z",
     "start_time": "2022-01-31T07:26:15.805466Z"
    }
   },
   "outputs": [
    {
     "data": {
      "text/plain": [
       "{'key1': 'key2',\n",
       " 0.5: 'shanu',\n",
       " 1: 2,\n",
       " 'kumar': [1, 'jyoti', 2, 3],\n",
       " 8: (1, 2, 3),\n",
       " 'key3': 'key4'}"
      ]
     },
     "execution_count": 164,
     "metadata": {},
     "output_type": "execute_result"
    }
   ],
   "source": [
    "d"
   ]
  },
  {
   "cell_type": "code",
   "execution_count": 170,
   "id": "11a7437d",
   "metadata": {
    "ExecuteTime": {
     "end_time": "2022-01-31T07:31:25.522887Z",
     "start_time": "2022-01-31T07:31:25.517870Z"
    }
   },
   "outputs": [],
   "source": [
    "del d ['key3']      # delete a key"
   ]
  },
  {
   "cell_type": "code",
   "execution_count": 167,
   "id": "7cdb8fcc",
   "metadata": {
    "ExecuteTime": {
     "end_time": "2022-01-31T07:30:48.093628Z",
     "start_time": "2022-01-31T07:30:48.084298Z"
    }
   },
   "outputs": [
    {
     "data": {
      "text/plain": [
       "{'key1': 'key2',\n",
       " 0.5: 'shanu',\n",
       " 1: 2,\n",
       " 'kumar': [1, 'jyoti', 2, 3],\n",
       " 8: (9, 8, 7, 'pk')}"
      ]
     },
     "execution_count": 167,
     "metadata": {},
     "output_type": "execute_result"
    }
   ],
   "source": [
    "d"
   ]
  },
  {
   "cell_type": "code",
   "execution_count": 171,
   "id": "c9e0ee96",
   "metadata": {
    "ExecuteTime": {
     "end_time": "2022-01-31T07:31:55.053999Z",
     "start_time": "2022-01-31T07:31:55.042965Z"
    }
   },
   "outputs": [
    {
     "ename": "TypeError",
     "evalue": "unhashable type: 'list'",
     "output_type": "error",
     "traceback": [
      "\u001b[1;31m---------------------------------------------------------------------------\u001b[0m",
      "\u001b[1;31mTypeError\u001b[0m                                 Traceback (most recent call last)",
      "\u001b[1;32m~\\AppData\\Local\\Temp/ipykernel_5568/631216805.py\u001b[0m in \u001b[0;36m<module>\u001b[1;34m\u001b[0m\n\u001b[1;32m----> 1\u001b[1;33m \u001b[0md\u001b[0m \u001b[1;33m[\u001b[0m\u001b[1;33m[\u001b[0m\u001b[1;36m1\u001b[0m\u001b[1;33m,\u001b[0m\u001b[1;36m2\u001b[0m\u001b[1;33m,\u001b[0m\u001b[1;36m3\u001b[0m\u001b[1;33m]\u001b[0m \u001b[1;33m]\u001b[0m \u001b[1;33m=\u001b[0m \u001b[1;34m'ik'\u001b[0m\u001b[1;33m\u001b[0m\u001b[1;33m\u001b[0m\u001b[0m\n\u001b[0m",
      "\u001b[1;31mTypeError\u001b[0m: unhashable type: 'list'"
     ]
    }
   ],
   "source": [
    "d [[1,2,3] ] = 'ik'    # list as a key dont work but tuple works"
   ]
  },
  {
   "cell_type": "code",
   "execution_count": 174,
   "id": "24f56029",
   "metadata": {
    "ExecuteTime": {
     "end_time": "2022-01-31T07:32:45.513867Z",
     "start_time": "2022-01-31T07:32:45.494857Z"
    }
   },
   "outputs": [
    {
     "data": {
      "text/plain": [
       "'key2'"
      ]
     },
     "execution_count": 174,
     "metadata": {},
     "output_type": "execute_result"
    }
   ],
   "source": [
    "d.get('key1')"
   ]
  },
  {
   "cell_type": "code",
   "execution_count": 175,
   "id": "cad5364b",
   "metadata": {
    "ExecuteTime": {
     "end_time": "2022-01-31T07:33:39.657778Z",
     "start_time": "2022-01-31T07:33:39.645811Z"
    }
   },
   "outputs": [],
   "source": [
    "d1 = {123:321,456:654}"
   ]
  },
  {
   "cell_type": "code",
   "execution_count": 176,
   "id": "a4a8688b",
   "metadata": {
    "ExecuteTime": {
     "end_time": "2022-01-31T07:33:49.340780Z",
     "start_time": "2022-01-31T07:33:49.326699Z"
    }
   },
   "outputs": [],
   "source": [
    "d.update(d1)"
   ]
  },
  {
   "cell_type": "code",
   "execution_count": 177,
   "id": "f43a2b13",
   "metadata": {
    "ExecuteTime": {
     "end_time": "2022-01-31T07:33:51.895312Z",
     "start_time": "2022-01-31T07:33:51.884946Z"
    }
   },
   "outputs": [
    {
     "data": {
      "text/plain": [
       "{'key1': 'key2',\n",
       " 0.5: 'shanu',\n",
       " 1: 2,\n",
       " 'kumar': [1, 'jyoti', 2, 3],\n",
       " 8: (9, 8, 7, 'pk'),\n",
       " 123: 321,\n",
       " 456: 654}"
      ]
     },
     "execution_count": 177,
     "metadata": {},
     "output_type": "execute_result"
    }
   ],
   "source": [
    "d"
   ]
  },
  {
   "cell_type": "code",
   "execution_count": 179,
   "id": "f16f0bdc",
   "metadata": {
    "ExecuteTime": {
     "end_time": "2022-01-31T07:34:25.761946Z",
     "start_time": "2022-01-31T07:34:25.755962Z"
    }
   },
   "outputs": [
    {
     "ename": "TypeError",
     "evalue": "unsupported operand type(s) for +: 'dict' and 'dict'",
     "output_type": "error",
     "traceback": [
      "\u001b[1;31m---------------------------------------------------------------------------\u001b[0m",
      "\u001b[1;31mTypeError\u001b[0m                                 Traceback (most recent call last)",
      "\u001b[1;32m~\\AppData\\Local\\Temp/ipykernel_5568/965204696.py\u001b[0m in \u001b[0;36m<module>\u001b[1;34m\u001b[0m\n\u001b[1;32m----> 1\u001b[1;33m \u001b[0md\u001b[0m \u001b[1;33m+\u001b[0m \u001b[0md1\u001b[0m      \u001b[1;31m# operators dont work\u001b[0m\u001b[1;33m\u001b[0m\u001b[1;33m\u001b[0m\u001b[0m\n\u001b[0m",
      "\u001b[1;31mTypeError\u001b[0m: unsupported operand type(s) for +: 'dict' and 'dict'"
     ]
    }
   ],
   "source": [
    "d + d1      # operators dont work"
   ]
  },
  {
   "cell_type": "code",
   "execution_count": 185,
   "id": "b39d5751",
   "metadata": {
    "ExecuteTime": {
     "end_time": "2022-01-31T07:40:57.301327Z",
     "start_time": "2022-01-31T07:40:57.283360Z"
    }
   },
   "outputs": [],
   "source": [
    "key = ('name', 'mob no')\n",
    "value = ('pavan', 8099998967)"
   ]
  },
  {
   "cell_type": "code",
   "execution_count": 186,
   "id": "e4b369ed",
   "metadata": {
    "ExecuteTime": {
     "end_time": "2022-01-31T07:41:04.431291Z",
     "start_time": "2022-01-31T07:41:04.417328Z"
    }
   },
   "outputs": [
    {
     "data": {
      "text/plain": [
       "{123: 321, 456: 654}"
      ]
     },
     "execution_count": 186,
     "metadata": {},
     "output_type": "execute_result"
    }
   ],
   "source": [
    "d1"
   ]
  },
  {
   "cell_type": "code",
   "execution_count": 187,
   "id": "84c85116",
   "metadata": {
    "ExecuteTime": {
     "end_time": "2022-01-31T07:41:21.404192Z",
     "start_time": "2022-01-31T07:41:21.395217Z"
    }
   },
   "outputs": [],
   "source": [
    "d3 = d1.fromkeys(key,value)       # to create complete new dict"
   ]
  },
  {
   "cell_type": "code",
   "execution_count": 188,
   "id": "6497d53f",
   "metadata": {
    "ExecuteTime": {
     "end_time": "2022-01-31T07:41:24.985924Z",
     "start_time": "2022-01-31T07:41:24.974955Z"
    }
   },
   "outputs": [
    {
     "data": {
      "text/plain": [
       "{'name': ('pavan', 8099998967), 'mob no': ('pavan', 8099998967)}"
      ]
     },
     "execution_count": 188,
     "metadata": {},
     "output_type": "execute_result"
    }
   ],
   "source": [
    "d3"
   ]
  },
  {
   "cell_type": "markdown",
   "id": "5b26311a",
   "metadata": {},
   "source": [
    "   # LOOPS"
   ]
  },
  {
   "cell_type": "code",
   "execution_count": 3,
   "id": "a5b4ebbd",
   "metadata": {
    "ExecuteTime": {
     "end_time": "2022-01-31T10:14:04.686790Z",
     "start_time": "2022-01-31T10:14:04.683797Z"
    }
   },
   "outputs": [],
   "source": [
    "a = 10\n",
    "if a <  15:              # pass : to avoid error and create condition to use later\n",
    "    pass"
   ]
  },
  {
   "cell_type": "markdown",
   "id": "6cd9e058",
   "metadata": {},
   "source": [
    "FOR LOOP"
   ]
  },
  {
   "cell_type": "code",
   "execution_count": 11,
   "id": "455ffca3",
   "metadata": {
    "ExecuteTime": {
     "end_time": "2022-01-31T10:39:02.247399Z",
     "start_time": "2022-01-31T10:39:02.224491Z"
    }
   },
   "outputs": [
    {
     "name": "stdout",
     "output_type": "stream",
     "text": [
      "3\n",
      "4\n",
      "5\n",
      "6\n"
     ]
    }
   ],
   "source": [
    "l =[1,2,3,4]\n",
    "l1= []\n",
    "for i in l:                                   # valid for list , string, tuple,\n",
    "    print (i+2)\n",
    "    l1.append(i+2)"
   ]
  },
  {
   "cell_type": "code",
   "execution_count": 8,
   "id": "25e33ee9",
   "metadata": {
    "ExecuteTime": {
     "end_time": "2022-01-31T10:34:27.614414Z",
     "start_time": "2022-01-31T10:34:27.587784Z"
    }
   },
   "outputs": [
    {
     "name": "stdout",
     "output_type": "stream",
     "text": [
      "<class 'int'> type of 1\n",
      "<class 'int'> type of 2\n",
      "<class 'str'> type of sun\n",
      "<class 'list'> type of [1, 2, '3D Objects']\n"
     ]
    }
   ],
   "source": [
    "l = [ 1,2,'sun',[1,2,\"3D Objects\"]]\n",
    "for i in l:\n",
    "    print(type(i),'type of', i)"
   ]
  },
  {
   "cell_type": "markdown",
   "id": "4cf15f33",
   "metadata": {},
   "source": [
    "task: extract all int of the given list "
   ]
  },
  {
   "cell_type": "code",
   "execution_count": 61,
   "id": "ec806016",
   "metadata": {
    "ExecuteTime": {
     "end_time": "2022-02-02T11:47:58.672434Z",
     "start_time": "2022-02-02T11:47:58.653963Z"
    }
   },
   "outputs": [],
   "source": [
    "l = [1,2,3,'pavan',[1,2,3],(4,5,6)]"
   ]
  },
  {
   "cell_type": "code",
   "execution_count": 31,
   "id": "77c84372",
   "metadata": {
    "ExecuteTime": {
     "end_time": "2022-01-31T11:03:13.846130Z",
     "start_time": "2022-01-31T11:03:13.823004Z"
    }
   },
   "outputs": [],
   "source": [
    "l = [1,2,3,'pavan',[7,8,9],(4,5,6)]\n",
    "lk = []\n",
    "for i in l:\n",
    "    if type(i) == int:\n",
    "        lk.append(i)\n",
    "    if type(i) == list:\n",
    "        for j in i:\n",
    "            if type(j) == int:\n",
    "                lk.append(j)\n",
    "    if type(i) == tuple:\n",
    "        for k in i:\n",
    "            if type(k) == int:\n",
    "                lk.append(k)"
   ]
  },
  {
   "cell_type": "code",
   "execution_count": 32,
   "id": "f78927bf",
   "metadata": {
    "ExecuteTime": {
     "end_time": "2022-01-31T11:03:14.559477Z",
     "start_time": "2022-01-31T11:03:14.538701Z"
    }
   },
   "outputs": [
    {
     "data": {
      "text/plain": [
       "[1, 2, 3, 7, 8, 9, 4, 5, 6]"
      ]
     },
     "execution_count": 32,
     "metadata": {},
     "output_type": "execute_result"
    }
   ],
   "source": [
    "lk"
   ]
  },
  {
   "cell_type": "markdown",
   "id": "521e841d",
   "metadata": {},
   "source": [
    "for - else statement = after for condition satisfies else will get access  if not else will get skipped"
   ]
  },
  {
   "cell_type": "code",
   "execution_count": 34,
   "id": "6340320c",
   "metadata": {
    "ExecuteTime": {
     "end_time": "2022-01-31T11:12:13.546646Z",
     "start_time": "2022-01-31T11:12:13.537547Z"
    }
   },
   "outputs": [
    {
     "name": "stdout",
     "output_type": "stream",
     "text": [
      "0\n",
      "1\n",
      "2\n",
      "3\n",
      "4\n",
      "5\n"
     ]
    }
   ],
   "source": [
    "for i in range(len(l)):             to get index of all elements\n",
    "    print (i)"
   ]
  },
  {
   "cell_type": "code",
   "execution_count": 36,
   "id": "852c3042",
   "metadata": {
    "ExecuteTime": {
     "end_time": "2022-01-31T11:15:33.763553Z",
     "start_time": "2022-01-31T11:15:33.742613Z"
    }
   },
   "outputs": [
    {
     "name": "stdout",
     "output_type": "stream",
     "text": [
      "(0, 1)\n",
      "(1, 2)\n",
      "(2, 3)\n",
      "(3, 'pavan')\n",
      "(4, [7, 8, 9])\n",
      "(5, (4, 5, 6))\n"
     ]
    }
   ],
   "source": [
    "for i in enumerate(l):              # enumerate is inbuilt function gives index of all lements\n",
    "    print (i)"
   ]
  },
  {
   "cell_type": "markdown",
   "id": "a1c9cd6c",
   "metadata": {},
   "source": [
    "BREAK :-"
   ]
  },
  {
   "cell_type": "markdown",
   "id": "c347c073",
   "metadata": {},
   "source": [
    "it its used to stop when the condition given is satisfied, come out side of the loop"
   ]
  },
  {
   "cell_type": "code",
   "execution_count": 2,
   "id": "936658f6",
   "metadata": {
    "ExecuteTime": {
     "end_time": "2022-02-01T10:39:38.641140Z",
     "start_time": "2022-02-01T10:39:38.608929Z"
    }
   },
   "outputs": [],
   "source": [
    "p = 'pavan'\n",
    "for i in p:\n",
    "    if i == 'n':       # if for loop is completely done then only will come to else if not it will break there\n",
    "        break\n",
    "else:\n",
    "    print ('not breaked')"
   ]
  },
  {
   "cell_type": "markdown",
   "id": "8b88f107",
   "metadata": {},
   "source": [
    "while: only when true then only inside while will get executed"
   ]
  },
  {
   "cell_type": "code",
   "execution_count": 4,
   "id": "74f56480",
   "metadata": {
    "ExecuteTime": {
     "end_time": "2022-02-01T10:49:41.560685Z",
     "start_time": "2022-02-01T10:49:41.532535Z"
    }
   },
   "outputs": [
    {
     "name": "stdout",
     "output_type": "stream",
     "text": [
      "1\n",
      "2\n",
      "3\n",
      "4\n"
     ]
    }
   ],
   "source": [
    "a = 1\n",
    "while a < 6:\n",
    "    print (a)\n",
    "    if a == 4:            # when a == 4 becomes then break came and stopped\n",
    "        break\n",
    "    a = a+1              # when a!=4 if got skipped and excuted this"
   ]
  },
  {
   "cell_type": "code",
   "execution_count": 9,
   "id": "02ab70b5",
   "metadata": {
    "ExecuteTime": {
     "end_time": "2022-02-01T10:54:15.899244Z",
     "start_time": "2022-02-01T10:54:15.873953Z"
    }
   },
   "outputs": [
    {
     "name": "stdout",
     "output_type": "stream",
     "text": [
      "1\n",
      "2\n",
      "3\n",
      "4\n",
      "5\n"
     ]
    }
   ],
   "source": [
    "a = 1\n",
    "while a < 6:\n",
    "    print (a)\n",
    "    if a == 8:            # when a == 8 becomes then loop starts \n",
    "        continue          # starts the loop will not execute a = a+1                     \n",
    "    a = a+1"
   ]
  },
  {
   "cell_type": "code",
   "execution_count": 11,
   "id": "27dccb8c",
   "metadata": {
    "ExecuteTime": {
     "end_time": "2022-02-01T10:55:17.654250Z",
     "start_time": "2022-02-01T10:55:17.631404Z"
    }
   },
   "outputs": [
    {
     "name": "stdout",
     "output_type": "stream",
     "text": [
      "1\n",
      "2\n",
      "3\n",
      "4\n",
      "5\n"
     ]
    }
   ],
   "source": [
    "a = 1\n",
    "while a < 6:\n",
    "    print (a)             # loop is avoided\n",
    "    a = a+1\n",
    "    if a == 4:            \n",
    "        continue                              \n",
    "    "
   ]
  },
  {
   "cell_type": "code",
   "execution_count": 16,
   "id": "db8962e7",
   "metadata": {
    "ExecuteTime": {
     "end_time": "2022-02-01T11:08:09.804801Z",
     "start_time": "2022-02-01T11:08:09.786732Z"
    }
   },
   "outputs": [
    {
     "name": "stdout",
     "output_type": "stream",
     "text": [
      "*/\r\n",
      "*/*/\r\n",
      "*/*/*/\r\n",
      "*/*/*/*/\r\n",
      "*/*/*/*/*/\r\n"
     ]
    }
   ],
   "source": [
    "n =5 \n",
    "for i in range (0,n):\n",
    "    for j in range (0,i+1):\n",
    "        print('*/',end = \"\")\n",
    "    print('\\r')"
   ]
  },
  {
   "cell_type": "code",
   "execution_count": 25,
   "id": "c9773bb9",
   "metadata": {
    "ExecuteTime": {
     "end_time": "2022-02-01T11:20:13.971311Z",
     "start_time": "2022-02-01T11:20:13.954529Z"
    }
   },
   "outputs": [
    {
     "name": "stdout",
     "output_type": "stream",
     "text": [
      "6\n",
      "5\n",
      "4\n",
      "3\n",
      "2\n",
      "1\n"
     ]
    }
   ],
   "source": [
    "t = [1,2,3,4,5,6]\n",
    "\n",
    "for i in range(len(t)-1,-1,-1):      # reversing withput slicing\n",
    "    print (t[i])\n",
    "   "
   ]
  },
  {
   "cell_type": "code",
   "execution_count": 38,
   "id": "065abde4",
   "metadata": {
    "ExecuteTime": {
     "end_time": "2022-02-01T11:52:30.193692Z",
     "start_time": "2022-02-01T11:52:30.185676Z"
    }
   },
   "outputs": [
    {
     "name": "stdout",
     "output_type": "stream",
     "text": [
      "eno eht mai"
     ]
    }
   ],
   "source": [
    "t = 'iam the one'\n",
    "s = len(t)-1\n",
    "while s >= 0:\n",
    "    print (t[s],end=\"\")\n",
    "    s = s - 1"
   ]
  },
  {
   "cell_type": "code",
   "execution_count": 26,
   "id": "ca00495d",
   "metadata": {
    "ExecuteTime": {
     "end_time": "2022-02-01T11:39:22.313103Z",
     "start_time": "2022-02-01T11:39:22.297147Z"
    }
   },
   "outputs": [],
   "source": [
    "s = 'i am pavan kumar'"
   ]
  },
  {
   "cell_type": "code",
   "execution_count": 29,
   "id": "f378ca23",
   "metadata": {
    "ExecuteTime": {
     "end_time": "2022-02-01T11:40:41.631266Z",
     "start_time": "2022-02-01T11:40:41.624107Z"
    }
   },
   "outputs": [
    {
     "name": "stdout",
     "output_type": "stream",
     "text": [
      "16\n"
     ]
    }
   ],
   "source": [
    "count = 0\n",
    "for i in s:\n",
    "    count = count +1    # without using len function\n",
    "print (count)"
   ]
  },
  {
   "cell_type": "code",
   "execution_count": 28,
   "id": "cfc33f4b",
   "metadata": {
    "ExecuteTime": {
     "end_time": "2022-02-01T11:40:22.872233Z",
     "start_time": "2022-02-01T11:40:22.861281Z"
    }
   },
   "outputs": [
    {
     "data": {
      "text/plain": [
       "16"
      ]
     },
     "execution_count": 28,
     "metadata": {},
     "output_type": "execute_result"
    }
   ],
   "source": [
    "len(s)"
   ]
  },
  {
   "cell_type": "code",
   "execution_count": 43,
   "id": "487f214c",
   "metadata": {
    "ExecuteTime": {
     "end_time": "2022-02-01T12:02:17.718535Z",
     "start_time": "2022-02-01T12:02:17.704055Z"
    }
   },
   "outputs": [
    {
     "name": "stdout",
     "output_type": "stream",
     "text": [
      "i its a vowel\n",
      "n its a consonent\n",
      "e its a vowel\n",
      "u its a vowel\n",
      "r its a consonent\n",
      "o its a vowel\n",
      "n its a consonent\n"
     ]
    }
   ],
   "source": [
    "a = 'ineuron'\n",
    "b = ' AaEeIiOoUu'\n",
    "\n",
    "for i in a :\n",
    "    if i in b:\n",
    "        print (i, 'its a vowel')\n",
    "    else:\n",
    "        print(i, 'its a consonent')"
   ]
  },
  {
   "cell_type": "code",
   "execution_count": 52,
   "id": "ef0574ad",
   "metadata": {
    "ExecuteTime": {
     "end_time": "2022-02-01T12:12:57.000313Z",
     "start_time": "2022-02-01T12:12:56.980320Z"
    }
   },
   "outputs": [
    {
     "name": "stdout",
     "output_type": "stream",
     "text": [
      "its a palendrome\n"
     ]
    }
   ],
   "source": [
    "a = 'malayalam'\n",
    "\n",
    "b = a[::-1]\n",
    "\n",
    "for i in range(len(a)):\n",
    "    if a[i] == b[i]:\n",
    "        continue\n",
    "    else:\n",
    "        print('not a palendrome')\n",
    "else:\n",
    "    print('its a palendrome')"
   ]
  },
  {
   "cell_type": "code",
   "execution_count": 58,
   "id": "704b0a74",
   "metadata": {
    "ExecuteTime": {
     "end_time": "2022-02-01T12:28:41.392227Z",
     "start_time": "2022-02-01T12:28:29.706583Z"
    }
   },
   "outputs": [
    {
     "name": "stdout",
     "output_type": "stream",
     "text": [
      "tenet\n",
      "palendrome\n"
     ]
    }
   ],
   "source": [
    "a = input()\n",
    "b = ''\n",
    "n = len(a)-1\n",
    "\n",
    "while (n>= 0):\n",
    "    b = b + a[n]\n",
    "    n = n - 1\n",
    "if a == b:\n",
    "    print ('palendrome')\n",
    "else: \n",
    "    print('input is not a palendrome')"
   ]
  },
  {
   "cell_type": "code",
   "execution_count": 60,
   "id": "f8b84439",
   "metadata": {
    "ExecuteTime": {
     "end_time": "2022-02-01T12:35:00.210439Z",
     "start_time": "2022-02-01T12:35:00.194239Z"
    }
   },
   "outputs": [],
   "source": [
    "d = {'india': 'in','canada':'cn','china':'cn','united states':'us'}"
   ]
  },
  {
   "cell_type": "code",
   "execution_count": 65,
   "id": "e8711686",
   "metadata": {
    "ExecuteTime": {
     "end_time": "2022-02-01T12:36:50.067252Z",
     "start_time": "2022-02-01T12:36:50.043448Z"
    }
   },
   "outputs": [
    {
     "name": "stdout",
     "output_type": "stream",
     "text": [
      "['india', 'china']\n",
      "['canada', 'united states']\n"
     ]
    }
   ],
   "source": [
    "l1 = []\n",
    "l2 = []\n",
    "for i in d.keys():\n",
    "    if len(i)<=5:\n",
    "        l1.append(i)\n",
    "       \n",
    "    else:\n",
    "        l2.append(i)\n",
    "print(l1)  \n",
    "print(l2)"
   ]
  },
  {
   "cell_type": "code",
   "execution_count": 2,
   "id": "c9e51107",
   "metadata": {
    "ExecuteTime": {
     "end_time": "2022-02-01T13:08:35.604407Z",
     "start_time": "2022-02-01T13:08:35.594321Z"
    }
   },
   "outputs": [],
   "source": [
    "d = {'ineuron':{'a':14,'b':24,\"c\":56},'course':{'d':45,'e':56,'f':78},'g': 34, 'h':[45,56,89,78],'i':(12,23,45)}"
   ]
  },
  {
   "cell_type": "code",
   "execution_count": 4,
   "id": "44682b32",
   "metadata": {
    "ExecuteTime": {
     "end_time": "2022-02-01T13:08:50.522858Z",
     "start_time": "2022-02-01T13:08:50.488518Z"
    }
   },
   "outputs": [
    {
     "name": "stdout",
     "output_type": "stream",
     "text": [
      "89\n"
     ]
    }
   ],
   "source": [
    "l = []\n",
    "for i in d.values():\n",
    "    if type(i) == dict:\n",
    "        for h in i.values():\n",
    "            l.append(h)\n",
    "    if type(i) == int:\n",
    "        l.append(i)\n",
    "    if type(i) == list:\n",
    "        for j in i:\n",
    "            l.append(j)\n",
    "    if type(i) == tuple:\n",
    "        for k in i:\n",
    "            l.append(k)\n",
    "    \n",
    "print(max(l))\n",
    "        "
   ]
  },
  {
   "cell_type": "markdown",
   "id": "f79291c9",
   "metadata": {},
   "source": [
    "# FUNCTIONS:-\n",
    "\n",
    "def = keyword for creating a function"
   ]
  },
  {
   "cell_type": "code",
   "execution_count": 5,
   "id": "88546e59",
   "metadata": {
    "ExecuteTime": {
     "end_time": "2022-02-01T14:21:14.844062Z",
     "start_time": "2022-02-01T14:21:14.825464Z"
    }
   },
   "outputs": [],
   "source": [
    "def test():\n",
    "    print ('this is my func')"
   ]
  },
  {
   "cell_type": "code",
   "execution_count": 7,
   "id": "239af1b3",
   "metadata": {
    "ExecuteTime": {
     "end_time": "2022-02-01T14:21:32.117445Z",
     "start_time": "2022-02-01T14:21:32.094456Z"
    }
   },
   "outputs": [
    {
     "name": "stdout",
     "output_type": "stream",
     "text": [
      "this is my func\n"
     ]
    },
    {
     "data": {
      "text/plain": [
       "NoneType"
      ]
     },
     "execution_count": 7,
     "metadata": {},
     "output_type": "execute_result"
    }
   ],
   "source": [
    "type(test())        # so instead of print use return to avoid none type"
   ]
  },
  {
   "cell_type": "code",
   "execution_count": 14,
   "id": "625f2801",
   "metadata": {
    "ExecuteTime": {
     "end_time": "2022-02-01T14:25:45.809455Z",
     "start_time": "2022-02-01T14:25:45.783747Z"
    }
   },
   "outputs": [],
   "source": [
    "def test1():\n",
    "    return  'this is my test1 func'\n",
    "def test3():\n",
    "    return 123456, 'su', [1,2,3]"
   ]
  },
  {
   "cell_type": "code",
   "execution_count": 15,
   "id": "d35d4723",
   "metadata": {
    "ExecuteTime": {
     "end_time": "2022-02-01T14:25:47.748049Z",
     "start_time": "2022-02-01T14:25:47.733929Z"
    }
   },
   "outputs": [
    {
     "data": {
      "text/plain": [
       "str"
      ]
     },
     "execution_count": 15,
     "metadata": {},
     "output_type": "execute_result"
    }
   ],
   "source": [
    "type (test1())"
   ]
  },
  {
   "cell_type": "code",
   "execution_count": 16,
   "id": "1edc039a",
   "metadata": {
    "ExecuteTime": {
     "end_time": "2022-02-01T14:25:48.393487Z",
     "start_time": "2022-02-01T14:25:48.374058Z"
    }
   },
   "outputs": [
    {
     "data": {
      "text/plain": [
       "tuple"
      ]
     },
     "execution_count": 16,
     "metadata": {},
     "output_type": "execute_result"
    }
   ],
   "source": [
    "type (test3())              # by default multiple object function gives tuple"
   ]
  },
  {
   "cell_type": "code",
   "execution_count": 17,
   "id": "579f2bd2",
   "metadata": {
    "ExecuteTime": {
     "end_time": "2022-02-01T14:28:39.373529Z",
     "start_time": "2022-02-01T14:28:39.354337Z"
    }
   },
   "outputs": [],
   "source": [
    "a,b,c = test3()"
   ]
  },
  {
   "cell_type": "code",
   "execution_count": 18,
   "id": "625bc006",
   "metadata": {
    "ExecuteTime": {
     "end_time": "2022-02-01T14:28:44.269524Z",
     "start_time": "2022-02-01T14:28:44.244064Z"
    }
   },
   "outputs": [
    {
     "data": {
      "text/plain": [
       "123456"
      ]
     },
     "execution_count": 18,
     "metadata": {},
     "output_type": "execute_result"
    }
   ],
   "source": [
    "a"
   ]
  },
  {
   "cell_type": "code",
   "execution_count": 19,
   "id": "d3aa50fd",
   "metadata": {
    "ExecuteTime": {
     "end_time": "2022-02-01T14:28:47.719136Z",
     "start_time": "2022-02-01T14:28:47.694178Z"
    }
   },
   "outputs": [
    {
     "data": {
      "text/plain": [
       "'su'"
      ]
     },
     "execution_count": 19,
     "metadata": {},
     "output_type": "execute_result"
    }
   ],
   "source": [
    "b"
   ]
  },
  {
   "cell_type": "code",
   "execution_count": 20,
   "id": "fbc5b102",
   "metadata": {
    "ExecuteTime": {
     "end_time": "2022-02-01T14:28:51.659830Z",
     "start_time": "2022-02-01T14:28:51.634316Z"
    }
   },
   "outputs": [
    {
     "data": {
      "text/plain": [
       "[1, 2, 3]"
      ]
     },
     "execution_count": 20,
     "metadata": {},
     "output_type": "execute_result"
    }
   ],
   "source": [
    "c"
   ]
  },
  {
   "cell_type": "code",
   "execution_count": 35,
   "id": "651c6eaf",
   "metadata": {
    "ExecuteTime": {
     "end_time": "2022-02-01T15:01:00.841031Z",
     "start_time": "2022-02-01T15:01:00.814726Z"
    }
   },
   "outputs": [],
   "source": [
    "def get_max(d):\n",
    "    '''gives max int of given dataset'''\n",
    "    l = []\n",
    "    for i in d.values():\n",
    "        if type(i) == dict:\n",
    "            for h in i.values():\n",
    "                l.append(h)\n",
    "        if type(i) == int:\n",
    "            l.append(i)\n",
    "        if type(i) == list:\n",
    "            for j in i:\n",
    "                l.append(j)\n",
    "        if type(i) == tuple:\n",
    "            for k in i:\n",
    "                l.append(k)\n",
    "    \n",
    "    return (max(l))\n",
    "        "
   ]
  },
  {
   "cell_type": "code",
   "execution_count": 24,
   "id": "9a26df1c",
   "metadata": {
    "ExecuteTime": {
     "end_time": "2022-02-01T14:35:52.605615Z",
     "start_time": "2022-02-01T14:35:52.583274Z"
    }
   },
   "outputs": [
    {
     "data": {
      "text/plain": [
       "{'ineuron': {'a': 14, 'b': 24, 'c': 56},\n",
       " 'course': {'d': 45, 'e': 56, 'f': 78},\n",
       " 'g': 34,\n",
       " 'h': [45, 56, 89, 78],\n",
       " 'i': (12, 23, 45)}"
      ]
     },
     "execution_count": 24,
     "metadata": {},
     "output_type": "execute_result"
    }
   ],
   "source": [
    "d"
   ]
  },
  {
   "cell_type": "code",
   "execution_count": 25,
   "id": "2b117004",
   "metadata": {
    "ExecuteTime": {
     "end_time": "2022-02-01T14:36:24.376911Z",
     "start_time": "2022-02-01T14:36:24.356255Z"
    }
   },
   "outputs": [
    {
     "data": {
      "text/plain": [
       "89"
      ]
     },
     "execution_count": 25,
     "metadata": {},
     "output_type": "execute_result"
    }
   ],
   "source": [
    "get_max(d)"
   ]
  },
  {
   "cell_type": "code",
   "execution_count": 31,
   "id": "113b58df",
   "metadata": {
    "ExecuteTime": {
     "end_time": "2022-02-01T14:53:14.930929Z",
     "start_time": "2022-02-01T14:53:14.915624Z"
    }
   },
   "outputs": [],
   "source": [
    "def tri():\n",
    "    n =int(input()) \n",
    "    for i in range (0,n):\n",
    "        for j in range (0,i+1):\n",
    "            print ('*',end = \"\")\n",
    "        print ('\\r')"
   ]
  },
  {
   "cell_type": "code",
   "execution_count": 32,
   "id": "7c2bd705",
   "metadata": {
    "ExecuteTime": {
     "end_time": "2022-02-01T14:53:20.704655Z",
     "start_time": "2022-02-01T14:53:19.193735Z"
    }
   },
   "outputs": [
    {
     "name": "stdout",
     "output_type": "stream",
     "text": [
      "8\n",
      "*\n",
      "**\n",
      "***\n",
      "****\n",
      "*****\n",
      "******\n",
      "*******\n",
      "********\n"
     ]
    }
   ],
   "source": [
    "tri()"
   ]
  },
  {
   "cell_type": "code",
   "execution_count": 36,
   "id": "183bb7cc",
   "metadata": {
    "ExecuteTime": {
     "end_time": "2022-02-01T15:01:38.005789Z",
     "start_time": "2022-02-01T15:01:37.996619Z"
    }
   },
   "outputs": [
    {
     "name": "stdout",
     "output_type": "stream",
     "text": [
      "Help on function get_max in module __main__:\n",
      "\n",
      "get_max(d)\n",
      "    gives max int of given dataset\n",
      "\n"
     ]
    }
   ],
   "source": [
    "help(get_max)                     # gives doc string given"
   ]
  },
  {
   "cell_type": "code",
   "execution_count": 4,
   "id": "d8edf65b",
   "metadata": {
    "ExecuteTime": {
     "end_time": "2022-02-02T10:53:46.706520Z",
     "start_time": "2022-02-02T10:53:46.697544Z"
    }
   },
   "outputs": [],
   "source": [
    "def test1 (a,b,c,d,e,f):  \n",
    "    return a,b,c,d,e"
   ]
  },
  {
   "cell_type": "code",
   "execution_count": 46,
   "id": "1c947a19",
   "metadata": {
    "ExecuteTime": {
     "end_time": "2022-02-02T11:31:52.502489Z",
     "start_time": "2022-02-02T11:31:52.490520Z"
    }
   },
   "outputs": [],
   "source": [
    "def test (*args):        # * = for passing n no of arguments, gives alway a tuple\n",
    "    return args"
   ]
  },
  {
   "cell_type": "code",
   "execution_count": 8,
   "id": "06efa1a2",
   "metadata": {
    "ExecuteTime": {
     "end_time": "2022-02-02T10:54:27.743969Z",
     "start_time": "2022-02-02T10:54:27.722028Z"
    }
   },
   "outputs": [
    {
     "data": {
      "text/plain": [
       "(1, 2, 3, 'abc')"
      ]
     },
     "execution_count": 8,
     "metadata": {},
     "output_type": "execute_result"
    }
   ],
   "source": [
    "test(1,2,3,'abc')"
   ]
  },
  {
   "cell_type": "code",
   "execution_count": 10,
   "id": "01856dbd",
   "metadata": {
    "ExecuteTime": {
     "end_time": "2022-02-02T10:57:20.980804Z",
     "start_time": "2022-02-02T10:57:20.974821Z"
    }
   },
   "outputs": [],
   "source": [
    "def test2 (*pka):     # same as *args : args is not a reserved keyword\n",
    "    return pka"
   ]
  },
  {
   "cell_type": "code",
   "execution_count": 12,
   "id": "c9ac6482",
   "metadata": {
    "ExecuteTime": {
     "end_time": "2022-02-02T10:59:09.746335Z",
     "start_time": "2022-02-02T10:59:09.737845Z"
    }
   },
   "outputs": [],
   "source": [
    "def test3 (*pka,a):\n",
    "    return pka,a"
   ]
  },
  {
   "cell_type": "code",
   "execution_count": 16,
   "id": "d301a4f9",
   "metadata": {
    "ExecuteTime": {
     "end_time": "2022-02-02T11:00:50.165979Z",
     "start_time": "2022-02-02T11:00:50.148908Z"
    }
   },
   "outputs": [
    {
     "data": {
      "text/plain": [
       "((1, 2, 3, 'shanu'), 3)"
      ]
     },
     "execution_count": 16,
     "metadata": {},
     "output_type": "execute_result"
    }
   ],
   "source": [
    "test3(1,2,3,'shanu',a=3)     # if i want to give specific data used here 'a' along with *args"
   ]
  },
  {
   "cell_type": "code",
   "execution_count": 17,
   "id": "9303df7e",
   "metadata": {
    "ExecuteTime": {
     "end_time": "2022-02-02T11:05:38.793261Z",
     "start_time": "2022-02-02T11:05:38.781280Z"
    }
   },
   "outputs": [],
   "source": [
    "def test4 (a,*pka):\n",
    "    return pka,a"
   ]
  },
  {
   "cell_type": "code",
   "execution_count": 19,
   "id": "f1019d4d",
   "metadata": {
    "ExecuteTime": {
     "end_time": "2022-02-02T11:06:21.896053Z",
     "start_time": "2022-02-02T11:06:21.882091Z"
    }
   },
   "outputs": [
    {
     "data": {
      "text/plain": [
       "((233, 456, 789), 'pk')"
      ]
     },
     "execution_count": 19,
     "metadata": {},
     "output_type": "execute_result"
    }
   ],
   "source": [
    "test4('pk',233,456,789)       # a is default taken before * data"
   ]
  },
  {
   "cell_type": "code",
   "execution_count": 20,
   "id": "ab619c94",
   "metadata": {
    "ExecuteTime": {
     "end_time": "2022-02-02T11:09:26.197247Z",
     "start_time": "2022-02-02T11:09:26.178205Z"
    }
   },
   "outputs": [],
   "source": [
    "def test5(*args):                     # but this doesnot gives multiple list dats\n",
    "    for i in args:\n",
    "        if type(i)==list:\n",
    "            return i"
   ]
  },
  {
   "cell_type": "code",
   "execution_count": 22,
   "id": "4c96d0ad",
   "metadata": {
    "ExecuteTime": {
     "end_time": "2022-02-02T11:10:42.571313Z",
     "start_time": "2022-02-02T11:10:42.563334Z"
    }
   },
   "outputs": [
    {
     "data": {
      "text/plain": [
       "[1, 23, 2, 3, 4, 5]"
      ]
     },
     "execution_count": 22,
     "metadata": {},
     "output_type": "execute_result"
    }
   ],
   "source": [
    "test5([1,23,2,3,4,5],[4,5,6,7])"
   ]
  },
  {
   "cell_type": "code",
   "execution_count": 29,
   "id": "fb162a40",
   "metadata": {
    "ExecuteTime": {
     "end_time": "2022-02-02T11:12:43.853039Z",
     "start_time": "2022-02-02T11:12:43.835903Z"
    }
   },
   "outputs": [],
   "source": [
    "def test6(*args):\n",
    "    l =[]\n",
    "    for i in args:                  # this fix problem of test5\n",
    "        if type(i)==list:\n",
    "            l.append(i)\n",
    "    return l"
   ]
  },
  {
   "cell_type": "code",
   "execution_count": 28,
   "id": "1c8178e9",
   "metadata": {
    "ExecuteTime": {
     "end_time": "2022-02-02T11:12:21.784181Z",
     "start_time": "2022-02-02T11:12:21.774194Z"
    }
   },
   "outputs": [
    {
     "data": {
      "text/plain": [
       "[[1, 23, 2, 3, 4, 5], [4, 5, 6, 7]]"
      ]
     },
     "execution_count": 28,
     "metadata": {},
     "output_type": "execute_result"
    }
   ],
   "source": [
    "test6([1,23,2,3,4,5],[4,5,6,7])"
   ]
  },
  {
   "cell_type": "code",
   "execution_count": 30,
   "id": "10c158d7",
   "metadata": {
    "ExecuteTime": {
     "end_time": "2022-02-02T11:16:24.396719Z",
     "start_time": "2022-02-02T11:16:24.393728Z"
    }
   },
   "outputs": [],
   "source": [
    "def test7(**kwargs):           # similar to *args but deals with dict\n",
    "    return kwargs              # for dict type data to have both key and values"
   ]
  },
  {
   "cell_type": "code",
   "execution_count": 31,
   "id": "c8fe241a",
   "metadata": {
    "ExecuteTime": {
     "end_time": "2022-02-02T11:16:42.072172Z",
     "start_time": "2022-02-02T11:16:42.059603Z"
    }
   },
   "outputs": [
    {
     "data": {
      "text/plain": [
       "{'a': 1, 'b': 2}"
      ]
     },
     "execution_count": 31,
     "metadata": {},
     "output_type": "execute_result"
    }
   ],
   "source": [
    "test7(a=1,b=2)"
   ]
  },
  {
   "cell_type": "code",
   "execution_count": 36,
   "id": "c84fda42",
   "metadata": {
    "ExecuteTime": {
     "end_time": "2022-02-02T11:22:28.464708Z",
     "start_time": "2022-02-02T11:22:28.451743Z"
    }
   },
   "outputs": [],
   "source": [
    "def test8 ( a,**kwargs):\n",
    "    return kwargs,a"
   ]
  },
  {
   "cell_type": "code",
   "execution_count": 37,
   "id": "8a3560e0",
   "metadata": {
    "ExecuteTime": {
     "end_time": "2022-02-02T11:22:45.876172Z",
     "start_time": "2022-02-02T11:22:45.866686Z"
    }
   },
   "outputs": [
    {
     "data": {
      "text/plain": [
       "({'c': 10}, 10)"
      ]
     },
     "execution_count": 37,
     "metadata": {},
     "output_type": "execute_result"
    }
   ],
   "source": [
    "test8 (10,c = 10)"
   ]
  },
  {
   "cell_type": "code",
   "execution_count": 38,
   "id": "90e1c65c",
   "metadata": {
    "ExecuteTime": {
     "end_time": "2022-02-02T11:23:36.312891Z",
     "start_time": "2022-02-02T11:23:36.306875Z"
    }
   },
   "outputs": [],
   "source": [
    "def test9 (a,*args,**kwargs):\n",
    "    return a,args,kwargs"
   ]
  },
  {
   "cell_type": "code",
   "execution_count": 40,
   "id": "290b6d3f",
   "metadata": {
    "ExecuteTime": {
     "end_time": "2022-02-02T11:24:13.384942Z",
     "start_time": "2022-02-02T11:24:13.379993Z"
    }
   },
   "outputs": [
    {
     "data": {
      "text/plain": [
       "(123, ((1, 2, 3),), {'b': 159})"
      ]
     },
     "execution_count": 40,
     "metadata": {},
     "output_type": "execute_result"
    }
   ],
   "source": [
    "test9(123,(1,2,3),b=159)"
   ]
  },
  {
   "cell_type": "markdown",
   "id": "89106180",
   "metadata": {},
   "source": [
    "lamda function : anonymous function, function without name"
   ]
  },
  {
   "cell_type": "code",
   "execution_count": 49,
   "id": "86296ea3",
   "metadata": {
    "ExecuteTime": {
     "end_time": "2022-02-02T11:32:29.430230Z",
     "start_time": "2022-02-02T11:32:29.420257Z"
    }
   },
   "outputs": [],
   "source": [
    "c = lambda a,b : (a*b, a+b)"
   ]
  },
  {
   "cell_type": "code",
   "execution_count": 50,
   "id": "2151bad3",
   "metadata": {
    "ExecuteTime": {
     "end_time": "2022-02-02T11:32:30.783953Z",
     "start_time": "2022-02-02T11:32:30.765262Z"
    }
   },
   "outputs": [
    {
     "data": {
      "text/plain": [
       "(540, 57)"
      ]
     },
     "execution_count": 50,
     "metadata": {},
     "output_type": "execute_result"
    }
   ],
   "source": [
    "c(45,12)"
   ]
  },
  {
   "cell_type": "code",
   "execution_count": 57,
   "id": "a94a385e",
   "metadata": {
    "ExecuteTime": {
     "end_time": "2022-02-02T11:46:10.147696Z",
     "start_time": "2022-02-02T11:46:10.134178Z"
    }
   },
   "outputs": [],
   "source": [
    "c = 12                    # global variable  can be used entire book\n",
    "def test10 (c,d):\n",
    "    c = 5                 # local variable   can be used for this function only\n",
    "    return c*d"
   ]
  },
  {
   "cell_type": "code",
   "execution_count": 54,
   "id": "037e8c88",
   "metadata": {
    "ExecuteTime": {
     "end_time": "2022-02-02T11:45:39.422562Z",
     "start_time": "2022-02-02T11:45:39.410594Z"
    }
   },
   "outputs": [
    {
     "data": {
      "text/plain": [
       "250"
      ]
     },
     "execution_count": 54,
     "metadata": {},
     "output_type": "execute_result"
    }
   ],
   "source": [
    "test10(10,50)"
   ]
  },
  {
   "cell_type": "code",
   "execution_count": 65,
   "id": "1823d1e1",
   "metadata": {
    "ExecuteTime": {
     "end_time": "2022-02-02T11:49:04.495756Z",
     "start_time": "2022-02-02T11:49:04.477805Z"
    }
   },
   "outputs": [],
   "source": [
    "a = lambda a : [i+2 for i in a if i<4]     # if expecting list use[] for condtions"
   ]
  },
  {
   "cell_type": "code",
   "execution_count": 66,
   "id": "09fed5cd",
   "metadata": {
    "ExecuteTime": {
     "end_time": "2022-02-02T11:49:05.341835Z",
     "start_time": "2022-02-02T11:49:05.324845Z"
    }
   },
   "outputs": [],
   "source": [
    "l = [1,2,3]"
   ]
  },
  {
   "cell_type": "code",
   "execution_count": 67,
   "id": "6fd96dfb",
   "metadata": {
    "ExecuteTime": {
     "end_time": "2022-02-02T11:49:06.105562Z",
     "start_time": "2022-02-02T11:49:06.099612Z"
    }
   },
   "outputs": [
    {
     "data": {
      "text/plain": [
       "[3, 4, 5]"
      ]
     },
     "execution_count": 67,
     "metadata": {},
     "output_type": "execute_result"
    }
   ],
   "source": [
    "a(l)"
   ]
  },
  {
   "cell_type": "code",
   "execution_count": 69,
   "id": "9a6a10c0",
   "metadata": {
    "ExecuteTime": {
     "end_time": "2022-02-02T11:51:47.039660Z",
     "start_time": "2022-02-02T11:51:47.030684Z"
    }
   },
   "outputs": [
    {
     "data": {
      "text/plain": [
       "{0: 0, 1: 1, 2: 4, 3: 9, 4: 16, 5: 25, 6: 36, 7: 49, 8: 64, 9: 81}"
      ]
     },
     "execution_count": 69,
     "metadata": {},
     "output_type": "execute_result"
    }
   ],
   "source": [
    "{i:i**2 for i in range (10)}     #to get dict used{}, for tuple use ()"
   ]
  },
  {
   "cell_type": "markdown",
   "id": "da3a9d86",
   "metadata": {},
   "source": [
    "iterator and generator"
   ]
  },
  {
   "cell_type": "markdown",
   "id": "dabd77ac",
   "metadata": {},
   "source": [
    "iterable means if it can be accesed each elemnt like 'sudh', [1,2,3] \n",
    "'s''u''d''h',  "
   ]
  },
  {
   "cell_type": "code",
   "execution_count": 70,
   "id": "adde0d10",
   "metadata": {
    "ExecuteTime": {
     "end_time": "2022-02-02T11:55:34.809474Z",
     "start_time": "2022-02-02T11:55:34.794982Z"
    }
   },
   "outputs": [],
   "source": [
    "b = iter ('sudha')"
   ]
  },
  {
   "cell_type": "code",
   "execution_count": 71,
   "id": "ab42d37e",
   "metadata": {
    "ExecuteTime": {
     "end_time": "2022-02-02T11:55:41.423988Z",
     "start_time": "2022-02-02T11:55:41.414014Z"
    }
   },
   "outputs": [
    {
     "data": {
      "text/plain": [
       "'s'"
      ]
     },
     "execution_count": 71,
     "metadata": {},
     "output_type": "execute_result"
    }
   ],
   "source": [
    "next(b)"
   ]
  },
  {
   "cell_type": "code",
   "execution_count": 72,
   "id": "b93869cf",
   "metadata": {
    "ExecuteTime": {
     "end_time": "2022-02-02T11:55:49.797177Z",
     "start_time": "2022-02-02T11:55:49.778202Z"
    }
   },
   "outputs": [
    {
     "data": {
      "text/plain": [
       "'u'"
      ]
     },
     "execution_count": 72,
     "metadata": {},
     "output_type": "execute_result"
    }
   ],
   "source": [
    "next(b)"
   ]
  },
  {
   "cell_type": "markdown",
   "id": "dc1de4c4",
   "metadata": {},
   "source": [
    "but int is not an iterable object"
   ]
  },
  {
   "cell_type": "code",
   "execution_count": 74,
   "id": "46c858b8",
   "metadata": {
    "ExecuteTime": {
     "end_time": "2022-02-02T11:56:31.092120Z",
     "start_time": "2022-02-02T11:56:31.073069Z"
    }
   },
   "outputs": [
    {
     "ename": "TypeError",
     "evalue": "'int' object is not iterable",
     "output_type": "error",
     "traceback": [
      "\u001b[1;31m---------------------------------------------------------------------------\u001b[0m",
      "\u001b[1;31mTypeError\u001b[0m                                 Traceback (most recent call last)",
      "\u001b[1;32m~\\AppData\\Local\\Temp/ipykernel_1668/4147843152.py\u001b[0m in \u001b[0;36m<module>\u001b[1;34m\u001b[0m\n\u001b[1;32m----> 1\u001b[1;33m \u001b[0mc\u001b[0m \u001b[1;33m=\u001b[0m \u001b[0miter\u001b[0m\u001b[1;33m(\u001b[0m\u001b[1;36m123456\u001b[0m\u001b[1;33m)\u001b[0m\u001b[1;33m\u001b[0m\u001b[1;33m\u001b[0m\u001b[0m\n\u001b[0m",
      "\u001b[1;31mTypeError\u001b[0m: 'int' object is not iterable"
     ]
    }
   ],
   "source": [
    "c = iter(123456)"
   ]
  },
  {
   "cell_type": "markdown",
   "id": "a4ea2cf8",
   "metadata": {},
   "source": [
    "# generator"
   ]
  },
  {
   "cell_type": "markdown",
   "id": "52ef503c",
   "metadata": {
    "ExecuteTime": {
     "end_time": "2022-02-02T16:11:05.098313Z",
     "start_time": "2022-02-02T16:11:05.038180Z"
    }
   },
   "source": [
    "it gives the data set without storing whole data just by previous it produces the final result"
   ]
  },
  {
   "cell_type": "code",
   "execution_count": 79,
   "id": "0a3d68c4",
   "metadata": {
    "ExecuteTime": {
     "end_time": "2022-02-02T16:14:08.619233Z",
     "start_time": "2022-02-02T16:14:08.604086Z"
    }
   },
   "outputs": [],
   "source": [
    "def gencode(n):\n",
    "    l =[]\n",
    "    for i in range(n):\n",
    "        l.append (i**3)                # this makes heavy if number of n is high\n",
    "    return l\n",
    "    "
   ]
  },
  {
   "cell_type": "code",
   "execution_count": 80,
   "id": "853a73f1",
   "metadata": {
    "ExecuteTime": {
     "end_time": "2022-02-02T16:14:12.154060Z",
     "start_time": "2022-02-02T16:14:12.131812Z"
    }
   },
   "outputs": [
    {
     "data": {
      "text/plain": [
       "[0, 1, 8, 27, 64, 125]"
      ]
     },
     "execution_count": 80,
     "metadata": {},
     "output_type": "execute_result"
    }
   ],
   "source": [
    "gencode(6)"
   ]
  },
  {
   "cell_type": "code",
   "execution_count": 87,
   "id": "154640f9",
   "metadata": {
    "ExecuteTime": {
     "end_time": "2022-02-02T16:17:32.542077Z",
     "start_time": "2022-02-02T16:17:32.518122Z"
    }
   },
   "outputs": [],
   "source": [
    "def gencode1(n):\n",
    "    \n",
    "    for i in range(n):\n",
    "                        \n",
    "        yield i**3"
   ]
  },
  {
   "cell_type": "code",
   "execution_count": 88,
   "id": "87af68ea",
   "metadata": {
    "ExecuteTime": {
     "end_time": "2022-02-02T16:17:33.664188Z",
     "start_time": "2022-02-02T16:17:33.638890Z"
    }
   },
   "outputs": [
    {
     "data": {
      "text/plain": [
       "<generator object gencode1 at 0x00000293F2B4C820>"
      ]
     },
     "execution_count": 88,
     "metadata": {},
     "output_type": "execute_result"
    }
   ],
   "source": [
    "gencode1(66666666666)"
   ]
  },
  {
   "cell_type": "code",
   "execution_count": 92,
   "id": "d8d15b7b",
   "metadata": {
    "ExecuteTime": {
     "end_time": "2022-02-02T16:21:39.917435Z",
     "start_time": "2022-02-02T16:21:39.898880Z"
    }
   },
   "outputs": [
    {
     "name": "stdout",
     "output_type": "stream",
     "text": [
      "0\n",
      "1\n",
      "8\n",
      "27\n",
      "64\n",
      "125\n"
     ]
    }
   ],
   "source": [
    "for i in gencode(6):\n",
    "    print (i)"
   ]
  },
  {
   "cell_type": "code",
   "execution_count": 93,
   "id": "c6fc02e3",
   "metadata": {
    "ExecuteTime": {
     "end_time": "2022-02-02T16:23:26.484580Z",
     "start_time": "2022-02-02T16:23:26.477039Z"
    }
   },
   "outputs": [],
   "source": [
    "def fib (n):\n",
    "    a = 1\n",
    "    b = 1\n",
    "    for i in range (n):\n",
    "        yield a,i\n",
    "        a,b = b,a+b"
   ]
  },
  {
   "cell_type": "code",
   "execution_count": 94,
   "id": "6a9d2388",
   "metadata": {
    "ExecuteTime": {
     "end_time": "2022-02-02T16:23:34.623451Z",
     "start_time": "2022-02-02T16:23:34.598840Z"
    }
   },
   "outputs": [
    {
     "data": {
      "text/plain": [
       "<generator object fib at 0x00000293F2580120>"
      ]
     },
     "execution_count": 94,
     "metadata": {},
     "output_type": "execute_result"
    }
   ],
   "source": [
    "fib(10)"
   ]
  },
  {
   "cell_type": "code",
   "execution_count": 95,
   "id": "dd170de0",
   "metadata": {
    "ExecuteTime": {
     "end_time": "2022-02-02T16:23:50.024337Z",
     "start_time": "2022-02-02T16:23:50.008591Z"
    },
    "scrolled": true
   },
   "outputs": [
    {
     "name": "stdout",
     "output_type": "stream",
     "text": [
      "(1, 0)\n",
      "(1, 1)\n",
      "(2, 2)\n",
      "(3, 3)\n",
      "(5, 4)\n",
      "(8, 5)\n",
      "(13, 6)\n",
      "(21, 7)\n",
      "(34, 8)\n",
      "(55, 9)\n"
     ]
    }
   ],
   "source": [
    "for i in fib(10):\n",
    "    print (i)"
   ]
  },
  {
   "cell_type": "markdown",
   "id": "656d0fe5",
   "metadata": {},
   "source": [
    "# FILE HANDLING:"
   ]
  },
  {
   "cell_type": "code",
   "execution_count": 1,
   "id": "3867dbc8",
   "metadata": {
    "ExecuteTime": {
     "end_time": "2022-02-03T03:56:10.425435Z",
     "start_time": "2022-02-03T03:56:10.405772Z"
    }
   },
   "outputs": [],
   "source": [
    "f = open('pktest.txt','w')"
   ]
  },
  {
   "cell_type": "code",
   "execution_count": 4,
   "id": "55c899d2",
   "metadata": {
    "ExecuteTime": {
     "end_time": "2022-02-03T03:56:53.560529Z",
     "start_time": "2022-02-03T03:56:53.547824Z"
    }
   },
   "outputs": [
    {
     "data": {
      "text/plain": [
       "'C:\\\\Users\\\\pbann'"
      ]
     },
     "execution_count": 4,
     "metadata": {},
     "output_type": "execute_result"
    }
   ],
   "source": [
    "pwd()"
   ]
  },
  {
   "cell_type": "code",
   "execution_count": 5,
   "id": "1adcb300",
   "metadata": {
    "ExecuteTime": {
     "end_time": "2022-02-03T03:57:08.663239Z",
     "start_time": "2022-02-03T03:57:08.605414Z"
    }
   },
   "outputs": [
    {
     "name": "stdout",
     "output_type": "stream",
     "text": [
      " Volume in drive C is OS\n",
      " Volume Serial Number is 4AEA-7E5A\n",
      "\n",
      " Directory of C:\\Users\\pbann\n",
      "\n",
      "03-02-2022  09:26    <DIR>          .\n",
      "28-01-2022  16:53    <DIR>          ..\n",
      "23-01-2022  13:59    <DIR>          .conda\n",
      "20-01-2022  14:42                25 .condarc\n",
      "20-01-2022  14:42    <DIR>          .continuum\n",
      "31-01-2022  09:52    <DIR>          .ipynb_checkpoints\n",
      "21-01-2022  16:08    <DIR>          .ipython\n",
      "27-01-2022  17:24    <DIR>          .jupyter\n",
      "22-01-2022  14:04    <DIR>          __pycache__\n",
      "30-07-2021  17:03    <DIR>          3D Objects\n",
      "20-01-2022  14:12    <DIR>          Anaconda3\n",
      "29-01-2022  13:01    <DIR>          ansel\n",
      "30-01-2022  10:55            20,728 class and objesct child .ipynb\n",
      "28-01-2022  17:20    <DIR>          Contacts\n",
      "20-01-2022  13:56    <DIR>          Documents\n",
      "30-01-2022  08:38    <DIR>          Downloads\n",
      "29-01-2022  07:56            10,163 Exception handling lec notes class 1.ipynb\n",
      "28-01-2022  17:20    <DIR>          Favorites\n",
      "29-01-2022  11:20            14,669 file sysetm lec notes .ipynb\n",
      "27-01-2022  17:31            25,286 for loops while loop lec notes.ipynb\n",
      "27-01-2022  17:31            30,099 Function and holiday task lec notes.ipynb\n",
      "27-01-2022  17:31            57,950 Function continued.ipynb\n",
      "27-01-2022  17:31            48,388 if else , for looplec notes.ipynb\n",
      "27-01-2022  17:31        21,685,761 iterator generator lec notes.ipynb\n",
      "28-01-2022  17:20    <DIR>          Links\n",
      "27-01-2022  17:31            23,879 logging and debuging old lec rec .ipynb\n",
      "28-01-2022  17:20    <DIR>          Music\n",
      "23-01-2022  08:24                34 new 1.py\n",
      "03-02-2022  09:24    <DIR>          OneDrive\n",
      "29-01-2022  13:43            33,519 oops class 1.ipynb\n",
      "22-01-2022  14:04               268 pav.py\n",
      "24-01-2022  20:01                 0 pk debug log\n",
      "03-02-2022  09:26                 0 pktest.txt\n",
      "30-01-2022  11:06             9,732 polymorphism.ipynb\n",
      "27-01-2022  17:31            49,806 practice problem python basic lec notes.ipynb\n",
      "26-01-2022  12:44             4,104 programming aassignment 6.ipynb\n",
      "27-01-2022  19:02             3,811 programming assignments 7.ipynb\n",
      "23-01-2022  13:59    <DIR>          PycharmProjects\n",
      "27-01-2022  18:13            69,102 Python basic (3) (1).ipynb\n",
      "02-02-2022  22:06            93,198 python complete notes.ipynb\n",
      "28-01-2022  17:20    <DIR>          Saved Games\n",
      "28-01-2022  17:20    <DIR>          Searches\n",
      "23-01-2022  11:43    <DIR>          test main\n",
      "22-01-2022  13:40                53 test.py\n",
      "23-01-2022  07:52                36 test.txt\n",
      "27-01-2022  19:24    <DIR>          Tracing\n",
      "29-01-2022  07:44            56,991 Tuples , set , dict lec notes .ipynb\n",
      "29-01-2022  13:55            18,359 Untitled.ipynb\n",
      "22-01-2022  14:06             2,949 Untitled1.ipynb\n",
      "26-01-2022  07:55             1,082 Untitled2.ipynb\n",
      "28-01-2022  17:20    <DIR>          Videos\n",
      "              27 File(s)     22,259,992 bytes\n",
      "              24 Dir(s)  379,755,069,440 bytes free\n"
     ]
    }
   ],
   "source": [
    "%ls"
   ]
  },
  {
   "cell_type": "code",
   "execution_count": 28,
   "id": "37d1afe8",
   "metadata": {
    "ExecuteTime": {
     "end_time": "2022-02-03T04:15:21.084276Z",
     "start_time": "2022-02-03T04:15:21.063162Z"
    }
   },
   "outputs": [
    {
     "data": {
      "text/plain": [
       "29"
      ]
     },
     "execution_count": 28,
     "metadata": {},
     "output_type": "execute_result"
    }
   ],
   "source": [
    "f.write('this is my first file written')     # for multiple lines need '''write here'''"
   ]
  },
  {
   "cell_type": "code",
   "execution_count": 19,
   "id": "47a7201b",
   "metadata": {
    "ExecuteTime": {
     "end_time": "2022-02-03T04:07:28.430812Z",
     "start_time": "2022-02-03T04:07:28.422799Z"
    }
   },
   "outputs": [],
   "source": [
    "f.close()"
   ]
  },
  {
   "cell_type": "code",
   "execution_count": 8,
   "id": "7b52cdce",
   "metadata": {
    "ExecuteTime": {
     "end_time": "2022-02-03T04:02:27.727283Z",
     "start_time": "2022-02-03T04:02:27.711290Z"
    }
   },
   "outputs": [
    {
     "name": "stdout",
     "output_type": "stream",
     "text": [
      "Overwriting pktest.txt\n"
     ]
    }
   ],
   "source": [
    "%%writefile pktest.txt\n",
    "this is written with another method             #another method to write"
   ]
  },
  {
   "cell_type": "code",
   "execution_count": 11,
   "id": "62156384",
   "metadata": {
    "ExecuteTime": {
     "end_time": "2022-02-03T04:03:52.613625Z",
     "start_time": "2022-02-03T04:03:52.597617Z"
    }
   },
   "outputs": [
    {
     "name": "stderr",
     "output_type": "stream",
     "text": [
      "UsageError: unrecognized arguments: #here file is created new and written\n"
     ]
    }
   ],
   "source": [
    "%%writefile pktest1.txt                         #here file is created new and written\n",
    "this is written with another method"
   ]
  },
  {
   "cell_type": "code",
   "execution_count": 12,
   "id": "242c5d8d",
   "metadata": {
    "ExecuteTime": {
     "end_time": "2022-02-03T04:04:55.381843Z",
     "start_time": "2022-02-03T04:04:55.357981Z"
    }
   },
   "outputs": [
    {
     "name": "stdout",
     "output_type": "stream",
     "text": [
      "Overwriting pktest1.txt\n"
     ]
    }
   ],
   "source": [
    "%%writefile pktest1.txt \n",
    "this is next line"
   ]
  },
  {
   "cell_type": "code",
   "execution_count": 21,
   "id": "2890e601",
   "metadata": {
    "ExecuteTime": {
     "end_time": "2022-02-03T04:07:34.988897Z",
     "start_time": "2022-02-03T04:07:34.963121Z"
    }
   },
   "outputs": [],
   "source": [
    "f = open('pktest.txt')"
   ]
  },
  {
   "cell_type": "code",
   "execution_count": 22,
   "id": "245d305a",
   "metadata": {
    "ExecuteTime": {
     "end_time": "2022-02-03T04:07:36.907209Z",
     "start_time": "2022-02-03T04:07:36.891035Z"
    }
   },
   "outputs": [
    {
     "data": {
      "text/plain": [
       "'this is written with another method\\n'"
      ]
     },
     "execution_count": 22,
     "metadata": {},
     "output_type": "execute_result"
    }
   ],
   "source": [
    "f.read()     #this mode for reading only"
   ]
  },
  {
   "cell_type": "code",
   "execution_count": 25,
   "id": "af33fbd5",
   "metadata": {
    "ExecuteTime": {
     "end_time": "2022-02-03T04:08:42.062870Z",
     "start_time": "2022-02-03T04:08:42.052663Z"
    }
   },
   "outputs": [
    {
     "data": {
      "text/plain": [
       "''"
      ]
     },
     "execution_count": 25,
     "metadata": {},
     "output_type": "execute_result"
    }
   ],
   "source": [
    "f.read()"
   ]
  },
  {
   "cell_type": "code",
   "execution_count": 23,
   "id": "c64cc51a",
   "metadata": {
    "ExecuteTime": {
     "end_time": "2022-02-03T04:08:14.977386Z",
     "start_time": "2022-02-03T04:08:14.969769Z"
    }
   },
   "outputs": [
    {
     "data": {
      "text/plain": [
       "5"
      ]
     },
     "execution_count": 23,
     "metadata": {},
     "output_type": "execute_result"
    }
   ],
   "source": [
    "f.seek(5)             # this makes curser from end position to 5th"
   ]
  },
  {
   "cell_type": "code",
   "execution_count": 24,
   "id": "d6b5c3ac",
   "metadata": {
    "ExecuteTime": {
     "end_time": "2022-02-03T04:08:28.493013Z",
     "start_time": "2022-02-03T04:08:28.483999Z"
    }
   },
   "outputs": [
    {
     "data": {
      "text/plain": [
       "'is written with another method\\n'"
      ]
     },
     "execution_count": 24,
     "metadata": {},
     "output_type": "execute_result"
    }
   ],
   "source": [
    "f.read()   "
   ]
  },
  {
   "cell_type": "code",
   "execution_count": 26,
   "id": "9fc138ec",
   "metadata": {
    "ExecuteTime": {
     "end_time": "2022-02-03T04:10:44.538640Z",
     "start_time": "2022-02-03T04:10:44.522778Z"
    }
   },
   "outputs": [
    {
     "data": {
      "text/plain": [
       "37"
      ]
     },
     "execution_count": 26,
     "metadata": {},
     "output_type": "execute_result"
    }
   ],
   "source": [
    "f.tell()       #tell where is curser now"
   ]
  },
  {
   "cell_type": "code",
   "execution_count": null,
   "id": "efe9a8de",
   "metadata": {},
   "outputs": [],
   "source": [
    "f.readline()   #reads data in lines"
   ]
  },
  {
   "cell_type": "code",
   "execution_count": 1,
   "id": "7bae15f2",
   "metadata": {
    "ExecuteTime": {
     "end_time": "2022-02-03T04:19:35.407294Z",
     "start_time": "2022-02-03T04:19:35.383525Z"
    }
   },
   "outputs": [],
   "source": [
    "f = open('pktest.txt','r+')           "
   ]
  },
  {
   "cell_type": "code",
   "execution_count": 2,
   "id": "f3cff338",
   "metadata": {
    "ExecuteTime": {
     "end_time": "2022-02-03T04:19:38.862534Z",
     "start_time": "2022-02-03T04:19:38.815160Z"
    }
   },
   "outputs": [
    {
     "data": {
      "text/plain": [
       "421"
      ]
     },
     "execution_count": 2,
     "metadata": {},
     "output_type": "execute_result"
    }
   ],
   "source": [
    "f.write('''Data science is an essential part of many industries today, given the massive amounts of data that are produced, and is one of the most debated topics in IT circles. Its popularity has grown over the years, and companies have started implementing data science techniques to grow their business and increase customer satisfaction. In this article, we’ll learn what data science is, and how you can become a data scientist.''')"
   ]
  },
  {
   "cell_type": "code",
   "execution_count": 4,
   "id": "34ad5ba1",
   "metadata": {
    "ExecuteTime": {
     "end_time": "2022-02-03T04:21:17.817821Z",
     "start_time": "2022-02-03T04:21:17.794564Z"
    }
   },
   "outputs": [
    {
     "data": {
      "text/plain": [
       "'Data science is an essential part of many industries today, given the massive amounts of data that are produced, and is one of the most debated topics in IT circles. Its popularity has grown over the years, and companies have started implementing data science techniques to grow their business and increase customer satisfaction. In this article, we’ll learn what data science is, and how you can become a data scientist. can become a data scientist.'"
      ]
     },
     "execution_count": 4,
     "metadata": {},
     "output_type": "execute_result"
    }
   ],
   "source": [
    "f.readline()"
   ]
  },
  {
   "cell_type": "code",
   "execution_count": 6,
   "id": "6c4f8973",
   "metadata": {
    "ExecuteTime": {
     "end_time": "2022-02-03T04:34:59.173847Z",
     "start_time": "2022-02-03T04:34:59.149864Z"
    }
   },
   "outputs": [
    {
     "data": {
      "text/plain": [
       "0"
      ]
     },
     "execution_count": 6,
     "metadata": {},
     "output_type": "execute_result"
    }
   ],
   "source": [
    "f.seek(0)"
   ]
  },
  {
   "cell_type": "code",
   "execution_count": 7,
   "id": "dfeba624",
   "metadata": {
    "ExecuteTime": {
     "end_time": "2022-02-03T04:23:51.456436Z",
     "start_time": "2022-02-03T04:23:51.433159Z"
    }
   },
   "outputs": [
    {
     "data": {
      "text/plain": [
       "'this is written with another method\\nData science is an essential part of many industries today, given the massive amounts of data that are produced, and is one of the most debated topics in IT circles. Its popularity has grown over the years, and companies have started implementing data science techniques to grow their business and increase customer satisfaction. In this article, we’ll learn what data science is, and how you can become a data scientist. can become a data scientist.Data science is an essential part of many industries today, given the massive amounts of data that are produced, and is one of the most debated topics in IT circles. Its popularity has grown over the years, and companies have started implementing data science techniques to grow their business and increase customer satisfaction. In this article, we’ll learn what data science is, and how you can become a data scientist.'"
      ]
     },
     "execution_count": 7,
     "metadata": {},
     "output_type": "execute_result"
    }
   ],
   "source": [
    "f.read()      # not proper order as readline"
   ]
  },
  {
   "cell_type": "code",
   "execution_count": 8,
   "id": "5e8190ac",
   "metadata": {
    "ExecuteTime": {
     "end_time": "2022-02-03T04:24:12.184757Z",
     "start_time": "2022-02-03T04:24:12.170274Z"
    }
   },
   "outputs": [],
   "source": [
    "f.close()"
   ]
  },
  {
   "cell_type": "code",
   "execution_count": 1,
   "id": "001287bc",
   "metadata": {
    "ExecuteTime": {
     "end_time": "2022-02-03T04:34:25.924217Z",
     "start_time": "2022-02-03T04:34:25.884248Z"
    }
   },
   "outputs": [],
   "source": [
    "f = open('pktest.txt','r+') "
   ]
  },
  {
   "cell_type": "code",
   "execution_count": 11,
   "id": "2f14a25e",
   "metadata": {
    "ExecuteTime": {
     "end_time": "2022-02-03T04:25:09.998273Z",
     "start_time": "2022-02-03T04:25:09.980833Z"
    }
   },
   "outputs": [
    {
     "name": "stdout",
     "output_type": "stream",
     "text": [
      "this is written with another method\n",
      "\n",
      "Data science is an essential part of many industries today, given the massive amounts of data that are produced, and is one of the most debated topics in IT circles. Its popularity has grown over the years, and companies have started implementing data science techniques to grow their business and increase customer satisfaction. In this article, we’ll learn what data science is, and how you can become a data scientist. can become a data scientist.Data science is an essential part of many industries today, given the massive amounts of data that are produced, and is one of the most debated topics in IT circles. Its popularity has grown over the years, and companies have started implementing data science techniques to grow their business and increase customer satisfaction. In this article, we’ll learn what data science is, and how you can become a data scientist.\n"
     ]
    }
   ],
   "source": [
    " \n",
    "for line in f:       # same as readline\n",
    "    print(line)"
   ]
  },
  {
   "cell_type": "code",
   "execution_count": 13,
   "id": "92ffa0d7",
   "metadata": {
    "ExecuteTime": {
     "end_time": "2022-02-03T04:29:30.849562Z",
     "start_time": "2022-02-03T04:29:30.825551Z"
    }
   },
   "outputs": [],
   "source": [
    "f.close()"
   ]
  },
  {
   "cell_type": "code",
   "execution_count": 19,
   "id": "9dd9dbfd",
   "metadata": {
    "ExecuteTime": {
     "end_time": "2022-02-03T04:32:59.294281Z",
     "start_time": "2022-02-03T04:32:59.262291Z"
    }
   },
   "outputs": [],
   "source": [
    "f = open('pktest.txt','r+') "
   ]
  },
  {
   "cell_type": "code",
   "execution_count": 2,
   "id": "6bbd93b7",
   "metadata": {
    "ExecuteTime": {
     "end_time": "2022-02-03T04:34:31.074880Z",
     "start_time": "2022-02-03T04:34:31.035253Z"
    }
   },
   "outputs": [
    {
     "data": {
      "text/plain": [
       "['this is written with another method\\n',\n",
       " 'Data science is an essential part of many industries today, given the massive amounts of data that are produced, and is one of the most debated topics in IT circles. Its popularity has grown over the years, and companies have started implementing data science techniques to grow their business and increase customer satisfaction. In this article, we’ll learn what data science is, and how you can become a data scientist. can become a data scientist.Data science is an essential part of many industries today, given the massive amounts of data that are produced, and is one of the most debated topics in IT circles. Its popularity has grown over the years, and companies have started implementing data science techniques to grow their business and increase customer satisfaction. In this article, we’ll learn what data science is, and how you can become a data scientist.The image represents the five stages of the data science life cycle: Capture, (data acquisition, data entry, signal reception, data extraction); Maintain (data warehousing, data cleansing, data staging, data processing, data architecture); Process (data mining, clustering/classification, data modeling, data summarization); Analyze (exploratory/confirmatory, predictive analysis, regression, text mining, qualitative analysis); Communicate (data reporting, data visualization, business intelligence, decision making).\\n',\n",
       " 'The term “data scientist” was coined as recently as 2008 when companies realized the need for data professionals who are skilled in organizing and analyzing massive amounts of data.1 In a 2009 McKinsey&Company article, Hal Varian, Google’s chief economist and UC Berkeley professor of information sciences, business, and economics, predicted the importance of adapting to technology’s influence and reconfiguration of different industries.2']"
      ]
     },
     "execution_count": 2,
     "metadata": {},
     "output_type": "execute_result"
    }
   ],
   "source": [
    "f.readlines()     # this open in list form"
   ]
  },
  {
   "cell_type": "code",
   "execution_count": 8,
   "id": "8a65e0f6",
   "metadata": {
    "ExecuteTime": {
     "end_time": "2022-02-03T04:35:17.164648Z",
     "start_time": "2022-02-03T04:35:17.149078Z"
    }
   },
   "outputs": [
    {
     "data": {
      "text/plain": [
       "0"
      ]
     },
     "execution_count": 8,
     "metadata": {},
     "output_type": "execute_result"
    }
   ],
   "source": [
    "len(f.readlines())"
   ]
  },
  {
   "cell_type": "code",
   "execution_count": 4,
   "id": "69927523",
   "metadata": {
    "ExecuteTime": {
     "end_time": "2022-02-03T04:34:38.724605Z",
     "start_time": "2022-02-03T04:34:38.525960Z"
    }
   },
   "outputs": [
    {
     "ename": "TypeError",
     "evalue": "'_io.TextIOWrapper' object is not subscriptable",
     "output_type": "error",
     "traceback": [
      "\u001b[1;31m---------------------------------------------------------------------------\u001b[0m",
      "\u001b[1;31mTypeError\u001b[0m                                 Traceback (most recent call last)",
      "\u001b[1;32m~\\AppData\\Local\\Temp/ipykernel_28552/386689866.py\u001b[0m in \u001b[0;36m<module>\u001b[1;34m\u001b[0m\n\u001b[1;32m----> 1\u001b[1;33m \u001b[0mf\u001b[0m\u001b[1;33m[\u001b[0m\u001b[1;36m0\u001b[0m\u001b[1;33m]\u001b[0m\u001b[1;33m.\u001b[0m\u001b[0msplit\u001b[0m\u001b[1;33m(\u001b[0m\u001b[1;33m)\u001b[0m\u001b[1;33m\u001b[0m\u001b[1;33m\u001b[0m\u001b[0m\n\u001b[0m",
      "\u001b[1;31mTypeError\u001b[0m: '_io.TextIOWrapper' object is not subscriptable"
     ]
    }
   ],
   "source": [
    "f[0].split()"
   ]
  },
  {
   "cell_type": "code",
   "execution_count": 5,
   "id": "3da48040",
   "metadata": {
    "ExecuteTime": {
     "end_time": "2022-02-03T05:10:33.069556Z",
     "start_time": "2022-02-03T05:10:33.046117Z"
    }
   },
   "outputs": [
    {
     "data": {
      "text/plain": [
       "960"
      ]
     },
     "execution_count": 5,
     "metadata": {},
     "output_type": "execute_result"
    }
   ],
   "source": [
    "f.write('''The image represents the five stages of the data science life cycle: Capture, (data acquisition, data entry, signal reception, data extraction); Maintain (data warehousing, data cleansing, data staging, data processing, data architecture); Process (data mining, clustering/classification, data modeling, data summarization); Analyze (exploratory/confirmatory, predictive analysis, regression, text mining, qualitative analysis); Communicate (data reporting, data visualization, business intelligence, decision making).\n",
    "\n",
    "The term “data scientist” was coined as recently as 2008 when companies realized the need for data professionals who are skilled in organizing and analyzing massive amounts of data.1 In a 2009 McKinsey&Company article, Hal Varian, Google’s chief economist and UC Berkeley professor of information sciences, business, and economics, predicted the importance of adapting to technology’s influence and reconfiguration of different industries.2''')"
   ]
  },
  {
   "cell_type": "code",
   "execution_count": 6,
   "id": "83914431",
   "metadata": {
    "ExecuteTime": {
     "end_time": "2022-02-03T05:10:34.444800Z",
     "start_time": "2022-02-03T05:10:34.420777Z"
    }
   },
   "outputs": [
    {
     "data": {
      "text/plain": [
       "[]"
      ]
     },
     "execution_count": 6,
     "metadata": {},
     "output_type": "execute_result"
    }
   ],
   "source": [
    "f.readlines()"
   ]
  },
  {
   "cell_type": "code",
   "execution_count": 7,
   "id": "42d8d26e",
   "metadata": {
    "ExecuteTime": {
     "end_time": "2022-02-03T05:10:37.973958Z",
     "start_time": "2022-02-03T05:10:37.955202Z"
    }
   },
   "outputs": [],
   "source": [
    "f.close()"
   ]
  },
  {
   "cell_type": "code",
   "execution_count": 16,
   "id": "e80e7544",
   "metadata": {
    "ExecuteTime": {
     "end_time": "2022-02-03T05:18:56.660245Z",
     "start_time": "2022-02-03T05:18:56.646367Z"
    }
   },
   "outputs": [],
   "source": [
    "f = open('pktest1.txt','r+') "
   ]
  },
  {
   "cell_type": "code",
   "execution_count": 17,
   "id": "b9beb4e7",
   "metadata": {
    "ExecuteTime": {
     "end_time": "2022-02-03T05:18:58.269921Z",
     "start_time": "2022-02-03T05:18:58.254772Z"
    }
   },
   "outputs": [],
   "source": [
    "l= f.readlines()"
   ]
  },
  {
   "cell_type": "code",
   "execution_count": 18,
   "id": "4217bb98",
   "metadata": {
    "ExecuteTime": {
     "end_time": "2022-02-03T05:18:59.836636Z",
     "start_time": "2022-02-03T05:18:59.822330Z"
    }
   },
   "outputs": [
    {
     "data": {
      "text/plain": [
       "['this', 'is', 'next', 'line']"
      ]
     },
     "execution_count": 18,
     "metadata": {},
     "output_type": "execute_result"
    }
   ],
   "source": [
    "l[0].split()"
   ]
  },
  {
   "cell_type": "code",
   "execution_count": 19,
   "id": "ec8ebe39",
   "metadata": {
    "ExecuteTime": {
     "end_time": "2022-02-03T05:19:01.324338Z",
     "start_time": "2022-02-03T05:19:01.305726Z"
    }
   },
   "outputs": [
    {
     "data": {
      "text/plain": [
       "'pktest1.txt'"
      ]
     },
     "execution_count": 19,
     "metadata": {},
     "output_type": "execute_result"
    }
   ],
   "source": [
    "f.name"
   ]
  },
  {
   "cell_type": "code",
   "execution_count": 20,
   "id": "d21e804d",
   "metadata": {
    "ExecuteTime": {
     "end_time": "2022-02-03T05:19:03.441328Z",
     "start_time": "2022-02-03T05:19:03.416153Z"
    }
   },
   "outputs": [],
   "source": [
    "l=['this is line 1','this is line 2','this is line 3','this is line 4']"
   ]
  },
  {
   "cell_type": "code",
   "execution_count": 21,
   "id": "b992b801",
   "metadata": {
    "ExecuteTime": {
     "end_time": "2022-02-03T05:19:04.988499Z",
     "start_time": "2022-02-03T05:19:04.972396Z"
    }
   },
   "outputs": [],
   "source": [
    "f.writelines(l)"
   ]
  },
  {
   "cell_type": "code",
   "execution_count": 22,
   "id": "24aacc79",
   "metadata": {
    "ExecuteTime": {
     "end_time": "2022-02-03T05:19:05.705002Z",
     "start_time": "2022-02-03T05:19:05.696529Z"
    }
   },
   "outputs": [],
   "source": [
    "f.close()"
   ]
  },
  {
   "cell_type": "code",
   "execution_count": 23,
   "id": "13c46390",
   "metadata": {
    "ExecuteTime": {
     "end_time": "2022-02-03T05:20:09.364244Z",
     "start_time": "2022-02-03T05:20:09.354016Z"
    }
   },
   "outputs": [],
   "source": [
    "import os"
   ]
  },
  {
   "cell_type": "code",
   "execution_count": 25,
   "id": "390ee044",
   "metadata": {
    "ExecuteTime": {
     "end_time": "2022-02-03T05:20:36.069707Z",
     "start_time": "2022-02-03T05:20:36.056270Z"
    }
   },
   "outputs": [],
   "source": [
    "os.remove('test.txt')"
   ]
  },
  {
   "cell_type": "code",
   "execution_count": 26,
   "id": "b1857ce9",
   "metadata": {
    "ExecuteTime": {
     "end_time": "2022-02-03T05:20:55.293729Z",
     "start_time": "2022-02-03T05:20:55.285735Z"
    }
   },
   "outputs": [
    {
     "data": {
      "text/plain": [
       "'C:\\\\Users\\\\pbann'"
      ]
     },
     "execution_count": 26,
     "metadata": {},
     "output_type": "execute_result"
    }
   ],
   "source": [
    "os.getcwd()"
   ]
  },
  {
   "cell_type": "code",
   "execution_count": 37,
   "id": "48c81f63",
   "metadata": {
    "ExecuteTime": {
     "end_time": "2022-02-03T05:31:54.924392Z",
     "start_time": "2022-02-03T05:31:54.903719Z"
    }
   },
   "outputs": [
    {
     "data": {
      "text/plain": [
       "['assignments',\n",
       " 'Exception handling lec notes class 1.ipynb',\n",
       " 'file sysetm lec notes .ipynb',\n",
       " 'for loops while loop lec notes.ipynb',\n",
       " 'Function and holiday task lec notes.ipynb',\n",
       " 'Function continued.ipynb',\n",
       " 'if else , for looplec notes.ipynb',\n",
       " 'Introduction to MySQL (5).docx',\n",
       " 'iterator generator lec notes.ipynb',\n",
       " 'logging and debuging old lec rec .ipynb',\n",
       " 'oops class 1.ipynb',\n",
       " 'practice problem python basic lec notes.ipynb',\n",
       " 'Python basic (3) (1).ipynb',\n",
       " 'Tuples , set , dict lec notes .ipynb']"
      ]
     },
     "execution_count": 37,
     "metadata": {},
     "output_type": "execute_result"
    }
   ],
   "source": [
    "os.listdir(\"C:\\\\Users\\\\pbann\\\\OneDrive\\\\Desktop\\\\science\")       # to see what are the files available inside a directory \n",
    "                                                                 # use \\\\ to get executed"
   ]
  },
  {
   "cell_type": "code",
   "execution_count": 38,
   "id": "ae19924c",
   "metadata": {
    "ExecuteTime": {
     "end_time": "2022-02-03T05:32:08.082329Z",
     "start_time": "2022-02-03T05:32:08.074081Z"
    }
   },
   "outputs": [
    {
     "data": {
      "text/plain": [
       "'C:\\\\Users\\\\pbann'"
      ]
     },
     "execution_count": 38,
     "metadata": {},
     "output_type": "execute_result"
    }
   ],
   "source": [
    "os.getcwd()"
   ]
  },
  {
   "cell_type": "markdown",
   "id": "8eafe6f6",
   "metadata": {},
   "source": [
    "# Exceptional handling"
   ]
  },
  {
   "cell_type": "markdown",
   "id": "7b897996",
   "metadata": {},
   "source": [
    "to avoid subsequent program failure we use this"
   ]
  },
  {
   "cell_type": "code",
   "execution_count": 45,
   "id": "511dcc02",
   "metadata": {
    "ExecuteTime": {
     "end_time": "2022-02-03T06:16:45.000805Z",
     "start_time": "2022-02-03T06:16:44.995819Z"
    }
   },
   "outputs": [
    {
     "name": "stdout",
     "output_type": "stream",
     "text": [
      "not writable\n"
     ]
    }
   ],
   "source": [
    "try:\n",
    "    f = open('pktest.txt','r')\n",
    "    f.write ('write')\n",
    "except Exception as e:\n",
    "    print(e)"
   ]
  },
  {
   "cell_type": "code",
   "execution_count": 1,
   "id": "73ed03f9",
   "metadata": {
    "ExecuteTime": {
     "end_time": "2022-02-03T12:25:21.941870Z",
     "start_time": "2022-02-03T12:25:21.910147Z"
    }
   },
   "outputs": [
    {
     "name": "stdout",
     "output_type": "stream",
     "text": [
      "once try exxecuted this will done\n"
     ]
    }
   ],
   "source": [
    "try:\n",
    "    f = open('pktest.txt','w')\n",
    "    f.write('this is ry block')\n",
    "except Exception as e:\n",
    "    print('this handles error')\n",
    "else:\n",
    "    print('once try exxecuted this will done')\n",
    "    f.close()"
   ]
  },
  {
   "cell_type": "code",
   "execution_count": 2,
   "id": "f66fa781",
   "metadata": {
    "ExecuteTime": {
     "end_time": "2022-02-03T12:25:23.349927Z",
     "start_time": "2022-02-03T12:25:23.325873Z"
    }
   },
   "outputs": [
    {
     "name": "stdout",
     "output_type": "stream",
     "text": [
      "not writable\n",
      "print this at any cost\n"
     ]
    }
   ],
   "source": [
    "try:\n",
    "    f = open('pktest.txt','r')\n",
    "    f.write ('write')\n",
    "except Exception as e:\n",
    "    print(e)\n",
    "finally:\n",
    "    print('print this at any cost')"
   ]
  },
  {
   "cell_type": "code",
   "execution_count": 3,
   "id": "232ecf22",
   "metadata": {
    "ExecuteTime": {
     "end_time": "2022-02-03T12:25:24.421603Z",
     "start_time": "2022-02-03T12:25:24.405587Z"
    }
   },
   "outputs": [],
   "source": [
    "def func():\n",
    "    try:\n",
    "        a = int(input())\n",
    "        return a\n",
    "    except Exception as e:\n",
    "        print ('this is error', e)"
   ]
  },
  {
   "cell_type": "code",
   "execution_count": 3,
   "id": "7f9db6fd",
   "metadata": {
    "ExecuteTime": {
     "end_time": "2022-02-03T12:42:32.714976Z",
     "start_time": "2022-02-03T12:42:32.698810Z"
    }
   },
   "outputs": [],
   "source": [
    "def askinfinity():\n",
    "    flag = True\n",
    "    while flag:\n",
    "        a = int(input())\n",
    "        if type(a) == int:\n",
    "            return 'yes'"
   ]
  },
  {
   "cell_type": "code",
   "execution_count": 5,
   "id": "f0ac0c75",
   "metadata": {
    "ExecuteTime": {
     "end_time": "2022-02-03T12:54:22.332485Z",
     "start_time": "2022-02-03T12:54:22.320553Z"
    }
   },
   "outputs": [],
   "source": [
    "def test(a):\n",
    "    if a < 0:\n",
    "        raise ('you have negative value')\n",
    "    return a"
   ]
  },
  {
   "cell_type": "code",
   "execution_count": 6,
   "id": "e6ee997b",
   "metadata": {
    "ExecuteTime": {
     "end_time": "2022-02-03T12:54:31.051076Z",
     "start_time": "2022-02-03T12:54:30.997147Z"
    }
   },
   "outputs": [
    {
     "ename": "TypeError",
     "evalue": "exceptions must derive from BaseException",
     "output_type": "error",
     "traceback": [
      "\u001b[1;31m---------------------------------------------------------------------------\u001b[0m",
      "\u001b[1;31mTypeError\u001b[0m                                 Traceback (most recent call last)",
      "\u001b[1;32m~\\AppData\\Local\\Temp/ipykernel_17468/4093551797.py\u001b[0m in \u001b[0;36m<module>\u001b[1;34m\u001b[0m\n\u001b[1;32m----> 1\u001b[1;33m \u001b[0mtest\u001b[0m\u001b[1;33m(\u001b[0m\u001b[1;33m-\u001b[0m\u001b[1;36m5\u001b[0m\u001b[1;33m)\u001b[0m\u001b[1;33m\u001b[0m\u001b[1;33m\u001b[0m\u001b[0m\n\u001b[0m",
      "\u001b[1;32m~\\AppData\\Local\\Temp/ipykernel_17468/2611840203.py\u001b[0m in \u001b[0;36mtest\u001b[1;34m(a)\u001b[0m\n\u001b[0;32m      1\u001b[0m \u001b[1;32mdef\u001b[0m \u001b[0mtest\u001b[0m\u001b[1;33m(\u001b[0m\u001b[0ma\u001b[0m\u001b[1;33m)\u001b[0m\u001b[1;33m:\u001b[0m\u001b[1;33m\u001b[0m\u001b[1;33m\u001b[0m\u001b[0m\n\u001b[0;32m      2\u001b[0m     \u001b[1;32mif\u001b[0m \u001b[0ma\u001b[0m \u001b[1;33m<\u001b[0m \u001b[1;36m0\u001b[0m\u001b[1;33m:\u001b[0m\u001b[1;33m\u001b[0m\u001b[1;33m\u001b[0m\u001b[0m\n\u001b[1;32m----> 3\u001b[1;33m         \u001b[1;32mraise\u001b[0m \u001b[1;33m(\u001b[0m\u001b[1;34m'you have negative value'\u001b[0m\u001b[1;33m)\u001b[0m\u001b[1;33m\u001b[0m\u001b[1;33m\u001b[0m\u001b[0m\n\u001b[0m\u001b[0;32m      4\u001b[0m     \u001b[1;32mreturn\u001b[0m \u001b[0ma\u001b[0m\u001b[1;33m\u001b[0m\u001b[1;33m\u001b[0m\u001b[0m\n",
      "\u001b[1;31mTypeError\u001b[0m: exceptions must derive from BaseException"
     ]
    }
   ],
   "source": [
    "test(-5)"
   ]
  },
  {
   "cell_type": "code",
   "execution_count": 2,
   "id": "bb618ec6",
   "metadata": {
    "ExecuteTime": {
     "end_time": "2022-02-03T13:02:48.653383Z",
     "start_time": "2022-02-03T13:02:44.239902Z"
    }
   },
   "outputs": [
    {
     "ename": "KeyboardInterrupt",
     "evalue": "Interrupted by user",
     "output_type": "error",
     "traceback": [
      "\u001b[1;31m---------------------------------------------------------------------------\u001b[0m",
      "\u001b[1;31mKeyboardInterrupt\u001b[0m                         Traceback (most recent call last)",
      "\u001b[1;32m~\\AppData\\Local\\Temp/ipykernel_16976/1246713672.py\u001b[0m in \u001b[0;36m<module>\u001b[1;34m\u001b[0m\n\u001b[0;32m      1\u001b[0m \u001b[1;32mtry\u001b[0m \u001b[1;33m:\u001b[0m\u001b[1;33m\u001b[0m\u001b[1;33m\u001b[0m\u001b[0m\n\u001b[1;32m----> 2\u001b[1;33m     \u001b[0ma\u001b[0m \u001b[1;33m=\u001b[0m\u001b[0minput\u001b[0m\u001b[1;33m(\u001b[0m\u001b[1;33m)\u001b[0m\u001b[1;33m\u001b[0m\u001b[1;33m\u001b[0m\u001b[0m\n\u001b[0m\u001b[0;32m      3\u001b[0m     \u001b[0mtest\u001b[0m\u001b[1;33m(\u001b[0m\u001b[0ma\u001b[0m\u001b[1;33m)\u001b[0m\u001b[1;33m\u001b[0m\u001b[1;33m\u001b[0m\u001b[0m\n\u001b[0;32m      4\u001b[0m \u001b[1;32mexcept\u001b[0m \u001b[0mException\u001b[0m \u001b[1;32mas\u001b[0m \u001b[0me\u001b[0m\u001b[1;33m:\u001b[0m\u001b[1;33m\u001b[0m\u001b[1;33m\u001b[0m\u001b[0m\n\u001b[0;32m      5\u001b[0m     \u001b[0mprint\u001b[0m \u001b[1;33m(\u001b[0m\u001b[1;34m'calling my raise'\u001b[0m\u001b[1;33m,\u001b[0m\u001b[0me\u001b[0m\u001b[1;33m)\u001b[0m\u001b[1;33m\u001b[0m\u001b[1;33m\u001b[0m\u001b[0m\n",
      "\u001b[1;32m~\\Anaconda3\\lib\\site-packages\\ipykernel\\kernelbase.py\u001b[0m in \u001b[0;36mraw_input\u001b[1;34m(self, prompt)\u001b[0m\n\u001b[0;32m   1004\u001b[0m                 \u001b[1;34m\"raw_input was called, but this frontend does not support input requests.\"\u001b[0m\u001b[1;33m\u001b[0m\u001b[1;33m\u001b[0m\u001b[0m\n\u001b[0;32m   1005\u001b[0m             )\n\u001b[1;32m-> 1006\u001b[1;33m         return self._input_request(\n\u001b[0m\u001b[0;32m   1007\u001b[0m             \u001b[0mstr\u001b[0m\u001b[1;33m(\u001b[0m\u001b[0mprompt\u001b[0m\u001b[1;33m)\u001b[0m\u001b[1;33m,\u001b[0m\u001b[1;33m\u001b[0m\u001b[1;33m\u001b[0m\u001b[0m\n\u001b[0;32m   1008\u001b[0m             \u001b[0mself\u001b[0m\u001b[1;33m.\u001b[0m\u001b[0m_parent_ident\u001b[0m\u001b[1;33m[\u001b[0m\u001b[1;34m\"shell\"\u001b[0m\u001b[1;33m]\u001b[0m\u001b[1;33m,\u001b[0m\u001b[1;33m\u001b[0m\u001b[1;33m\u001b[0m\u001b[0m\n",
      "\u001b[1;32m~\\Anaconda3\\lib\\site-packages\\ipykernel\\kernelbase.py\u001b[0m in \u001b[0;36m_input_request\u001b[1;34m(self, prompt, ident, parent, password)\u001b[0m\n\u001b[0;32m   1049\u001b[0m             \u001b[1;32mexcept\u001b[0m \u001b[0mKeyboardInterrupt\u001b[0m\u001b[1;33m:\u001b[0m\u001b[1;33m\u001b[0m\u001b[1;33m\u001b[0m\u001b[0m\n\u001b[0;32m   1050\u001b[0m                 \u001b[1;31m# re-raise KeyboardInterrupt, to truncate traceback\u001b[0m\u001b[1;33m\u001b[0m\u001b[1;33m\u001b[0m\u001b[0m\n\u001b[1;32m-> 1051\u001b[1;33m                 \u001b[1;32mraise\u001b[0m \u001b[0mKeyboardInterrupt\u001b[0m\u001b[1;33m(\u001b[0m\u001b[1;34m\"Interrupted by user\"\u001b[0m\u001b[1;33m)\u001b[0m \u001b[1;32mfrom\u001b[0m \u001b[1;32mNone\u001b[0m\u001b[1;33m\u001b[0m\u001b[1;33m\u001b[0m\u001b[0m\n\u001b[0m\u001b[0;32m   1052\u001b[0m             \u001b[1;32mexcept\u001b[0m \u001b[0mException\u001b[0m\u001b[1;33m:\u001b[0m\u001b[1;33m\u001b[0m\u001b[1;33m\u001b[0m\u001b[0m\n\u001b[0;32m   1053\u001b[0m                 \u001b[0mself\u001b[0m\u001b[1;33m.\u001b[0m\u001b[0mlog\u001b[0m\u001b[1;33m.\u001b[0m\u001b[0mwarning\u001b[0m\u001b[1;33m(\u001b[0m\u001b[1;34m\"Invalid Message:\"\u001b[0m\u001b[1;33m,\u001b[0m \u001b[0mexc_info\u001b[0m\u001b[1;33m=\u001b[0m\u001b[1;32mTrue\u001b[0m\u001b[1;33m)\u001b[0m\u001b[1;33m\u001b[0m\u001b[1;33m\u001b[0m\u001b[0m\n",
      "\u001b[1;31mKeyboardInterrupt\u001b[0m: Interrupted by user"
     ]
    }
   ],
   "source": [
    "try :\n",
    "    a =input()\n",
    "    test(a)\n",
    "except Exception as e:\n",
    "    print ('calling my raise',e)"
   ]
  },
  {
   "cell_type": "code",
   "execution_count": null,
   "id": "a9ee6eaa",
   "metadata": {},
   "outputs": [],
   "source": [
    "class car:\n",
    "    def __init__(self,a,b,c):\n",
    "        self.a=a\n",
    "        self.b=b\n",
    "        self.c=c\n",
    "        \n",
    "    def test1(self):\n",
    "        print('this is a test1 function')\n",
    "\n",
    "innova=car(1,2,3)\n",
    "\n",
    "class car1:\n",
    "    def __init__(self,a,b,c):\n",
    "        self.a=a\n",
    "        self.b=b\n",
    "        self.c=input()\n",
    "        \n",
    "    def test1(self):\n",
    "        print('this is a test1 function')\n",
    "\n",
    "audi = car1(1,2,3)\n",
    "\n",
    "\n",
    "audi.c\n",
    "\n",
    "class car3:\n",
    "    def __init__(self,e,f,cg):\n",
    "        self.a=e\n",
    "        self.b=f\n",
    "        self.c=cg\n",
    "        \n",
    "    def test1(self):\n",
    "        print('this is a test1 function')\n",
    "\n",
    "jeep=car3(1,2,3)\n",
    "\n",
    "jeep.a\n",
    "\n",
    "jeep.test1()\n",
    "\n",
    "class car4:\n",
    "    def test(self,b,c):\n",
    "        print('this is test one')\n",
    "\n",
    "benz=car4()\n",
    "\n",
    "benz.test(1,2)\n",
    "\n",
    "dicto = {'a':'A','b':'B',\"c\":'C','d':1}\n",
    "import logging as lg\n",
    "lg.basicConfig(filename='dict.log')\n",
    "class dict_parser:\n",
    "    def __init__(self,dicto):\n",
    "        self.dicto=dicto\n",
    "    def get_keys(self):\n",
    "        try:\n",
    "            return dicto.keys()\n",
    "        except:\n",
    "            self.logger('enter dicto')\n",
    "    def get_values(self):\n",
    "        return dicto.values()\n",
    "    def exception1(self):\n",
    "        if type(self.dicto)!= dict:\n",
    "            raise ('its not a dict')\n",
    "    def new_pair(self):\n",
    "        key1=eval(input('key'))\n",
    "        val1=eval(input('val'))\n",
    "        self.dicto[key1]=val1\n",
    "        return self.dicto\n",
    "       \n",
    "    def user(self):\n",
    "        self.dicto={}\n",
    "        counter=0\n",
    "        while counter <4:\n",
    "            key = input()\n",
    "            value = input()\n",
    "            self.dicto[key]=value\n",
    "            counter = counter+1\n",
    "        return self.dicto\n",
    "       \n",
    "\n",
    "dicto1 = dict_parser(dicto)\n",
    "\n",
    "dicto1.get_keys()\n",
    "\n",
    "dicto1.get_values()\n",
    "\n",
    "dicto1.exception1()\n",
    "\n",
    "dicto1.user()\n",
    "\n",
    "dicto1.new_pair()\n",
    "\n",
    "dicto1.user()\n",
    "\n",
    "# child class:-\n",
    "\n",
    "class xyz:\n",
    "    def __init__(self,a,b,c):\n",
    "        self.a=a\n",
    "        self.b=b\n",
    "        self.c=c\n",
    "        \n",
    "    def test1(self):\n",
    "        print('this is a test1 function')\n",
    "\n",
    "class xyz1(xyz):\n",
    "    pass\n",
    "\n",
    "p = xyz(1,2,3)\n",
    "\n",
    "q=xyz1(4,5,6)\n",
    "\n",
    "q.test1()\n",
    "\n",
    "q.a\n",
    "\n",
    "class xyz:\n",
    "    def __init__(self,a,b,c):\n",
    "        self.a=a\n",
    "        self.b=b\n",
    "        self.c=c\n",
    "        \n",
    "    def test1(self):\n",
    "        print('this is a test1 function')\n",
    "class xyz1(xyz):\n",
    "    def test1(self):\n",
    "        print('this is xyz1')\n",
    "\n",
    "g=xyz1(7,8,9)\n",
    "\n",
    "g.test1()  # this will override\n",
    "\n",
    "# multilevel inheritence class\n",
    "\n",
    "class xyz:\n",
    "    def __init__(self,a,b,c):\n",
    "        self.a=a\n",
    "        self.b=b\n",
    "        self.c=c\n",
    "        \n",
    "    def test1(self):\n",
    "        print('this is a test1 function')\n",
    "class xyz1(xyz):\n",
    "    def __init__(self,a1,b1,c1):\n",
    "        self.a1=a1\n",
    "        self.b1=b1\n",
    "        self.c1=c1\n",
    "    def test1(self):\n",
    "        print('this is xyz1')\n",
    "\n",
    "\n",
    "\n",
    "g=xyz1(7,8,9)\n",
    "\n",
    "class xyz:\n",
    "    def __init__(self,a,b,c):\n",
    "        self.a=a\n",
    "        self.b=b\n",
    "        self.c=c\n",
    "        \n",
    "    def test1(self):\n",
    "        print('this is a test1 function')\n",
    "class xyz1(xyz):\n",
    "    def __init__(self,a1,b1,c1):\n",
    "        self.a1=a1\n",
    "        self.b1=b1\n",
    "        self.c1=c1\n",
    "    def test1(self):\n",
    "        print('this is xyz1')\n",
    "class xyz2(xyz1):\n",
    "    def test2(self):\n",
    "        print('this is test2 function')\n",
    "\n",
    "\n",
    "asd=xyz2(1,2,3)    # everything inherited to grand child\n",
    "\n",
    "# inheritence\n",
    "\n",
    "class xyz:\n",
    "    def __init__(self,a,b,c):\n",
    "        self.a=a\n",
    "        self.b=b\n",
    "        self.c=c\n",
    "        \n",
    "    def test1(self):\n",
    "        print('this is a test1 function')\n",
    "class xyz1:\n",
    "    def __init__(self,a1,b1,c1):\n",
    "        self.a1=a1\n",
    "        self.b1=b1\n",
    "        self.c1=c1\n",
    "    def test1(self):\n",
    "        print('this is xyz1')      \n",
    "class child(xyz,xyz1):   \n",
    "    pass\n",
    "\n",
    "m=child(1,2,3)      # asking a,b,c not asking a1,b1,c1 given xyz first so a,b,c\n",
    "\n",
    "class xyz:\n",
    "    def __init__(self,a,b,c):      # for getting all variables in child one\n",
    "        self.a=a\n",
    "        self.b=b\n",
    "        self.c=c\n",
    "        \n",
    "    def test1(self):\n",
    "        print('this is a test1 function')\n",
    "class xyz1:\n",
    "    def __init__(self,a1,b1,c1):\n",
    "        self.a1=a1\n",
    "        self.b1=b1\n",
    "        self.c1=c1\n",
    "    def test1(self):\n",
    "        print('this is xyz1')\n",
    "        \n",
    "class child1(xyz,xyz1):\n",
    "    def __init__(self, *args, **kwargs):\n",
    "        xyz.__init__(self,*args)\n",
    "        xyz1.__init__(self,**kwargs)\n",
    "            \n",
    "\n",
    "n=child1(1,2,3,a1=12,b1=25,c1=856)\n",
    "\n",
    "import logging \n",
    "\n",
    "logging.basicConfig(filename=\"list.log\",level=logging.DEBUG,format=\"%(asctime)s %(levelname)s %(message)s\",filemode='w')\n",
    "\n",
    "\n",
    "class File:\n",
    "    def __init__(self,filename):\n",
    "        logging.info(\"Creating file instance varibale\")\n",
    "        self.file = filename\n",
    "\n",
    "    def read(self):\n",
    "        logging.info(\"executing read method\")\n",
    "        try:\n",
    "            with open(f\"{self.file}.txt\",'r') as f:\n",
    "                data = f.read()\n",
    "                return data\n",
    "        except FileNotFoundError as e:\n",
    "            logging.error(\"Error occured while opening the file \")\n",
    "            logging.exception(f\"Error is {e}\")\n",
    "\n",
    "    def write(self,data):\n",
    "        logging.info(\"executing write method\")\n",
    "        try:\n",
    "            with open(f\"{self.file}.txt\",'w') as f:\n",
    "                data = f.write(data)\n",
    "        except FileNotFoundError as e:\n",
    "            logging.error(\"Something is going wrong\")\n",
    "            \n",
    "obj = File(\"abc\")\n",
    "\n",
    "\n",
    "class xyz:\n",
    "    def __init__(self):     \n",
    "        self.a= 4\n",
    "        self.b= 5\n",
    "        self.c= 6\n",
    "        \n",
    "    def test1(self):\n",
    "        print('this is a test1 function')\n",
    "\n",
    "u=xyz()\n",
    "\n",
    "u.c\n",
    "\n",
    "class xyz:\n",
    "    def __init__(self):     \n",
    "        self.a= 4\n",
    "class xyz1(xyz):\n",
    "    def __init__(self):     \n",
    "        self.a= 7       \n",
    "\n",
    "v=xyz()\n",
    "\n",
    "u=xyz1()\n",
    "\n",
    "v.a\n",
    "\n",
    "u.a\n",
    "\n",
    "class xyz:\n",
    "    def __init__(self):     \n",
    "        self.a= 4\n",
    "class xyz1(xyz):\n",
    "    def __init__(self):\n",
    "        xyz.__init__(self)\n",
    "        self.a= 7   \n",
    "\n",
    "v=xyz()\n",
    "\n",
    "u=xyz1()\n",
    "\n",
    "v.a\n",
    "\n",
    "\n",
    "u.a\n",
    "\n",
    "# ENCAPSULATION\n",
    "\n",
    "class xyz:\n",
    "    def __init__(self):      #protected variable\n",
    "        self._a= 4\n",
    "class xyz1(xyz):\n",
    "    def __init__(self):     \n",
    "        self._a= 7  \n",
    "v=xyz()\n",
    "u=xyz1()\n",
    "\n",
    "v.a\n",
    "\n",
    "v._a\n",
    "\n",
    "class xyz:\n",
    "    def __init__(self):      #private variable\n",
    "        self.__a= 4\n",
    "class xyz1(xyz):\n",
    "    def __init__(self):     \n",
    "        self.__a= 7  \n",
    "v=xyz()\n",
    "u=xyz1()\n",
    "\n",
    "v.__a\n",
    "\n",
    "class xyz:\n",
    "    def __init__(self,a,b,c):     \n",
    "        self._a= a\n",
    "        self.__b= b\n",
    "        self.c= c\n",
    "v= xyz(2,3,4)\n",
    "\n",
    "v._a            #protected\n",
    "\n",
    "v._xyz__b        #private\n",
    "\n",
    "v.c              #public\n",
    "\n",
    "class xyz:\n",
    "    def __init__(self,a,b,c):\n",
    "        self._a=a\n",
    "        self.__b=b\n",
    "        self.c=c\n",
    "        \n",
    "\n",
    "class xyz1(xyz):\n",
    "    pass\n",
    "v= xyz(2,3,4) \n",
    "u=xyz1(5,6,7)\n",
    "       \n",
    "\n",
    "u.c\n",
    "\n",
    "u._a\n",
    "\n",
    "u._xyz1__b    #needed main class\n",
    "\n",
    "u._xyz__b      #private needs only main class name\n",
    "\n",
    "class bonuscalc:\n",
    "    def __init__(self,empid,emprating):\n",
    "        self.empid=empid\n",
    "        self.emprating=emprating\n",
    "        self.__bonusA=\"70%\"\n",
    "        self.__bonusB=\"60%\"\n",
    "        self.__bonusC=\"40%\"\n",
    "    def bonuscalc(self):\n",
    "        if self.emprating == \"A\":\n",
    "            bonus=self.__bonusA\n",
    "            return bonus\n",
    "        elif self.emprating == \"B\":            \n",
    "            bonus=self.__bonusA\n",
    "            return bonus\n",
    "           \n",
    "        else:\n",
    "           \n",
    "            bonus=self.__bonusC\n",
    "            return bonus\n",
    "\n",
    "pk=bonuscalc(123,\"C\")\n",
    "\n",
    "pk.bonuscalc()\n",
    "\n",
    "pk.__bonusC = \"80\"  #no error but it does take new one without class\n",
    "\n",
    "pk._bonuscalc__bonusC\n",
    "\n",
    "pk._bonuscalc__bonusC=\"90\"    \n",
    "\n",
    "pk._bonuscalc__bonusC\n",
    "\n",
    "# static variable\n",
    "\n",
    "class xyz:\n",
    "    class_varaiable= 2567         #static variable\n",
    "    def __init__(self,a,b,c):     \n",
    "        self.a= a\n",
    "        self.b= b\n",
    "        self.c= c\n",
    "u =xyz(2,3,4) \n",
    "v=xyz(5,6,7)\n",
    "\n",
    "u.class_varaiable\n",
    "\n",
    "xyz.class_varaiable\n",
    "\n",
    "u.class_varaiable=898\n",
    "\n",
    "u.class_varaiable\n",
    "\n",
    "v.class_varaiable\n",
    "\n",
    "xyz.class_varaiable=7777\n",
    "\n",
    "u.class_varaiable\n",
    "\n",
    "v.class_varaiable\n",
    "\n",
    "# to have static function\n",
    "\n",
    "class xyz:\n",
    "    class_varaiable= 2567         \n",
    "    def __init__(self,a,b,c):     \n",
    "        self.a= a\n",
    "        self.b= b\n",
    "        self.c= c\n",
    "    @staticmethod\n",
    "    def test():\n",
    "        print('static method test')\n",
    "u= xyz(1,2,3)\n",
    "\n",
    "u.test()\n",
    "\n",
    "xyz.test()\n",
    "\n",
    "class xyz:\n",
    "    class_varaiable= 2567         \n",
    "    def __init__(self,a,b,c):     \n",
    "        self.a= a\n",
    "        self.b= b\n",
    "        self.c= c\n",
    "   \n",
    "    def test():\n",
    "        print('static method test')\n",
    "   \n",
    "u= xyz(1,2,3)\n",
    "\n",
    "u.test()    # as no decorator showing error as this is class function not an instance/object function\n",
    "\n",
    "class xyz23:\n",
    "    class_varaiable= 2567         \n",
    "    def __init__(self,a,b,c):     \n",
    "        self.a= a\n",
    "        self.b= b\n",
    "        self.c= c\n",
    "   \n",
    "    def test(self):\n",
    "        print(' method test')\n",
    "    @staticmethod\n",
    "    def test1():\n",
    "        print('static method test')\n",
    "v= xyz(1,2,3)\n",
    "\n",
    "xyz23.test()   #unable to access bcoz it is instance function not class function\n",
    "\n",
    "xyz23.test1()    # can access bcoz of class function\n",
    "\n"
   ]
  }
 ],
 "metadata": {
  "kernelspec": {
   "display_name": "Python 3 (ipykernel)",
   "language": "python",
   "name": "python3"
  },
  "language_info": {
   "codemirror_mode": {
    "name": "ipython",
    "version": 3
   },
   "file_extension": ".py",
   "mimetype": "text/x-python",
   "name": "python",
   "nbconvert_exporter": "python",
   "pygments_lexer": "ipython3",
   "version": "3.9.7"
  }
 },
 "nbformat": 4,
 "nbformat_minor": 5
}
